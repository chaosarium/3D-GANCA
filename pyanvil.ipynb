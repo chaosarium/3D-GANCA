{
 "cells": [
  {
   "cell_type": "code",
   "execution_count": 5,
   "metadata": {},
   "outputs": [],
   "source": [
    "from PyAnvilEditor.pyanvil import World, BlockState\n",
    "opened_world = World('dataset/minecraft_worlds/Drehmal v2.1.1 PRIMORDIAL minified', save_location=None, write=False, debug=False)"
   ]
  },
  {
   "cell_type": "code",
   "execution_count": 6,
   "metadata": {},
   "outputs": [
    {
     "data": {
      "text/plain": [
       "<PyAnvilEditor.pyanvil.world.World at 0x7ff358e07e20>"
      ]
     },
     "execution_count": 6,
     "metadata": {},
     "output_type": "execute_result"
    }
   ],
   "source": [
    "opened_world"
   ]
  },
  {
   "cell_type": "code",
   "execution_count": 7,
   "metadata": {},
   "outputs": [
    {
     "data": {
      "text/plain": [
       "<PyAnvilEditor.pyanvil.world.Chunk at 0x7ff348df5fa0>"
      ]
     },
     "execution_count": 7,
     "metadata": {},
     "output_type": "execute_result"
    }
   ],
   "source": [
    "opened_world.get_chunk((0,0))"
   ]
  },
  {
   "cell_type": "code",
   "execution_count": 8,
   "metadata": {},
   "outputs": [
    {
     "data": {
      "text/plain": [
       "{(0, 0): <PyAnvilEditor.pyanvil.world.Chunk at 0x7ff348df5fa0>}"
      ]
     },
     "execution_count": 8,
     "metadata": {},
     "output_type": "execute_result"
    }
   ],
   "source": [
    "opened_world.chunks"
   ]
  },
  {
   "cell_type": "code",
   "execution_count": 9,
   "metadata": {},
   "outputs": [
    {
     "data": {
      "text/plain": [
       "'Block(BlockState(minecraft:stone, {}), 0, 0)'"
      ]
     },
     "execution_count": 9,
     "metadata": {},
     "output_type": "execute_result"
    }
   ],
   "source": [
    "str(opened_world.get_block((4,60,421)))"
   ]
  },
  {
   "cell_type": "code",
   "execution_count": 1,
   "metadata": {},
   "outputs": [
    {
     "name": "stdout",
     "output_type": "stream",
     "text": [
      "{1: <class 'PyAnvilEditor.pyanvil.nbt.create_simple_nbt_class.<locals>.DataNBTTag'>, 2: <class 'PyAnvilEditor.pyanvil.nbt.create_simple_nbt_class.<locals>.DataNBTTag'>, 3: <class 'PyAnvilEditor.pyanvil.nbt.create_simple_nbt_class.<locals>.DataNBTTag'>, 4: <class 'PyAnvilEditor.pyanvil.nbt.create_simple_nbt_class.<locals>.DataNBTTag'>, 5: <class 'PyAnvilEditor.pyanvil.nbt.create_simple_nbt_class.<locals>.DataNBTTag'>, 6: <class 'PyAnvilEditor.pyanvil.nbt.create_simple_nbt_class.<locals>.DataNBTTag'>, 7: <class 'PyAnvilEditor.pyanvil.nbt.create_array_nbt_class.<locals>.ArrayNBTTag'>, 8: <class 'PyAnvilEditor.pyanvil.nbt.create_string_nbt_class.<locals>.DataNBTTag'>, 9: <class 'PyAnvilEditor.pyanvil.nbt.create_list_nbt_class.<locals>.ListNBTTag'>, 10: <class 'PyAnvilEditor.pyanvil.nbt.create_compund_nbt_class.<locals>.CompundNBTTag'>, 11: <class 'PyAnvilEditor.pyanvil.nbt.create_array_nbt_class.<locals>.ArrayNBTTag'>, 12: <class 'PyAnvilEditor.pyanvil.nbt.create_array_nbt_class.<locals>.ArrayNBTTag'>}\n"
     ]
    }
   ],
   "source": [
    "import PyAnvilEditor.pyanvil.nbt as nbt"
   ]
  },
  {
   "cell_type": "code",
   "execution_count": 2,
   "metadata": {},
   "outputs": [
    {
     "data": {
      "text/plain": [
       "CompundTag:  size 1 = {CompundTag: Data size 42 = {IntTag 'WanderingTraderSpawnChance' = 75, DoubleTag 'BorderCenterZ' = 0.0, ByteTag 'Difficulty' = 2, LongTag 'BorderSizeLerpTime' = 0, ByteTag 'raining' = 0, LongTag 'Time' = 176533919, IntTag 'GameType' = 2, ListTag: ServerBrands size 5 = [StringTag: None = 'vanilla', StringTag: None = 'fabric', StringTag: None = 'forge', StringTag: None = 'Spigot', StringTag: None = 'Paper'], DoubleTag 'BorderCenterX' = 0.0, DoubleTag 'BorderDamagePerBlock' = 0.20000000298023224, DoubleTag 'BorderWarningBlocks' = 5.0, CompundTag: WorldGenSettings size 4 = {ByteTag 'bonus_chest' = 0, LongTag 'seed' = 27594263, ByteTag 'generate_features' = 1, CompundTag: dimensions size 3 = {CompundTag: minecraft:overworld size 2 = {CompundTag: generator size 4 = {StringTag: settings = 'minecraft:overworld', LongTag 'seed' = 27594263, CompundTag: biome_source size 3 = {LongTag 'seed' = 27594263, ByteTag 'large_biomes' = 0, StringTag: type = 'minecraft:vanilla_layered'}], StringTag: type = 'minecraft:noise'}], StringTag: type = 'minecraft:overworld'}], CompundTag: minecraft:the_nether size 2 = {CompundTag: generator size 4 = {StringTag: settings = 'minecraft:nether', LongTag 'seed' = 27594263, CompundTag: biome_source size 3 = {LongTag 'seed' = 27594263, StringTag: preset = 'minecraft:nether', StringTag: type = 'minecraft:multi_noise'}], StringTag: type = 'minecraft:noise'}], StringTag: type = 'minecraft:the_nether'}], CompundTag: minecraft:the_end size 2 = {CompundTag: generator size 4 = {StringTag: settings = 'minecraft:end', LongTag 'seed' = 27594263, CompundTag: biome_source size 2 = {LongTag 'seed' = 27594263, StringTag: type = 'minecraft:the_end'}], StringTag: type = 'minecraft:noise'}], StringTag: type = 'minecraft:the_end'}]}]}], CompundTag: DragonFight size 5 = {CompundTag: ExitPortalLocation size 3 = {IntTag 'X' = 0, IntTag 'Y' = 63, IntTag 'Z' = 0}], ListTag: Gateways size 20 = [IntTag 'None' = 19, IntTag 'None' = 1, IntTag 'None' = 5, IntTag 'None' = 3, IntTag 'None' = 8, IntTag 'None' = 0, IntTag 'None' = 11, IntTag 'None' = 16, IntTag 'None' = 13, IntTag 'None' = 14, IntTag 'None' = 12, IntTag 'None' = 9, IntTag 'None' = 10, IntTag 'None' = 15, IntTag 'None' = 7, IntTag 'None' = 2, IntTag 'None' = 17, IntTag 'None' = 6, IntTag 'None' = 4, IntTag 'None' = 18], ByteTag 'DragonKilled' = 0, ByteTag 'PreviouslyKilled' = 1, IntArray: Dragon size 4 = [1542242461, 711085920, -1506866486, -1356169779]}], DoubleTag 'BorderSizeLerpTarget' = 60000000.0, CompundTag: Version size 3 = {ByteTag 'Snapshot' = 0, IntTag 'Id' = 2584, StringTag: Name = '1.16.4'}], LongTag 'DayTime' = 0, ByteTag 'initialized' = 1, ByteTag 'WasModded' = 1, ByteTag 'allowCommands' = 1, IntTag 'WanderingTraderSpawnDelay' = 16800, CompundTag: CustomBossEvents size 0 = {}], CompundTag: GameRules size 33 = {StringTag: doFireTick = 'false', StringTag: maxCommandChainLength = '65536', StringTag: fireDamage = 'true', StringTag: reducedDebugInfo = 'false', StringTag: disableElytraMovementCheck = 'false', StringTag: announceAdvancements = 'true', StringTag: drowningDamage = 'true', StringTag: commandBlockOutput = 'false', StringTag: forgiveDeadPlayers = 'true', StringTag: doMobSpawning = 'true', StringTag: maxEntityCramming = '10000', StringTag: disableRaids = 'false', StringTag: doWeatherCycle = 'true', StringTag: doDaylightCycle = 'false', StringTag: showDeathMessages = 'true', StringTag: doTileDrops = 'true', StringTag: universalAnger = 'false', StringTag: doInsomnia = 'false', StringTag: doImmediateRespawn = 'false', StringTag: naturalRegeneration = 'true', StringTag: doMobLoot = 'true', StringTag: fallDamage = 'true', StringTag: keepInventory = 'true', StringTag: doEntityDrops = 'true', StringTag: doLimitedCrafting = 'false', StringTag: mobGriefing = 'false', StringTag: randomTickSpeed = '3', StringTag: spawnRadius = '1', StringTag: doTraderSpawning = 'true', StringTag: logAdminCommands = 'false', StringTag: spectatorsGenerateChunks = 'true', StringTag: sendCommandFeedback = 'true', StringTag: doPatrolSpawning = 'true'}], IntTag 'SpawnY' = 215, IntTag 'rainTime' = 1, IntTag 'thunderTime' = 1, IntTag 'SpawnZ' = -302, ByteTag 'hardcore' = 0, IntArray: WanderingTraderId size 4 = [1726700547, 1625309686, -1765893850, -737054900], ByteTag 'DifficultyLocked' = 0, IntTag 'SpawnX' = 26461, IntTag 'clearWeatherTime' = 8822049, ByteTag 'thundering' = 0, FloatTag 'SpawnAngle' = 0.0, IntTag 'version' = 19133, DoubleTag 'BorderSafeZone' = 5.0, LongTag 'LastPlayed' = 1606866929838, DoubleTag 'BorderWarningTime' = 15.0, ListTag: ScheduledEvents size 0 = [], StringTag: LevelName = 'Drehmal v2.1.1 PRIMORDIAL', DoubleTag 'BorderSize' = 60000000.0, IntTag 'DataVersion' = 2584, CompundTag: DataPacks size 2 = {ListTag: Enabled size 12 = [StringTag: None = 'vanilla', StringTag: None = 'file/drehmalloot', StringTag: None = 'file/bukkit', StringTag: None = 'file/discoveries_datapack.zip', StringTag: None = 'file/weapons_datapack.zip', StringTag: None = 'file/mob_scaling.zip', StringTag: None = 'file/primordial_datapack.zip', StringTag: None = 'file/towns_datapack.zip', StringTag: None = 'file/drehmal_general.zip', StringTag: None = 'file/weapon_abilities.zip', StringTag: None = 'file/drehmal_bosses.zip', StringTag: None = 'file/BookFixer.zip'], ListTag: Disabled size 0 = []}]}]}]"
      ]
     },
     "execution_count": 2,
     "metadata": {},
     "output_type": "execute_result"
    }
   ],
   "source": [
    "import PyAnvilEditor.pyanvil.stream as stream, gzip\n",
    "with gzip.open('dataset/minecraft_worlds/Drehmal v2.1.1 PRIMORDIAL/level.dat', mode='rb') as level:\n",
    "    # Read the file in to an input stream\n",
    "    in_stream = stream.InputStream(level.read())\n",
    "    # Decode the stream\n",
    "    level_data = nbt.parse_nbt(in_stream)\n",
    "    # Get the value of Data > LevelName\n",
    "    lvl_name = level_data.get(\"Data\").get(\"LevelName\").get()\n",
    "    # lvl_name is now a string containing the name of the level used\n",
    "    \n",
    "level_data"
   ]
  },
  {
   "cell_type": "code",
   "execution_count": 3,
   "metadata": {},
   "outputs": [
    {
     "data": {
      "text/plain": [
       "PyAnvilEditor.pyanvil.nbt.create_compund_nbt_class.<locals>.CompundNBTTag"
      ]
     },
     "execution_count": 3,
     "metadata": {},
     "output_type": "execute_result"
    }
   ],
   "source": [
    "type(level_data)"
   ]
  },
  {
   "cell_type": "code",
   "execution_count": 4,
   "metadata": {},
   "outputs": [
    {
     "data": {
      "text/plain": [
       "IntTag 'WanderingTraderSpawnChance' = 75"
      ]
     },
     "execution_count": 4,
     "metadata": {},
     "output_type": "execute_result"
    }
   ],
   "source": [
    "level_data.get('Data').get('WanderingTraderSpawnChance')"
   ]
  },
  {
   "cell_type": "code",
   "execution_count": 5,
   "metadata": {},
   "outputs": [],
   "source": [
    "import pickle"
   ]
  },
  {
   "cell_type": "code",
   "execution_count": 6,
   "metadata": {},
   "outputs": [
    {
     "ename": "AttributeError",
     "evalue": "Can't pickle local object 'create_compund_nbt_class.<locals>.CompundNBTTag'",
     "output_type": "error",
     "traceback": [
      "\u001b[0;31m---------------------------------------------------------------------------\u001b[0m",
      "\u001b[0;31mAttributeError\u001b[0m                            Traceback (most recent call last)",
      "\u001b[1;32m/Users/leonlu-m1/Documents/Python Programming/3D-GANCA/pyanvil.ipynb Cell 11'\u001b[0m in \u001b[0;36m<module>\u001b[0;34m\u001b[0m\n\u001b[1;32m      <a href='vscode-notebook-cell:/Users/leonlu-m1/Documents/Python%20Programming/3D-GANCA/pyanvil.ipynb#ch0000028?line=0'>1</a>\u001b[0m \u001b[39mwith\u001b[39;00m \u001b[39mopen\u001b[39m(\u001b[39m\"\u001b[39m\u001b[39mtest_level_data.pkl\u001b[39m\u001b[39m\"\u001b[39m, \u001b[39m\"\u001b[39m\u001b[39mwb\u001b[39m\u001b[39m\"\u001b[39m) \u001b[39mas\u001b[39;00m f:\n\u001b[0;32m----> <a href='vscode-notebook-cell:/Users/leonlu-m1/Documents/Python%20Programming/3D-GANCA/pyanvil.ipynb#ch0000028?line=1'>2</a>\u001b[0m     pickle\u001b[39m.\u001b[39;49mdump(level_data, f)\n",
      "\u001b[0;31mAttributeError\u001b[0m: Can't pickle local object 'create_compund_nbt_class.<locals>.CompundNBTTag'"
     ]
    }
   ],
   "source": [
    "with open(\"test_level_data.pkl\", \"wb\") as f:\n",
    "    pickle.dump(level_data, f)"
   ]
  },
  {
   "cell_type": "markdown",
   "metadata": {},
   "source": [
    "---"
   ]
  },
  {
   "cell_type": "code",
   "execution_count": 30,
   "metadata": {},
   "outputs": [],
   "source": [
    "created_compoundtag = nbt.create_compund_nbt_class(10)"
   ]
  },
  {
   "cell_type": "code",
   "execution_count": 31,
   "metadata": {},
   "outputs": [
    {
     "data": {
      "text/plain": [
       "PyAnvilEditor.pyanvil.nbt.create_compund_nbt_class.<locals>.CompundNBTTag"
      ]
     },
     "execution_count": 31,
     "metadata": {},
     "output_type": "execute_result"
    }
   ],
   "source": [
    "created_compoundtag"
   ]
  },
  {
   "cell_type": "code",
   "execution_count": 32,
   "metadata": {},
   "outputs": [
    {
     "ename": "AttributeError",
     "evalue": "Can't pickle local object 'create_compund_nbt_class.<locals>.CompundNBTTag'",
     "output_type": "error",
     "traceback": [
      "\u001b[0;31m---------------------------------------------------------------------------\u001b[0m",
      "\u001b[0;31mAttributeError\u001b[0m                            Traceback (most recent call last)",
      "\u001b[1;32m/Users/leonlu-m1/Documents/Python Programming/3D-GANCA/pyanvil.ipynb Cell 15'\u001b[0m in \u001b[0;36m<module>\u001b[0;34m\u001b[0m\n\u001b[1;32m      <a href='vscode-notebook-cell:/Users/leonlu-m1/Documents/Python%20Programming/3D-GANCA/pyanvil.ipynb#ch0000045?line=0'>1</a>\u001b[0m \u001b[39mwith\u001b[39;00m \u001b[39mopen\u001b[39m(\u001b[39m\"\u001b[39m\u001b[39mtest_level_data.pkl\u001b[39m\u001b[39m\"\u001b[39m, \u001b[39m\"\u001b[39m\u001b[39mwb\u001b[39m\u001b[39m\"\u001b[39m) \u001b[39mas\u001b[39;00m f:\n\u001b[0;32m----> <a href='vscode-notebook-cell:/Users/leonlu-m1/Documents/Python%20Programming/3D-GANCA/pyanvil.ipynb#ch0000045?line=1'>2</a>\u001b[0m     pickle\u001b[39m.\u001b[39;49mdump(created_compoundtag, f)\n",
      "\u001b[0;31mAttributeError\u001b[0m: Can't pickle local object 'create_compund_nbt_class.<locals>.CompundNBTTag'"
     ]
    }
   ],
   "source": [
    "with open(\"test_level_data.pkl\", \"wb\") as f:\n",
    "    pickle.dump(created_compoundtag, f)"
   ]
  },
  {
   "cell_type": "code",
   "execution_count": 58,
   "metadata": {},
   "outputs": [],
   "source": [
    "parsers2 = {}\n",
    "\n",
    "class CompundNBTTag2:\n",
    "\n",
    "    clazz_id = 10\n",
    "\n",
    "    @classmethod\n",
    "    def parse(cls, stream, name):\n",
    "        tag = cls(tag_name=name)\n",
    "        while stream.peek() != 0: # end tag\n",
    "            tag.add_child(parse_nbt(stream))\n",
    "        stream.read(1) # get rid of the end tag\n",
    "        return tag\n",
    "\n",
    "    def __init__(self, tag_name='None', children=[]):\n",
    "        self.tag_name = tag_name\n",
    "        self.children = { c.tag_name: c for c in children[:] }\n",
    "    \n",
    "    def add_child(self, tag):\n",
    "        self.children[tag.tag_name] = tag\n",
    "\n",
    "    def get(self, name):\n",
    "        return self.children[name]\n",
    "\n",
    "    # def get(self):\n",
    "    #     return { n: v.get() for n, v in self.children }\n",
    "\n",
    "    def name(self):\n",
    "        return self.tag_name\n",
    "\n",
    "    def has(self, name):\n",
    "        return name in self.children\n",
    "\n",
    "    def to_dict(self):\n",
    "        nd = {}\n",
    "        for p in self.children:\n",
    "            nd[p] = self.children[p].get()\n",
    "        return nd\n",
    "\n",
    "    def print(self, indent=''):\n",
    "        print(indent + 'Compound: ' + self.tag_name + ' size ' + str(len(self.children)))\n",
    "        for c in self.children:\n",
    "            self.children[c].print(indent + '  ')\n",
    "\n",
    "    def serialize(self, stream, include_name=True):\n",
    "        if include_name:\n",
    "            stream.write(type(self).clazz_id.to_bytes(1, byteorder='big', signed=False))\n",
    "            write_string(stream, self.tag_name)\n",
    "        \n",
    "        for tag_name in self.children:\n",
    "            self.children[tag_name].serialize(stream, include_name=True)\n",
    "        \n",
    "        stream.write((0).to_bytes(1, byteorder='big', signed=False))\n",
    "\n",
    "    def clone(self):\n",
    "        return type(self)(tag_name=self.tag_name, children=[v.clone() for k, v in self.children.items()])\n",
    "\n",
    "    def __repr__(self):\n",
    "        str_dat = ', '.join([c.__repr__() for name, c in self.children.items()])\n",
    "        return f'CompundTag: {self.tag_name} size {str(len(self.children))} = {{{str_dat}}}]'\n",
    "\n",
    "    def __eq__(self, other):\n",
    "        passed = True\n",
    "        for name, v in self.children.items():\n",
    "            if name not in other.children:\n",
    "                passed = False\n",
    "            elif other.children[name] != v:\n",
    "                passed = False\n",
    "        return self.tag_name == other.tag_name and \\\n",
    "            len(self.children) == len(other.children) and \\\n",
    "            passed\n",
    "    \n",
    "parsers2[10] = CompundNBTTag2          \n",
    "    \n",
    "# return CompundNBTTag2"
   ]
  },
  {
   "cell_type": "code",
   "execution_count": 59,
   "metadata": {},
   "outputs": [
    {
     "data": {
      "text/plain": [
       "{10: __main__.CompundNBTTag2}"
      ]
     },
     "execution_count": 59,
     "metadata": {},
     "output_type": "execute_result"
    }
   ],
   "source": [
    "created_compoundtag2 = CompundNBTTag2()\n",
    "parsers2"
   ]
  },
  {
   "cell_type": "code",
   "execution_count": 60,
   "metadata": {},
   "outputs": [],
   "source": [
    "with open(\"test_level_data2.pkl\", \"wb\") as f:\n",
    "    pickle.dump(created_compoundtag2, f)"
   ]
  },
  {
   "cell_type": "markdown",
   "metadata": {},
   "source": [
    "---"
   ]
  },
  {
   "cell_type": "code",
   "execution_count": 70,
   "metadata": {},
   "outputs": [],
   "source": [
    "def foo(bar, baz) :\n",
    "    def closure(waldo) :\n",
    "        return baz * waldo\n",
    "    return closure"
   ]
  },
  {
   "cell_type": "code",
   "execution_count": 71,
   "metadata": {},
   "outputs": [
    {
     "data": {
      "text/plain": [
       "12"
      ]
     },
     "execution_count": 71,
     "metadata": {},
     "output_type": "execute_result"
    }
   ],
   "source": [
    "foo(2, 3)(4)"
   ]
  },
  {
   "cell_type": "code",
   "execution_count": 72,
   "metadata": {},
   "outputs": [],
   "source": [
    "class foo(object):\n",
    "    def __init__(self, bar, baz):\n",
    "        self.baz = baz\n",
    "    def __call__(self,waldo):\n",
    "        return self.baz * waldo"
   ]
  },
  {
   "cell_type": "code",
   "execution_count": 73,
   "metadata": {},
   "outputs": [
    {
     "data": {
      "text/plain": [
       "12"
      ]
     },
     "execution_count": 73,
     "metadata": {},
     "output_type": "execute_result"
    }
   ],
   "source": [
    "foo(2, 3)(4)"
   ]
  }
 ],
 "metadata": {
  "interpreter": {
   "hash": "e66b00b41b68bf08c2b0b1f94833f1eccd5605726416a19eb3a3e33f1411272c"
  },
  "kernelspec": {
   "display_name": "Python 3.8.12 ('world-gan-3')",
   "language": "python",
   "name": "python3"
  },
  "language_info": {
   "codemirror_mode": {
    "name": "ipython",
    "version": 3
   },
   "file_extension": ".py",
   "mimetype": "text/x-python",
   "name": "python",
   "nbconvert_exporter": "python",
   "pygments_lexer": "ipython3",
   "version": "3.8.12"
  },
  "orig_nbformat": 4
 },
 "nbformat": 4,
 "nbformat_minor": 2
}
