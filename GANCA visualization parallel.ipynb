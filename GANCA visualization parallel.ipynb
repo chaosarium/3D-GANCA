{
 "cells": [
  {
   "cell_type": "markdown",
   "id": "afa32e83",
   "metadata": {},
   "source": [
    "# GANCA Results Visualization"
   ]
  },
  {
   "cell_type": "markdown",
   "id": "551953cd",
   "metadata": {},
   "source": [
    "\n",
    "## Snapshot to Voxel\n",
    "\n",
    "Code used for turning snapshots in the generation into voxel plots"
   ]
  },
  {
   "cell_type": "code",
   "execution_count": 1,
   "id": "c1021fc0-96f7-417d-ad2f-16a0f72a3d83",
   "metadata": {},
   "outputs": [],
   "source": [
    "# import stuff\n",
    "\n",
    "import visualise_helper\n",
    "import utils\n",
    "%load_ext autoreload\n",
    "from tqdm.notebook import tqdm\n",
    "%autoreload 2\n",
    "\n",
    "import numpy as np\n",
    "import sys\n",
    "import os\n",
    "import matplotlib.pyplot as plt\n",
    "\n",
    "from loguru import logger as gurulogger\n",
    "gurulogger.remove()\n",
    "gurulogger.add(sys.stdout, colorize=True, format=\"<blue>{time}</blue> <level>{message}</level>\")\n",
    "gurulogger.level(\"INFO\", color=\"<red><bold>\")\n",
    "\n",
    "\n",
    "BLOCK2VEC_OUT_PATH = 'output/block2vec saves/block2vec 64 dim locked air/'\n",
    "NUM_WORKERS = int(os.cpu_count() / 2)\n",
    "\n",
    "# disable plt showing plots in notebook\n",
    "plt.ioff()\n",
    "%matplotlib agg\n",
    "%matplotlib agg"
   ]
  },
  {
   "cell_type": "code",
   "execution_count": 2,
   "id": "7b18d743-5079-47fd-9480-b7c1607fd2a6",
   "metadata": {},
   "outputs": [],
   "source": [
    "embedding, mcid2block, block2embeddingidx, embeddingidx2block, block2mcid = utils.get_embedding_info(BLOCK2VEC_OUT_PATH)\n",
    "converter = utils.DataConverter(embedding, mcid2block, block2embeddingidx, embeddingidx2block, block2mcid)"
   ]
  },
  {
   "cell_type": "code",
   "execution_count": 3,
   "id": "29768ede-643a-49a4-b2dc-69d6ab64798e",
   "metadata": {},
   "outputs": [],
   "source": [
    "def visualize_snapshots_in_path(\n",
    "    min_epoch = 0,\n",
    "    max_epoch = 16, \n",
    "    snapshots_folder_path = 'lightning_logs/GANCA/version_15/gen_snapshots', \n",
    "    n_cols = 4,\n",
    "    explode_world=False,\n",
    "    trim_world=False,\n",
    "    no_air = True,\n",
    "    alpha = True,\n",
    "    world = True,\n",
    "    explode_alpha = True,\n",
    "    trim_alpha = True,\n",
    "    metric='euclidean',\n",
    "):\n",
    "\n",
    "    if world:\n",
    "        # Logged progress per epoch to image\n",
    "        for i in tqdm(range(min_epoch, max_epoch), desc = 'world states loop'):\n",
    "            loaded = np.load(snapshots_folder_path + f'/epoch_{i}.npy')\n",
    "            fig = visualise_helper.states_to_graphs(\n",
    "                    loaded, \n",
    "                    embedding.weight.cpu(), \n",
    "                    n_cols=n_cols, \n",
    "                    n_rows= int(loaded.shape[0] / n_cols), \n",
    "                    converter_class=converter, \n",
    "                    size_multiplier=4,\n",
    "                    explode=explode_world,\n",
    "                    trim=trim_world,\n",
    "                    no_air = no_air,\n",
    "                    metric = metric,\n",
    "                )\n",
    "            fig.suptitle(f'visualizing epoch {i}')\n",
    "            fig.savefig(snapshots_folder_path + f'/epoch_{i}_{metric}.png')\n",
    "            plt.close(fig)\n",
    "            del fig\n",
    "\n",
    "    if alpha:\n",
    "        # Visualising alpha channel\n",
    "        for i in tqdm(range(min_epoch, max_epoch), desc = 'alpha states loop'):\n",
    "            loaded = np.load(snapshots_folder_path + f'/epoch_{i}_alpha.npy')\n",
    "            fig = visualise_helper.alpha_states_to_graphs(\n",
    "                    loaded, \n",
    "                    n_cols=n_cols, \n",
    "                    n_rows= int(loaded.shape[0] / n_cols), \n",
    "                    size_multiplier=4,\n",
    "                    explode = explode_alpha, # this makes covered voxels visible\n",
    "                    trim = trim_alpha, # remove uselsss white info\n",
    "                )\n",
    "            fig.suptitle(f'visualizing epoch {i}')\n",
    "            fig.savefig(snapshots_folder_path + f'/epoch_{i}_alpha.png')\n",
    "            plt.close(fig)\n",
    "            del fig"
   ]
  },
  {
   "cell_type": "markdown",
   "id": "e09bc8ab-e38a-402e-abf6-ebd68c7c9f18",
   "metadata": {},
   "source": [
    "Possible paths:\n",
    "\n",
    "- GANCA_MMGAN\n",
    "- GANCA_WGAN\n",
    "- GANCA_WGANGP\n",
    "- GANCA_WGANGP_DUAL_D\n",
    "- Deconv_WGANGP"
   ]
  },
  {
   "cell_type": "code",
   "execution_count": 4,
   "id": "ee831291-3c92-4566-9cda-b01ec411c3b5",
   "metadata": {
    "tags": []
   },
   "outputs": [],
   "source": [
    "# GANCA_MMGAN (world epoch 0, 1, 2 done; alpha done)\n",
    "\n",
    "# visualize_snapshots_in_path(\n",
    "#     min_epoch = 0,\n",
    "#     max_epoch = 16, \n",
    "#     snapshots_folder_path = 'lightning_logs/GANCA_MMGAN/version_0/gen_snapshots', \n",
    "#     n_cols = 4,\n",
    "#     explode_world=False,\n",
    "#     trim_world=False,\n",
    "#     no_air = True,\n",
    "#     alpha = True,\n",
    "#     world = False,\n",
    "#     explode_alpha = False,\n",
    "#     trim_alpha = False,\n",
    "#     metric='euclidean',\n",
    "# )"
   ]
  },
  {
   "cell_type": "code",
   "execution_count": null,
   "id": "6a9798a3-4a32-43d5-84b2-e1de8d3c2573",
   "metadata": {},
   "outputs": [],
   "source": [
    "# GANCA_WGANGP\n",
    "\n",
    "visualize_snapshots_in_path(\n",
    "    min_epoch = 0,\n",
    "    max_epoch = 16, \n",
    "    snapshots_folder_path = 'lightning_logs/GANCA_WGANGP/version_0/gen_snapshots', \n",
    "    n_cols = 4,\n",
    "    explode_world=False,\n",
    "    trim_world=False,\n",
    "    no_air = True,\n",
    "    alpha = True,\n",
    "    world = True,\n",
    "    explode_alpha = False,\n",
    "    trim_alpha = False,\n",
    "    metric='euclidean',\n",
    ")"
   ]
  },
  {
   "cell_type": "code",
   "execution_count": 4,
   "id": "6866c67a-fb73-493f-a480-5ebf330dd234",
   "metadata": {
    "tags": []
   },
   "outputs": [
    {
     "data": {
      "application/vnd.jupyter.widget-view+json": {
       "model_id": "17dd5a38e1b74039a056208f1190165c",
       "version_major": 2,
       "version_minor": 0
      },
      "text/plain": [
       "alpha states loop:   0%|          | 0/5 [00:00<?, ?it/s]"
      ]
     },
     "metadata": {},
     "output_type": "display_data"
    },
    {
     "data": {
      "application/vnd.jupyter.widget-view+json": {
       "model_id": "aff0fc3d53ca4c8cbd06b5a6c3d39e7f",
       "version_major": 2,
       "version_minor": 0
      },
      "text/plain": [
       "3D plots:   0%|                                                                                               …"
      ]
     },
     "metadata": {},
     "output_type": "display_data"
    },
    {
     "data": {
      "application/vnd.jupyter.widget-view+json": {
       "model_id": "271ed644579e4ea7a708fa331f121eee",
       "version_major": 2,
       "version_minor": 0
      },
      "text/plain": [
       "3D plots:   0%|                                                                                               …"
      ]
     },
     "metadata": {},
     "output_type": "display_data"
    },
    {
     "data": {
      "application/vnd.jupyter.widget-view+json": {
       "model_id": "5af1245abfcb481eaf7ec5fac86f3d95",
       "version_major": 2,
       "version_minor": 0
      },
      "text/plain": [
       "3D plots:   0%|                                                                                               …"
      ]
     },
     "metadata": {},
     "output_type": "display_data"
    },
    {
     "data": {
      "application/vnd.jupyter.widget-view+json": {
       "model_id": "e776402cc9104402a98376bc317c5b5e",
       "version_major": 2,
       "version_minor": 0
      },
      "text/plain": [
       "3D plots:   0%|                                                                                               …"
      ]
     },
     "metadata": {},
     "output_type": "display_data"
    },
    {
     "data": {
      "application/vnd.jupyter.widget-view+json": {
       "model_id": "4e907d158254475dac2324b0fbae3615",
       "version_major": 2,
       "version_minor": 0
      },
      "text/plain": [
       "3D plots:   0%|                                                                                               …"
      ]
     },
     "metadata": {},
     "output_type": "display_data"
    }
   ],
   "source": [
    "# GANCA_WGANGP_DUAL_D (done)\n",
    "\n",
    "# visualize_snapshots_in_path(\n",
    "#     min_epoch = 11,\n",
    "#     max_epoch = 16,     \n",
    "#     snapshots_folder_path = 'lightning_logs/GANCA_WGANGP_DUAL_D/version_0/gen_snapshots', \n",
    "#     n_cols = 4,\n",
    "#     explode_world=False,\n",
    "#     trim_world=False,\n",
    "#     no_air = True,\n",
    "#     alpha = True,\n",
    "#     world=False,\n",
    "#     explode_alpha = False,\n",
    "#     trim_alpha = False,\n",
    "#     metric='euclidean',\n",
    "# )"
   ]
  },
  {
   "cell_type": "markdown",
   "id": "5eb10499",
   "metadata": {},
   "source": [
    "## Metrics Visualise"
   ]
  },
  {
   "cell_type": "code",
   "execution_count": null,
   "id": "b0e5e395",
   "metadata": {},
   "outputs": [],
   "source": [
    "# load from tensorboard log"
   ]
  }
 ],
 "metadata": {
  "kernelspec": {
   "display_name": "Python 3 (ipykernel)",
   "language": "python",
   "name": "python3"
  },
  "language_info": {
   "codemirror_mode": {
    "name": "ipython",
    "version": 3
   },
   "file_extension": ".py",
   "mimetype": "text/x-python",
   "name": "python",
   "nbconvert_exporter": "python",
   "pygments_lexer": "ipython3",
   "version": "3.9.7"
  }
 },
 "nbformat": 4,
 "nbformat_minor": 5
}
