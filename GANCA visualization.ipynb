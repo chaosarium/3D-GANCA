{
 "cells": [
  {
   "cell_type": "markdown",
   "id": "afa32e83",
   "metadata": {},
   "source": [
    "# GANCA Results Visualization"
   ]
  },
  {
   "cell_type": "markdown",
   "id": "551953cd",
   "metadata": {},
   "source": [
    "\n",
    "## Snapshot to Voxel\n",
    "\n",
    "Code used for turning snapshots in the generation into voxel plots"
   ]
  },
  {
   "cell_type": "code",
   "execution_count": 15,
   "id": "c1021fc0-96f7-417d-ad2f-16a0f72a3d83",
   "metadata": {},
   "outputs": [
    {
     "name": "stdout",
     "output_type": "stream",
     "text": [
      "The autoreload extension is already loaded. To reload it, use:\n",
      "  %reload_ext autoreload\n"
     ]
    }
   ],
   "source": [
    "# import stuff\n",
    "\n",
    "import data_helper\n",
    "from data_helper import GANCA3DDataModule\n",
    "from models import VoxelPerceptionNet, VoxelUpdateNet, VoxelNCAModel, VoxelDiscriminator\n",
    "import visualise_helper\n",
    "import utils\n",
    "%load_ext autoreload\n",
    "from tqdm.notebook import tqdm\n",
    "%autoreload 2\n",
    "\n",
    "import numpy as np\n",
    "import sys\n",
    "import torch\n",
    "import random\n",
    "from torchsummaryX import summary\n",
    "import matplotlib.pyplot as plt\n",
    "from pytorch_lightning import Trainer\n",
    "import pytorch_lightning as pl\n",
    "import math\n",
    "\n",
    "from loguru import logger as gurulogger\n",
    "gurulogger.remove()\n",
    "gurulogger.add(sys.stdout, colorize=True, format=\"<blue>{time}</blue> <level>{message}</level>\")\n",
    "gurulogger.level(\"INFO\", color=\"<red><bold>\")\n",
    "\n",
    "import os\n",
    "from einops import rearrange\n",
    "import torch.nn.functional as F\n",
    "import pandas as pd\n",
    "\n",
    "BLOCK2VEC_OUT_PATH = 'output/block2vec saves/block2vec 64 dim locked air/'\n",
    "NUM_WORKERS = int(os.cpu_count() / 2)\n",
    "\n",
    "plt.ioff()\n",
    "%matplotlib agg\n",
    "%matplotlib agg"
   ]
  },
  {
   "cell_type": "code",
   "execution_count": 16,
   "id": "7b18d743-5079-47fd-9480-b7c1607fd2a6",
   "metadata": {},
   "outputs": [],
   "source": [
    "embedding, mcid2block, block2embeddingidx, embeddingidx2block, block2mcid = utils.get_embedding_info(BLOCK2VEC_OUT_PATH)\n",
    "converter = utils.DataConverter(embedding, mcid2block, block2embeddingidx, embeddingidx2block, block2mcid)"
   ]
  },
  {
   "cell_type": "code",
   "execution_count": 19,
   "id": "4863aabd-01c8-47de-bdd6-58437139490e",
   "metadata": {},
   "outputs": [],
   "source": [
    "max_epoch = 10\n",
    "snapshots_folder_path = 'lightning_logs/GANCA/version_15/gen_snapshots'\n",
    "n_cols = 4"
   ]
  },
  {
   "cell_type": "markdown",
   "id": "ea4b8dbe-1303-4fff-8854-8166697f7bac",
   "metadata": {},
   "source": [
    "### Logged progress per epoch to image"
   ]
  },
  {
   "cell_type": "code",
   "execution_count": null,
   "id": "e085ef0c-7825-48dc-bed0-e9e76bbf5adb",
   "metadata": {
    "collapsed": true,
    "jupyter": {
     "outputs_hidden": true
    },
    "tags": []
   },
   "outputs": [],
   "source": [
    "for i in range(max_epoch):\n",
    "    loaded = np.load(snapshots_folder_path + f'/epoch_{i}.npy')\n",
    "    fig = visualise_helper.states_to_graphs(\n",
    "            loaded, \n",
    "            embedding.weight.cpu(), \n",
    "            n_cols=n_cols, \n",
    "            n_rows= int(loaded.shape[0] / n_cols), \n",
    "            converter_class=converter, \n",
    "            size_multiplier=4,\n",
    "            explode=True,\n",
    "            trim=True,\n",
    "            no_air = True,\n",
    "        )\n",
    "    fig.suptitle(f'visualizing epoch {i}')\n",
    "    fig.savefig(snapshots_folder_path + f'/epoch_{i}.png')"
   ]
  },
  {
   "cell_type": "markdown",
   "id": "bc237dec-8b73-4d05-8630-26df7dcf229c",
   "metadata": {},
   "source": [
    "### Visualising alpha channel"
   ]
  },
  {
   "cell_type": "code",
   "execution_count": null,
   "id": "55b7de52-600e-4ba2-8c73-7cbbeb176e79",
   "metadata": {},
   "outputs": [],
   "source": [
    "for i in range(max_epoch):\n",
    "    loaded = np.load(snapshots_folder_path + f'/epoch_{i}_alpha.npy')\n",
    "    fig = visualise_helper.alpha_states_to_graphs(\n",
    "            loaded, \n",
    "            n_cols=n_cols, \n",
    "            n_rows= int(loaded.shape[0] / n_cols), \n",
    "            size_multiplier=4,\n",
    "            explode = True, # this makes covered voxels visible\n",
    "            trim = True, # remove uselsss white info\n",
    "        )\n",
    "    fig.suptitle(f'visualizing epoch {i}')\n",
    "    fig.savefig(snapshots_folder_path + f'/epoch_{i}_alpha.png')"
   ]
  },
  {
   "cell_type": "markdown",
   "id": "5eb10499",
   "metadata": {},
   "source": [
    "## Metrics Visualise"
   ]
  },
  {
   "cell_type": "code",
   "execution_count": null,
   "id": "b0e5e395",
   "metadata": {},
   "outputs": [],
   "source": [
    "# load from tensorboard log"
   ]
  }
 ],
 "metadata": {
  "kernelspec": {
   "display_name": "Python 3 (ipykernel)",
   "language": "python",
   "name": "python3"
  },
  "language_info": {
   "codemirror_mode": {
    "name": "ipython",
    "version": 3
   },
   "file_extension": ".py",
   "mimetype": "text/x-python",
   "name": "python",
   "nbconvert_exporter": "python",
   "pygments_lexer": "ipython3",
   "version": "3.8.10"
  }
 },
 "nbformat": 4,
 "nbformat_minor": 5
}
