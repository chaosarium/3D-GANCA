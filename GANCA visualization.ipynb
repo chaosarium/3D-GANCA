{
 "cells": [
  {
   "cell_type": "markdown",
   "id": "afa32e83",
   "metadata": {},
   "source": [
    "# GANCA Results Visualization"
   ]
  },
  {
   "cell_type": "markdown",
   "id": "551953cd",
   "metadata": {},
   "source": [
    "\n",
    "## Snapshot to Voxel\n",
    "\n",
    "Code used for turning snapshots in the generation into voxel plots"
   ]
  },
  {
   "cell_type": "code",
   "execution_count": 1,
   "id": "c1021fc0-96f7-417d-ad2f-16a0f72a3d83",
   "metadata": {},
   "outputs": [],
   "source": [
    "# import stuff\n",
    "\n",
    "import visualise_helper\n",
    "import utils\n",
    "%load_ext autoreload\n",
    "from tqdm.notebook import tqdm\n",
    "%autoreload 2\n",
    "\n",
    "import numpy as np\n",
    "import sys\n",
    "import os\n",
    "import matplotlib.pyplot as plt\n",
    "import matplotlib\n",
    "import gc\n",
    "\n",
    "from loguru import logger as gurulogger\n",
    "gurulogger.remove()\n",
    "gurulogger.add(sys.stdout, colorize=True, format=\"<blue>{time}</blue> <level>{message}</level>\")\n",
    "gurulogger.level(\"INFO\", color=\"<red><bold>\")\n",
    "\n",
    "BLOCK2VEC_OUT_PATH = 'output/block2vec saves/block2vec 64 dim locked air/'\n",
    "NUM_WORKERS = int(os.cpu_count() / 2)\n",
    "\n",
    "# disable plt showing plots in notebook\n",
    "plt.ioff()\n",
    "%matplotlib agg\n",
    "%matplotlib agg\n",
    "matplotlib.use('agg')"
   ]
  },
  {
   "cell_type": "code",
   "execution_count": 2,
   "id": "7b18d743-5079-47fd-9480-b7c1607fd2a6",
   "metadata": {},
   "outputs": [],
   "source": [
    "embedding, mcid2block, block2embeddingidx, embeddingidx2block, block2mcid = utils.get_embedding_info(BLOCK2VEC_OUT_PATH)\n",
    "converter = utils.DataConverter(embedding, mcid2block, block2embeddingidx, embeddingidx2block, block2mcid)"
   ]
  },
  {
   "cell_type": "code",
   "execution_count": 7,
   "id": "29768ede-643a-49a4-b2dc-69d6ab64798e",
   "metadata": {},
   "outputs": [],
   "source": [
    "def visualize_snapshots_in_path(\n",
    "    min_epoch = 0,\n",
    "    max_epoch = 16, \n",
    "    snapshots_folder_path = 'lightning_logs/GANCA/version_15/gen_snapshots', \n",
    "    n_cols = 4,\n",
    "    explode_world=False,\n",
    "    trim_world=False,\n",
    "    no_air = True,\n",
    "    alpha = True,\n",
    "    world = True,\n",
    "    explode_alpha = True,\n",
    "    trim_alpha = True,\n",
    "    metric='euclidean',\n",
    "):\n",
    "\n",
    "    if world:\n",
    "        # Logged progress per epoch to image\n",
    "        for i in tqdm(range(min_epoch, max_epoch), desc = 'world states loop'):\n",
    "            loaded = np.load(snapshots_folder_path + f'/epoch_{i}.npy')\n",
    "            fig = visualise_helper.states_to_graphs(\n",
    "                    loaded, \n",
    "                    embedding.weight.cpu(), \n",
    "                    n_cols=n_cols, \n",
    "                    n_rows= int(loaded.shape[0] / n_cols), \n",
    "                    converter_class=converter, \n",
    "                    size_multiplier=4,\n",
    "                    explode=explode_world,\n",
    "                    trim=trim_world,\n",
    "                    no_air = no_air,\n",
    "                    metric = metric,\n",
    "                )\n",
    "            fig.suptitle(f'visualizing epoch {i}')\n",
    "            fig.savefig(snapshots_folder_path + f'/epoch_{i}_{metric}.png')\n",
    "            plt.clf()\n",
    "            plt.close()\n",
    "            plt.close('all')\n",
    "            plt.close(fig)\n",
    "            del fig\n",
    "            gc.collect()\n",
    "\n",
    "    if alpha:\n",
    "        # Visualising alpha channel\n",
    "        for i in tqdm(range(min_epoch, max_epoch), desc = 'alpha states loop'):\n",
    "            loaded = np.load(snapshots_folder_path + f'/epoch_{i}_alpha.npy')\n",
    "            fig = visualise_helper.alpha_states_to_graphs(\n",
    "                    loaded, \n",
    "                    n_cols=n_cols, \n",
    "                    n_rows= int(loaded.shape[0] / n_cols), \n",
    "                    size_multiplier=4,\n",
    "                    explode = explode_alpha, # this makes covered voxels visible\n",
    "                    trim = trim_alpha, # remove uselsss white info\n",
    "                )\n",
    "            fig.suptitle(f'visualizing epoch {i}')\n",
    "            fig.savefig(snapshots_folder_path + f'/epoch_{i}_alpha.png')\n",
    "            plt.clf()\n",
    "            plt.close()\n",
    "            plt.close('all')\n",
    "            plt.close(fig)\n",
    "            del fig\n",
    "            gc.collect()"
   ]
  },
  {
   "cell_type": "markdown",
   "id": "e09bc8ab-e38a-402e-abf6-ebd68c7c9f18",
   "metadata": {},
   "source": [
    "Possible paths:\n",
    "\n",
    "- GANCA_MMGAN\n",
    "- GANCA_WGAN\n",
    "- GANCA_WGANGP\n",
    "- GANCA_WGANGP_DUAL_D\n",
    "- Deconv_WGANGP"
   ]
  },
  {
   "cell_type": "code",
   "execution_count": 35,
   "id": "ee831291-3c92-4566-9cda-b01ec411c3b5",
   "metadata": {
    "tags": []
   },
   "outputs": [
    {
     "data": {
      "application/vnd.jupyter.widget-view+json": {
       "model_id": "ec5123ca50134cb587e83b8d9aaced34",
       "version_major": 2,
       "version_minor": 0
      },
      "text/plain": [
       "world states loop:   0%|          | 0/16 [00:00<?, ?it/s]"
      ]
     },
     "metadata": {},
     "output_type": "display_data"
    },
    {
     "name": "stdout",
     "output_type": "stream",
     "text": [
      "colordict init success\n"
     ]
    },
    {
     "data": {
      "application/vnd.jupyter.widget-view+json": {
       "model_id": "1c9c28ade02647d6966d7175f4f2cc6c",
       "version_major": 2,
       "version_minor": 0
      },
      "text/plain": [
       "3D plots:   0%|                                                                                               …"
      ]
     },
     "metadata": {},
     "output_type": "display_data"
    },
    {
     "name": "stdout",
     "output_type": "stream",
     "text": [
      "colordict init success\n"
     ]
    },
    {
     "data": {
      "application/vnd.jupyter.widget-view+json": {
       "model_id": "dd5139f6737f48efb66c65932fb7cb7c",
       "version_major": 2,
       "version_minor": 0
      },
      "text/plain": [
       "3D plots:   0%|                                                                                               …"
      ]
     },
     "metadata": {},
     "output_type": "display_data"
    },
    {
     "name": "stdout",
     "output_type": "stream",
     "text": [
      "colordict init success\n"
     ]
    },
    {
     "data": {
      "application/vnd.jupyter.widget-view+json": {
       "model_id": "db111b2d73de4211ba48d2906e8c7365",
       "version_major": 2,
       "version_minor": 0
      },
      "text/plain": [
       "3D plots:   0%|                                                                                               …"
      ]
     },
     "metadata": {},
     "output_type": "display_data"
    },
    {
     "name": "stdout",
     "output_type": "stream",
     "text": [
      "colordict init success\n"
     ]
    },
    {
     "data": {
      "application/vnd.jupyter.widget-view+json": {
       "model_id": "4fbad23a3cd14985afcc460217fff18c",
       "version_major": 2,
       "version_minor": 0
      },
      "text/plain": [
       "3D plots:   0%|                                                                                               …"
      ]
     },
     "metadata": {},
     "output_type": "display_data"
    },
    {
     "name": "stdout",
     "output_type": "stream",
     "text": [
      "colordict init success\n"
     ]
    },
    {
     "data": {
      "application/vnd.jupyter.widget-view+json": {
       "model_id": "753b097631de468f86396760d2a1589d",
       "version_major": 2,
       "version_minor": 0
      },
      "text/plain": [
       "3D plots:   0%|                                                                                               …"
      ]
     },
     "metadata": {},
     "output_type": "display_data"
    },
    {
     "name": "stdout",
     "output_type": "stream",
     "text": [
      "colordict init success\n"
     ]
    },
    {
     "data": {
      "application/vnd.jupyter.widget-view+json": {
       "model_id": "47ea6abe6af4496bad3affce9b8e8982",
       "version_major": 2,
       "version_minor": 0
      },
      "text/plain": [
       "3D plots:   0%|                                                                                               …"
      ]
     },
     "metadata": {},
     "output_type": "display_data"
    },
    {
     "name": "stdout",
     "output_type": "stream",
     "text": [
      "colordict init success\n"
     ]
    },
    {
     "data": {
      "application/vnd.jupyter.widget-view+json": {
       "model_id": "dc94d1e5b65f4d2a9ddd103b18c1cb6e",
       "version_major": 2,
       "version_minor": 0
      },
      "text/plain": [
       "3D plots:   0%|                                                                                               …"
      ]
     },
     "metadata": {},
     "output_type": "display_data"
    },
    {
     "name": "stdout",
     "output_type": "stream",
     "text": [
      "colordict init success\n"
     ]
    },
    {
     "data": {
      "application/vnd.jupyter.widget-view+json": {
       "model_id": "f00b2860b7e64790b59d43964d81b9c9",
       "version_major": 2,
       "version_minor": 0
      },
      "text/plain": [
       "3D plots:   0%|                                                                                               …"
      ]
     },
     "metadata": {},
     "output_type": "display_data"
    },
    {
     "name": "stdout",
     "output_type": "stream",
     "text": [
      "colordict init success\n"
     ]
    },
    {
     "data": {
      "application/vnd.jupyter.widget-view+json": {
       "model_id": "922bbff712dd4ad899566bb9cdef19cc",
       "version_major": 2,
       "version_minor": 0
      },
      "text/plain": [
       "3D plots:   0%|                                                                                               …"
      ]
     },
     "metadata": {},
     "output_type": "display_data"
    },
    {
     "name": "stdout",
     "output_type": "stream",
     "text": [
      "colordict init success\n"
     ]
    },
    {
     "data": {
      "application/vnd.jupyter.widget-view+json": {
       "model_id": "7c0513540d8540e79cf8a52bd25cfd6c",
       "version_major": 2,
       "version_minor": 0
      },
      "text/plain": [
       "3D plots:   0%|                                                                                               …"
      ]
     },
     "metadata": {},
     "output_type": "display_data"
    },
    {
     "name": "stdout",
     "output_type": "stream",
     "text": [
      "colordict init success\n"
     ]
    },
    {
     "data": {
      "application/vnd.jupyter.widget-view+json": {
       "model_id": "e718ea1d92c449ecb6783fb21444cd88",
       "version_major": 2,
       "version_minor": 0
      },
      "text/plain": [
       "3D plots:   0%|                                                                                               …"
      ]
     },
     "metadata": {},
     "output_type": "display_data"
    },
    {
     "name": "stdout",
     "output_type": "stream",
     "text": [
      "colordict init success\n"
     ]
    },
    {
     "data": {
      "application/vnd.jupyter.widget-view+json": {
       "model_id": "b7dd9e38a71e4373884ccdc9d2720f41",
       "version_major": 2,
       "version_minor": 0
      },
      "text/plain": [
       "3D plots:   0%|                                                                                               …"
      ]
     },
     "metadata": {},
     "output_type": "display_data"
    },
    {
     "name": "stdout",
     "output_type": "stream",
     "text": [
      "colordict init success\n"
     ]
    },
    {
     "data": {
      "application/vnd.jupyter.widget-view+json": {
       "model_id": "2b3018a0da4d4e97b88aac0a099afef4",
       "version_major": 2,
       "version_minor": 0
      },
      "text/plain": [
       "3D plots:   0%|                                                                                               …"
      ]
     },
     "metadata": {},
     "output_type": "display_data"
    },
    {
     "name": "stdout",
     "output_type": "stream",
     "text": [
      "colordict init success\n"
     ]
    },
    {
     "data": {
      "application/vnd.jupyter.widget-view+json": {
       "model_id": "82500af96735420ea31b4516f1331c14",
       "version_major": 2,
       "version_minor": 0
      },
      "text/plain": [
       "3D plots:   0%|                                                                                               …"
      ]
     },
     "metadata": {},
     "output_type": "display_data"
    },
    {
     "name": "stdout",
     "output_type": "stream",
     "text": [
      "colordict init success\n"
     ]
    },
    {
     "data": {
      "application/vnd.jupyter.widget-view+json": {
       "model_id": "6a169aa1ca2a47c39c8a4f2dad0bb913",
       "version_major": 2,
       "version_minor": 0
      },
      "text/plain": [
       "3D plots:   0%|                                                                                               …"
      ]
     },
     "metadata": {},
     "output_type": "display_data"
    },
    {
     "name": "stdout",
     "output_type": "stream",
     "text": [
      "colordict init success\n"
     ]
    },
    {
     "data": {
      "application/vnd.jupyter.widget-view+json": {
       "model_id": "87ead6832c464e1ea15ffc7ca71dc723",
       "version_major": 2,
       "version_minor": 0
      },
      "text/plain": [
       "3D plots:   0%|                                                                                               …"
      ]
     },
     "metadata": {},
     "output_type": "display_data"
    }
   ],
   "source": [
    "# GANCA_MMGAN (all done)\n",
    "\n",
    "# visualize_snapshots_in_path(\n",
    "#     min_epoch = 0,\n",
    "#     max_epoch = 16, \n",
    "#     snapshots_folder_path = 'lightning_logs/GANCA_MMGAN/version_0/gen_snapshots', \n",
    "#     n_cols = 4,\n",
    "#     explode_world=False,\n",
    "#     trim_world=False,\n",
    "#     no_air = True,\n",
    "#     alpha = False,\n",
    "#     world = True,\n",
    "#     explode_alpha = False,\n",
    "#     trim_alpha = False,\n",
    "#     metric='euclidean',\n",
    "# )"
   ]
  },
  {
   "cell_type": "code",
   "execution_count": 40,
   "id": "dd3f59c3-63cc-4b87-b273-54a03b10e578",
   "metadata": {},
   "outputs": [
    {
     "data": {
      "application/vnd.jupyter.widget-view+json": {
       "model_id": "5a3b33b890e742c7b4d4c47c5c7b28f8",
       "version_major": 2,
       "version_minor": 0
      },
      "text/plain": [
       "world states loop:   0%|          | 0/16 [00:00<?, ?it/s]"
      ]
     },
     "metadata": {},
     "output_type": "display_data"
    },
    {
     "name": "stdout",
     "output_type": "stream",
     "text": [
      "colordict init success\n"
     ]
    },
    {
     "data": {
      "application/vnd.jupyter.widget-view+json": {
       "model_id": "dc091754930c41be9d71c44c6400abd7",
       "version_major": 2,
       "version_minor": 0
      },
      "text/plain": [
       "3D plots:   0%|                                                                                               …"
      ]
     },
     "metadata": {},
     "output_type": "display_data"
    },
    {
     "name": "stdout",
     "output_type": "stream",
     "text": [
      "colordict init success\n"
     ]
    },
    {
     "data": {
      "application/vnd.jupyter.widget-view+json": {
       "model_id": "d1851196ba3d4609843ce6d860c1ebb3",
       "version_major": 2,
       "version_minor": 0
      },
      "text/plain": [
       "3D plots:   0%|                                                                                               …"
      ]
     },
     "metadata": {},
     "output_type": "display_data"
    },
    {
     "name": "stdout",
     "output_type": "stream",
     "text": [
      "colordict init success\n"
     ]
    },
    {
     "data": {
      "application/vnd.jupyter.widget-view+json": {
       "model_id": "63aab980d0d74c28ad3daf6269aa036a",
       "version_major": 2,
       "version_minor": 0
      },
      "text/plain": [
       "3D plots:   0%|                                                                                               …"
      ]
     },
     "metadata": {},
     "output_type": "display_data"
    },
    {
     "name": "stdout",
     "output_type": "stream",
     "text": [
      "colordict init success\n"
     ]
    },
    {
     "data": {
      "application/vnd.jupyter.widget-view+json": {
       "model_id": "c2c35134759f4343b7034f41d7aa06f4",
       "version_major": 2,
       "version_minor": 0
      },
      "text/plain": [
       "3D plots:   0%|                                                                                               …"
      ]
     },
     "metadata": {},
     "output_type": "display_data"
    },
    {
     "name": "stdout",
     "output_type": "stream",
     "text": [
      "colordict init success\n"
     ]
    },
    {
     "data": {
      "application/vnd.jupyter.widget-view+json": {
       "model_id": "a7cfd9f581a6430cbc0129c55b87acd9",
       "version_major": 2,
       "version_minor": 0
      },
      "text/plain": [
       "3D plots:   0%|                                                                                               …"
      ]
     },
     "metadata": {},
     "output_type": "display_data"
    },
    {
     "name": "stdout",
     "output_type": "stream",
     "text": [
      "colordict init success\n"
     ]
    },
    {
     "data": {
      "application/vnd.jupyter.widget-view+json": {
       "model_id": "cbb05145478245038a6298f53a76987d",
       "version_major": 2,
       "version_minor": 0
      },
      "text/plain": [
       "3D plots:   0%|                                                                                               …"
      ]
     },
     "metadata": {},
     "output_type": "display_data"
    },
    {
     "name": "stdout",
     "output_type": "stream",
     "text": [
      "colordict init success\n"
     ]
    },
    {
     "data": {
      "application/vnd.jupyter.widget-view+json": {
       "model_id": "97b515c7c95e441cbff0b328463a937c",
       "version_major": 2,
       "version_minor": 0
      },
      "text/plain": [
       "3D plots:   0%|                                                                                               …"
      ]
     },
     "metadata": {},
     "output_type": "display_data"
    },
    {
     "name": "stdout",
     "output_type": "stream",
     "text": [
      "colordict init success\n"
     ]
    },
    {
     "data": {
      "application/vnd.jupyter.widget-view+json": {
       "model_id": "c9533443a09149e0bd4e04dd4e170af9",
       "version_major": 2,
       "version_minor": 0
      },
      "text/plain": [
       "3D plots:   0%|                                                                                               …"
      ]
     },
     "metadata": {},
     "output_type": "display_data"
    },
    {
     "name": "stdout",
     "output_type": "stream",
     "text": [
      "colordict init success\n"
     ]
    },
    {
     "data": {
      "application/vnd.jupyter.widget-view+json": {
       "model_id": "ee7543af8569481f9889907d9541200f",
       "version_major": 2,
       "version_minor": 0
      },
      "text/plain": [
       "3D plots:   0%|                                                                                               …"
      ]
     },
     "metadata": {},
     "output_type": "display_data"
    },
    {
     "name": "stdout",
     "output_type": "stream",
     "text": [
      "colordict init success\n"
     ]
    },
    {
     "data": {
      "application/vnd.jupyter.widget-view+json": {
       "model_id": "02e57c2ae0644a468e45229f110d9457",
       "version_major": 2,
       "version_minor": 0
      },
      "text/plain": [
       "3D plots:   0%|                                                                                               …"
      ]
     },
     "metadata": {},
     "output_type": "display_data"
    },
    {
     "name": "stdout",
     "output_type": "stream",
     "text": [
      "colordict init success\n"
     ]
    },
    {
     "data": {
      "application/vnd.jupyter.widget-view+json": {
       "model_id": "c77d3b745b6d4b34959242c7a0419f12",
       "version_major": 2,
       "version_minor": 0
      },
      "text/plain": [
       "3D plots:   0%|                                                                                               …"
      ]
     },
     "metadata": {},
     "output_type": "display_data"
    },
    {
     "name": "stdout",
     "output_type": "stream",
     "text": [
      "colordict init success\n"
     ]
    },
    {
     "data": {
      "application/vnd.jupyter.widget-view+json": {
       "model_id": "8682de9ae26d4cee8bd8ae71f28dec05",
       "version_major": 2,
       "version_minor": 0
      },
      "text/plain": [
       "3D plots:   0%|                                                                                               …"
      ]
     },
     "metadata": {},
     "output_type": "display_data"
    },
    {
     "name": "stdout",
     "output_type": "stream",
     "text": [
      "colordict init success\n"
     ]
    },
    {
     "data": {
      "application/vnd.jupyter.widget-view+json": {
       "model_id": "2dbd937eec3e4cac8f3f922e05f873a0",
       "version_major": 2,
       "version_minor": 0
      },
      "text/plain": [
       "3D plots:   0%|                                                                                               …"
      ]
     },
     "metadata": {},
     "output_type": "display_data"
    },
    {
     "name": "stdout",
     "output_type": "stream",
     "text": [
      "colordict init success\n"
     ]
    },
    {
     "data": {
      "application/vnd.jupyter.widget-view+json": {
       "model_id": "20f96036d8f34312a7e7788472578242",
       "version_major": 2,
       "version_minor": 0
      },
      "text/plain": [
       "3D plots:   0%|                                                                                               …"
      ]
     },
     "metadata": {},
     "output_type": "display_data"
    },
    {
     "name": "stdout",
     "output_type": "stream",
     "text": [
      "colordict init success\n"
     ]
    },
    {
     "data": {
      "application/vnd.jupyter.widget-view+json": {
       "model_id": "b32649bdf8a34e91bbde41e63edca520",
       "version_major": 2,
       "version_minor": 0
      },
      "text/plain": [
       "3D plots:   0%|                                                                                               …"
      ]
     },
     "metadata": {},
     "output_type": "display_data"
    },
    {
     "name": "stdout",
     "output_type": "stream",
     "text": [
      "colordict init success\n"
     ]
    },
    {
     "data": {
      "application/vnd.jupyter.widget-view+json": {
       "model_id": "76fcd911cf84471ea1b182db0464dbb0",
       "version_major": 2,
       "version_minor": 0
      },
      "text/plain": [
       "3D plots:   0%|                                                                                               …"
      ]
     },
     "metadata": {},
     "output_type": "display_data"
    }
   ],
   "source": [
    "# GANCA_WGAN (all done)\n",
    "\n",
    "# visualize_snapshots_in_path(\n",
    "#     min_epoch = 0,\n",
    "#     max_epoch = 16, \n",
    "#     snapshots_folder_path = 'lightning_logs/GANCA_WGAN/version_0/gen_snapshots', \n",
    "#     n_cols = 4,\n",
    "#     explode_world=False,\n",
    "#     trim_world=False,\n",
    "#     no_air = True,\n",
    "#     alpha = False,\n",
    "#     world = True,\n",
    "#     explode_alpha = False,\n",
    "#     trim_alpha = False,\n",
    "#     metric='euclidean',\n",
    "# )"
   ]
  },
  {
   "cell_type": "code",
   "execution_count": 37,
   "id": "6a9798a3-4a32-43d5-84b2-e1de8d3c2573",
   "metadata": {},
   "outputs": [
    {
     "data": {
      "application/vnd.jupyter.widget-view+json": {
       "model_id": "5cbd3cc101be468180bcf1ab0b5c32f1",
       "version_major": 2,
       "version_minor": 0
      },
      "text/plain": [
       "world states loop:   0%|          | 0/16 [00:00<?, ?it/s]"
      ]
     },
     "metadata": {},
     "output_type": "display_data"
    },
    {
     "name": "stdout",
     "output_type": "stream",
     "text": [
      "colordict init success\n"
     ]
    },
    {
     "data": {
      "application/vnd.jupyter.widget-view+json": {
       "model_id": "5f81892c04da46579d18cc503ea113eb",
       "version_major": 2,
       "version_minor": 0
      },
      "text/plain": [
       "3D plots:   0%|                                                                                               …"
      ]
     },
     "metadata": {},
     "output_type": "display_data"
    },
    {
     "name": "stdout",
     "output_type": "stream",
     "text": [
      "colordict init success\n"
     ]
    },
    {
     "data": {
      "application/vnd.jupyter.widget-view+json": {
       "model_id": "054baefb1bab4014ab420a78c62d7a73",
       "version_major": 2,
       "version_minor": 0
      },
      "text/plain": [
       "3D plots:   0%|                                                                                               …"
      ]
     },
     "metadata": {},
     "output_type": "display_data"
    },
    {
     "name": "stdout",
     "output_type": "stream",
     "text": [
      "colordict init success\n"
     ]
    },
    {
     "data": {
      "application/vnd.jupyter.widget-view+json": {
       "model_id": "030aa5fa916f4ab4b6fbc36b5a4ea123",
       "version_major": 2,
       "version_minor": 0
      },
      "text/plain": [
       "3D plots:   0%|                                                                                               …"
      ]
     },
     "metadata": {},
     "output_type": "display_data"
    },
    {
     "name": "stdout",
     "output_type": "stream",
     "text": [
      "colordict init success\n"
     ]
    },
    {
     "data": {
      "application/vnd.jupyter.widget-view+json": {
       "model_id": "47e2f813e8954187a11ef879e5ad4d64",
       "version_major": 2,
       "version_minor": 0
      },
      "text/plain": [
       "3D plots:   0%|                                                                                               …"
      ]
     },
     "metadata": {},
     "output_type": "display_data"
    },
    {
     "name": "stdout",
     "output_type": "stream",
     "text": [
      "colordict init success\n"
     ]
    },
    {
     "data": {
      "application/vnd.jupyter.widget-view+json": {
       "model_id": "2f38da870e42408f937960b08cfa87bc",
       "version_major": 2,
       "version_minor": 0
      },
      "text/plain": [
       "3D plots:   0%|                                                                                               …"
      ]
     },
     "metadata": {},
     "output_type": "display_data"
    },
    {
     "name": "stdout",
     "output_type": "stream",
     "text": [
      "colordict init success\n"
     ]
    },
    {
     "data": {
      "application/vnd.jupyter.widget-view+json": {
       "model_id": "00899b493c5246dd9628960e5be76485",
       "version_major": 2,
       "version_minor": 0
      },
      "text/plain": [
       "3D plots:   0%|                                                                                               …"
      ]
     },
     "metadata": {},
     "output_type": "display_data"
    },
    {
     "name": "stdout",
     "output_type": "stream",
     "text": [
      "colordict init success\n"
     ]
    },
    {
     "data": {
      "application/vnd.jupyter.widget-view+json": {
       "model_id": "caff976e60094c63a81bb1c5be14ff91",
       "version_major": 2,
       "version_minor": 0
      },
      "text/plain": [
       "3D plots:   0%|                                                                                               …"
      ]
     },
     "metadata": {},
     "output_type": "display_data"
    },
    {
     "name": "stdout",
     "output_type": "stream",
     "text": [
      "colordict init success\n"
     ]
    },
    {
     "data": {
      "application/vnd.jupyter.widget-view+json": {
       "model_id": "b540aaf0f3f147ef9749e4db2bb97ee5",
       "version_major": 2,
       "version_minor": 0
      },
      "text/plain": [
       "3D plots:   0%|                                                                                               …"
      ]
     },
     "metadata": {},
     "output_type": "display_data"
    },
    {
     "name": "stdout",
     "output_type": "stream",
     "text": [
      "colordict init success\n"
     ]
    },
    {
     "data": {
      "application/vnd.jupyter.widget-view+json": {
       "model_id": "44eb9ac338644358af803556afb387bf",
       "version_major": 2,
       "version_minor": 0
      },
      "text/plain": [
       "3D plots:   0%|                                                                                               …"
      ]
     },
     "metadata": {},
     "output_type": "display_data"
    },
    {
     "name": "stdout",
     "output_type": "stream",
     "text": [
      "colordict init success\n"
     ]
    },
    {
     "data": {
      "application/vnd.jupyter.widget-view+json": {
       "model_id": "c283adac5ea649d088957451ea05debb",
       "version_major": 2,
       "version_minor": 0
      },
      "text/plain": [
       "3D plots:   0%|                                                                                               …"
      ]
     },
     "metadata": {},
     "output_type": "display_data"
    },
    {
     "name": "stdout",
     "output_type": "stream",
     "text": [
      "colordict init success\n"
     ]
    },
    {
     "data": {
      "application/vnd.jupyter.widget-view+json": {
       "model_id": "e3450337dbfa40d6adb9f4051bd40d54",
       "version_major": 2,
       "version_minor": 0
      },
      "text/plain": [
       "3D plots:   0%|                                                                                               …"
      ]
     },
     "metadata": {},
     "output_type": "display_data"
    },
    {
     "name": "stdout",
     "output_type": "stream",
     "text": [
      "colordict init success\n"
     ]
    },
    {
     "data": {
      "application/vnd.jupyter.widget-view+json": {
       "model_id": "e9ecfcd2c6a64c23bceff8cabcdc48ee",
       "version_major": 2,
       "version_minor": 0
      },
      "text/plain": [
       "3D plots:   0%|                                                                                               …"
      ]
     },
     "metadata": {},
     "output_type": "display_data"
    },
    {
     "name": "stdout",
     "output_type": "stream",
     "text": [
      "colordict init success\n"
     ]
    },
    {
     "data": {
      "application/vnd.jupyter.widget-view+json": {
       "model_id": "cf41ac8d2a05487f9ae4a951ca4a5f04",
       "version_major": 2,
       "version_minor": 0
      },
      "text/plain": [
       "3D plots:   0%|                                                                                               …"
      ]
     },
     "metadata": {},
     "output_type": "display_data"
    },
    {
     "name": "stdout",
     "output_type": "stream",
     "text": [
      "colordict init success\n"
     ]
    },
    {
     "data": {
      "application/vnd.jupyter.widget-view+json": {
       "model_id": "e73053f826bc435d93df4749fb31a061",
       "version_major": 2,
       "version_minor": 0
      },
      "text/plain": [
       "3D plots:   0%|                                                                                               …"
      ]
     },
     "metadata": {},
     "output_type": "display_data"
    },
    {
     "name": "stdout",
     "output_type": "stream",
     "text": [
      "colordict init success\n"
     ]
    },
    {
     "data": {
      "application/vnd.jupyter.widget-view+json": {
       "model_id": "6b6327d542e84a5fa2adf9e1f29f0d50",
       "version_major": 2,
       "version_minor": 0
      },
      "text/plain": [
       "3D plots:   0%|                                                                                               …"
      ]
     },
     "metadata": {},
     "output_type": "display_data"
    },
    {
     "name": "stdout",
     "output_type": "stream",
     "text": [
      "colordict init success\n"
     ]
    },
    {
     "data": {
      "application/vnd.jupyter.widget-view+json": {
       "model_id": "a7ff39ad50fc439587770c841b2dd81b",
       "version_major": 2,
       "version_minor": 0
      },
      "text/plain": [
       "3D plots:   0%|                                                                                               …"
      ]
     },
     "metadata": {},
     "output_type": "display_data"
    }
   ],
   "source": [
    "# GANCA_WGANGP (all done)\n",
    "\n",
    "# visualize_snapshots_in_path(\n",
    "#     min_epoch = 0,\n",
    "#     max_epoch = 16, \n",
    "#     snapshots_folder_path = 'lightning_logs/GANCA_WGANGP/version_0/gen_snapshots', \n",
    "#     n_cols = 4,\n",
    "#     explode_world=False,\n",
    "#     trim_world=False,\n",
    "#     no_air = True,\n",
    "#     alpha = False,\n",
    "#     world = True,\n",
    "#     explode_alpha = False,\n",
    "#     trim_alpha = False,\n",
    "#     metric='euclidean',\n",
    "# )"
   ]
  },
  {
   "cell_type": "code",
   "execution_count": 39,
   "id": "6866c67a-fb73-493f-a480-5ebf330dd234",
   "metadata": {
    "tags": []
   },
   "outputs": [
    {
     "data": {
      "application/vnd.jupyter.widget-view+json": {
       "model_id": "abaa14e9045447eca48b97f47ef9d403",
       "version_major": 2,
       "version_minor": 0
      },
      "text/plain": [
       "world states loop:   0%|          | 0/16 [00:00<?, ?it/s]"
      ]
     },
     "metadata": {},
     "output_type": "display_data"
    },
    {
     "name": "stdout",
     "output_type": "stream",
     "text": [
      "colordict init success\n"
     ]
    },
    {
     "data": {
      "application/vnd.jupyter.widget-view+json": {
       "model_id": "24c15096cab840e790051f67fd6b3293",
       "version_major": 2,
       "version_minor": 0
      },
      "text/plain": [
       "3D plots:   0%|                                                                                               …"
      ]
     },
     "metadata": {},
     "output_type": "display_data"
    },
    {
     "name": "stdout",
     "output_type": "stream",
     "text": [
      "colordict init success\n"
     ]
    },
    {
     "data": {
      "application/vnd.jupyter.widget-view+json": {
       "model_id": "61d5832951c642088cff492bad0f0c60",
       "version_major": 2,
       "version_minor": 0
      },
      "text/plain": [
       "3D plots:   0%|                                                                                               …"
      ]
     },
     "metadata": {},
     "output_type": "display_data"
    },
    {
     "name": "stdout",
     "output_type": "stream",
     "text": [
      "colordict init success\n"
     ]
    },
    {
     "data": {
      "application/vnd.jupyter.widget-view+json": {
       "model_id": "4c17d52283d54aa69226038409cc8f3b",
       "version_major": 2,
       "version_minor": 0
      },
      "text/plain": [
       "3D plots:   0%|                                                                                               …"
      ]
     },
     "metadata": {},
     "output_type": "display_data"
    },
    {
     "name": "stdout",
     "output_type": "stream",
     "text": [
      "colordict init success\n"
     ]
    },
    {
     "data": {
      "application/vnd.jupyter.widget-view+json": {
       "model_id": "e8ff30317dcc499aaf1fac9ab90ff218",
       "version_major": 2,
       "version_minor": 0
      },
      "text/plain": [
       "3D plots:   0%|                                                                                               …"
      ]
     },
     "metadata": {},
     "output_type": "display_data"
    },
    {
     "name": "stdout",
     "output_type": "stream",
     "text": [
      "colordict init success\n"
     ]
    },
    {
     "data": {
      "application/vnd.jupyter.widget-view+json": {
       "model_id": "f1e16d252e4d4ee3b707541fe8e9abb3",
       "version_major": 2,
       "version_minor": 0
      },
      "text/plain": [
       "3D plots:   0%|                                                                                               …"
      ]
     },
     "metadata": {},
     "output_type": "display_data"
    },
    {
     "name": "stdout",
     "output_type": "stream",
     "text": [
      "colordict init success\n"
     ]
    },
    {
     "data": {
      "application/vnd.jupyter.widget-view+json": {
       "model_id": "10d0e18cfcf54083acaa7dfc10a11067",
       "version_major": 2,
       "version_minor": 0
      },
      "text/plain": [
       "3D plots:   0%|                                                                                               …"
      ]
     },
     "metadata": {},
     "output_type": "display_data"
    },
    {
     "name": "stdout",
     "output_type": "stream",
     "text": [
      "colordict init success\n"
     ]
    },
    {
     "data": {
      "application/vnd.jupyter.widget-view+json": {
       "model_id": "bc5c9a4547634cd4835154d282d5f200",
       "version_major": 2,
       "version_minor": 0
      },
      "text/plain": [
       "3D plots:   0%|                                                                                               …"
      ]
     },
     "metadata": {},
     "output_type": "display_data"
    },
    {
     "name": "stdout",
     "output_type": "stream",
     "text": [
      "colordict init success\n"
     ]
    },
    {
     "data": {
      "application/vnd.jupyter.widget-view+json": {
       "model_id": "e087ac32bb144eecb78d5f0a33607547",
       "version_major": 2,
       "version_minor": 0
      },
      "text/plain": [
       "3D plots:   0%|                                                                                               …"
      ]
     },
     "metadata": {},
     "output_type": "display_data"
    },
    {
     "name": "stdout",
     "output_type": "stream",
     "text": [
      "colordict init success\n"
     ]
    },
    {
     "data": {
      "application/vnd.jupyter.widget-view+json": {
       "model_id": "ed6e985e275f49168e6a51194bee695c",
       "version_major": 2,
       "version_minor": 0
      },
      "text/plain": [
       "3D plots:   0%|                                                                                               …"
      ]
     },
     "metadata": {},
     "output_type": "display_data"
    },
    {
     "name": "stdout",
     "output_type": "stream",
     "text": [
      "colordict init success\n"
     ]
    },
    {
     "data": {
      "application/vnd.jupyter.widget-view+json": {
       "model_id": "71003c6a2fc64d58a9be97e603db8ad4",
       "version_major": 2,
       "version_minor": 0
      },
      "text/plain": [
       "3D plots:   0%|                                                                                               …"
      ]
     },
     "metadata": {},
     "output_type": "display_data"
    },
    {
     "name": "stdout",
     "output_type": "stream",
     "text": [
      "colordict init success\n"
     ]
    },
    {
     "data": {
      "application/vnd.jupyter.widget-view+json": {
       "model_id": "01aab6d7bce54ed48481700403994e69",
       "version_major": 2,
       "version_minor": 0
      },
      "text/plain": [
       "3D plots:   0%|                                                                                               …"
      ]
     },
     "metadata": {},
     "output_type": "display_data"
    },
    {
     "name": "stdout",
     "output_type": "stream",
     "text": [
      "colordict init success\n"
     ]
    },
    {
     "data": {
      "application/vnd.jupyter.widget-view+json": {
       "model_id": "d4643c0b60694019a0309541851328d2",
       "version_major": 2,
       "version_minor": 0
      },
      "text/plain": [
       "3D plots:   0%|                                                                                               …"
      ]
     },
     "metadata": {},
     "output_type": "display_data"
    },
    {
     "name": "stdout",
     "output_type": "stream",
     "text": [
      "colordict init success\n"
     ]
    },
    {
     "data": {
      "application/vnd.jupyter.widget-view+json": {
       "model_id": "9efa45ae929c4666ae1c64c6c53923b8",
       "version_major": 2,
       "version_minor": 0
      },
      "text/plain": [
       "3D plots:   0%|                                                                                               …"
      ]
     },
     "metadata": {},
     "output_type": "display_data"
    },
    {
     "name": "stdout",
     "output_type": "stream",
     "text": [
      "colordict init success\n"
     ]
    },
    {
     "data": {
      "application/vnd.jupyter.widget-view+json": {
       "model_id": "3424c5c5b99c4e20bce2f3ebd5c45aa9",
       "version_major": 2,
       "version_minor": 0
      },
      "text/plain": [
       "3D plots:   0%|                                                                                               …"
      ]
     },
     "metadata": {},
     "output_type": "display_data"
    },
    {
     "name": "stdout",
     "output_type": "stream",
     "text": [
      "colordict init success\n"
     ]
    },
    {
     "data": {
      "application/vnd.jupyter.widget-view+json": {
       "model_id": "eb4f96870a2d447aa982d74ec262c3a5",
       "version_major": 2,
       "version_minor": 0
      },
      "text/plain": [
       "3D plots:   0%|                                                                                               …"
      ]
     },
     "metadata": {},
     "output_type": "display_data"
    },
    {
     "name": "stdout",
     "output_type": "stream",
     "text": [
      "colordict init success\n"
     ]
    },
    {
     "data": {
      "application/vnd.jupyter.widget-view+json": {
       "model_id": "8b462e5a752240c4868764e5a1e1ec01",
       "version_major": 2,
       "version_minor": 0
      },
      "text/plain": [
       "3D plots:   0%|                                                                                               …"
      ]
     },
     "metadata": {},
     "output_type": "display_data"
    }
   ],
   "source": [
    "# GANCA_WGANGP_DUAL_D　(all done)\n",
    "\n",
    "# visualize_snapshots_in_path(\n",
    "#     min_epoch = 0,\n",
    "#     max_epoch = 16, \n",
    "#     snapshots_folder_path = 'lightning_logs/GANCA_WGANGP_DUAL_D/version_0/gen_snapshots', \n",
    "#     n_cols = 4,\n",
    "#     explode_world=False,\n",
    "#     trim_world=False,\n",
    "#     no_air = True,\n",
    "#     alpha = False,\n",
    "#     world = True,\n",
    "#     explode_alpha = False,\n",
    "#     trim_alpha = False,\n",
    "#     metric='euclidean',\n",
    "# )"
   ]
  },
  {
   "cell_type": "code",
   "execution_count": 8,
   "id": "6370de9d-6139-4867-a688-975376b8e8c5",
   "metadata": {
    "collapsed": true,
    "jupyter": {
     "outputs_hidden": true
    },
    "tags": []
   },
   "outputs": [
    {
     "data": {
      "application/vnd.jupyter.widget-view+json": {
       "model_id": "e9320f69bdac4b448fd1d942ce6d3510",
       "version_major": 2,
       "version_minor": 0
      },
      "text/plain": [
       "world states loop:   0%|          | 0/16 [00:00<?, ?it/s]"
      ]
     },
     "metadata": {},
     "output_type": "display_data"
    },
    {
     "name": "stdout",
     "output_type": "stream",
     "text": [
      "colordict init success\n"
     ]
    },
    {
     "data": {
      "application/vnd.jupyter.widget-view+json": {
       "model_id": "8514de62e325407d90859fb1bdfea60e",
       "version_major": 2,
       "version_minor": 0
      },
      "text/plain": [
       "3D plots:   0%|                                                                                               …"
      ]
     },
     "metadata": {},
     "output_type": "display_data"
    },
    {
     "name": "stdout",
     "output_type": "stream",
     "text": [
      "colordict init success\n"
     ]
    },
    {
     "data": {
      "application/vnd.jupyter.widget-view+json": {
       "model_id": "5abc795adf9e42919950fad6b0a94ea6",
       "version_major": 2,
       "version_minor": 0
      },
      "text/plain": [
       "3D plots:   0%|                                                                                               …"
      ]
     },
     "metadata": {},
     "output_type": "display_data"
    },
    {
     "name": "stdout",
     "output_type": "stream",
     "text": [
      "colordict init success\n"
     ]
    },
    {
     "data": {
      "application/vnd.jupyter.widget-view+json": {
       "model_id": "2d1aeb694040476c948fc4c314c4fc3a",
       "version_major": 2,
       "version_minor": 0
      },
      "text/plain": [
       "3D plots:   0%|                                                                                               …"
      ]
     },
     "metadata": {},
     "output_type": "display_data"
    },
    {
     "name": "stdout",
     "output_type": "stream",
     "text": [
      "colordict init success\n"
     ]
    },
    {
     "data": {
      "application/vnd.jupyter.widget-view+json": {
       "model_id": "b3f3b651dc06464c84da2cfba39e6cf1",
       "version_major": 2,
       "version_minor": 0
      },
      "text/plain": [
       "3D plots:   0%|                                                                                               …"
      ]
     },
     "metadata": {},
     "output_type": "display_data"
    },
    {
     "name": "stdout",
     "output_type": "stream",
     "text": [
      "colordict init success\n"
     ]
    },
    {
     "data": {
      "application/vnd.jupyter.widget-view+json": {
       "model_id": "4faae7f63205465ab696778cd81ec035",
       "version_major": 2,
       "version_minor": 0
      },
      "text/plain": [
       "3D plots:   0%|                                                                                               …"
      ]
     },
     "metadata": {},
     "output_type": "display_data"
    },
    {
     "name": "stdout",
     "output_type": "stream",
     "text": [
      "colordict init success\n"
     ]
    },
    {
     "data": {
      "application/vnd.jupyter.widget-view+json": {
       "model_id": "75e79ddc196f46c9a89036a863aa3aa0",
       "version_major": 2,
       "version_minor": 0
      },
      "text/plain": [
       "3D plots:   0%|                                                                                               …"
      ]
     },
     "metadata": {},
     "output_type": "display_data"
    },
    {
     "name": "stdout",
     "output_type": "stream",
     "text": [
      "colordict init success\n"
     ]
    },
    {
     "data": {
      "application/vnd.jupyter.widget-view+json": {
       "model_id": "b0b7091b23ec4586a06528c1828b800f",
       "version_major": 2,
       "version_minor": 0
      },
      "text/plain": [
       "3D plots:   0%|                                                                                               …"
      ]
     },
     "metadata": {},
     "output_type": "display_data"
    },
    {
     "name": "stdout",
     "output_type": "stream",
     "text": [
      "colordict init success\n"
     ]
    },
    {
     "data": {
      "application/vnd.jupyter.widget-view+json": {
       "model_id": "43b30f0466c04aed8a546988f481e37b",
       "version_major": 2,
       "version_minor": 0
      },
      "text/plain": [
       "3D plots:   0%|                                                                                               …"
      ]
     },
     "metadata": {},
     "output_type": "display_data"
    },
    {
     "name": "stdout",
     "output_type": "stream",
     "text": [
      "colordict init success\n"
     ]
    },
    {
     "data": {
      "application/vnd.jupyter.widget-view+json": {
       "model_id": "a340a2c2b86544a18f9aa292950102b3",
       "version_major": 2,
       "version_minor": 0
      },
      "text/plain": [
       "3D plots:   0%|                                                                                               …"
      ]
     },
     "metadata": {},
     "output_type": "display_data"
    },
    {
     "name": "stdout",
     "output_type": "stream",
     "text": [
      "colordict init success\n"
     ]
    },
    {
     "data": {
      "application/vnd.jupyter.widget-view+json": {
       "model_id": "ecbce7212b13402aa7e8e032cc219673",
       "version_major": 2,
       "version_minor": 0
      },
      "text/plain": [
       "3D plots:   0%|                                                                                               …"
      ]
     },
     "metadata": {},
     "output_type": "display_data"
    },
    {
     "name": "stdout",
     "output_type": "stream",
     "text": [
      "colordict init success\n"
     ]
    },
    {
     "data": {
      "application/vnd.jupyter.widget-view+json": {
       "model_id": "ede35105bdd943da8a2d23b163f03de5",
       "version_major": 2,
       "version_minor": 0
      },
      "text/plain": [
       "3D plots:   0%|                                                                                               …"
      ]
     },
     "metadata": {},
     "output_type": "display_data"
    },
    {
     "name": "stdout",
     "output_type": "stream",
     "text": [
      "colordict init success\n"
     ]
    },
    {
     "data": {
      "application/vnd.jupyter.widget-view+json": {
       "model_id": "784bdf3cfc784f5c9c5c624cf28cfa0d",
       "version_major": 2,
       "version_minor": 0
      },
      "text/plain": [
       "3D plots:   0%|                                                                                               …"
      ]
     },
     "metadata": {},
     "output_type": "display_data"
    },
    {
     "name": "stdout",
     "output_type": "stream",
     "text": [
      "colordict init success\n"
     ]
    },
    {
     "data": {
      "application/vnd.jupyter.widget-view+json": {
       "model_id": "a8f27e406ba941a389bda172c863b4fe",
       "version_major": 2,
       "version_minor": 0
      },
      "text/plain": [
       "3D plots:   0%|                                                                                               …"
      ]
     },
     "metadata": {},
     "output_type": "display_data"
    },
    {
     "name": "stdout",
     "output_type": "stream",
     "text": [
      "colordict init success\n"
     ]
    },
    {
     "data": {
      "application/vnd.jupyter.widget-view+json": {
       "model_id": "26376a34fbda4d37a30e3406941a40ef",
       "version_major": 2,
       "version_minor": 0
      },
      "text/plain": [
       "3D plots:   0%|                                                                                               …"
      ]
     },
     "metadata": {},
     "output_type": "display_data"
    },
    {
     "name": "stdout",
     "output_type": "stream",
     "text": [
      "colordict init success\n"
     ]
    },
    {
     "data": {
      "application/vnd.jupyter.widget-view+json": {
       "model_id": "f67abc3e82b14aeeb86b61175cdbfda5",
       "version_major": 2,
       "version_minor": 0
      },
      "text/plain": [
       "3D plots:   0%|                                                                                               …"
      ]
     },
     "metadata": {},
     "output_type": "display_data"
    },
    {
     "name": "stdout",
     "output_type": "stream",
     "text": [
      "colordict init success\n"
     ]
    },
    {
     "data": {
      "application/vnd.jupyter.widget-view+json": {
       "model_id": "6bea3bb7688542ac8a8bfe672cf97367",
       "version_major": 2,
       "version_minor": 0
      },
      "text/plain": [
       "3D plots:   0%|                                                                                               …"
      ]
     },
     "metadata": {},
     "output_type": "display_data"
    }
   ],
   "source": [
    "# Deconv_WGANGP (all done)\n",
    "\n",
    "visualize_snapshots_in_path(\n",
    "    min_epoch = 0,\n",
    "    max_epoch = 16, \n",
    "    snapshots_folder_path = 'lightning_logs/Deconv_WGANGP/version_0/gen_snapshots', \n",
    "    n_cols = 4,\n",
    "    explode_world=False,\n",
    "    trim_world=False,\n",
    "    no_air = False,\n",
    "    alpha = False,\n",
    "    world = True,\n",
    "    explode_alpha = False,\n",
    "    trim_alpha = False,\n",
    "    metric='euclidean',\n",
    ")"
   ]
  },
  {
   "cell_type": "markdown",
   "id": "5eb10499",
   "metadata": {},
   "source": [
    "## Metrics Visualise"
   ]
  },
  {
   "cell_type": "code",
   "execution_count": 1,
   "id": "7d4c819c",
   "metadata": {},
   "outputs": [],
   "source": [
    "# !wget https://github.com/chaosarium/deep-learning-experiments/raw/master/pytorchlightning/tflogs2pandas.py"
   ]
  },
  {
   "cell_type": "code",
   "execution_count": 2,
   "id": "86934853",
   "metadata": {},
   "outputs": [],
   "source": [
    "from matplotlib import pyplot as plt\n",
    "import seaborn as sns\n",
    "import pandas as pd\n",
    "from tensorboard.backend.event_processing.event_accumulator import EventAccumulator\n",
    "from tflogs2pandas import tflog2pandas\n",
    "import os\n",
    "sns.set_theme()\n",
    "\n",
    "plt.ion()\n",
    "%matplotlib inline"
   ]
  },
  {
   "cell_type": "code",
   "execution_count": 3,
   "id": "b0e5e395",
   "metadata": {},
   "outputs": [],
   "source": [
    "# load from tensorboard log\n",
    "\n",
    "versions = [\n",
    "    'lightning_logs/GANCA_MMGAN/version_0',\n",
    "    'lightning_logs/GANCA_WGAN/version_0',\n",
    "    'lightning_logs/GANCA_WGANGP/version_0',\n",
    "    'lightning_logs/GANCA_WGANGP_DUAL_D/version_0',\n",
    "    'lightning_logs/Deconv_WGANGP/version_0',\n",
    "]"
   ]
  },
  {
   "cell_type": "code",
   "execution_count": 11,
   "id": "c9cd4a05",
   "metadata": {},
   "outputs": [
    {
     "name": "stdout",
     "output_type": "stream",
     "text": [
      "loading lightning_logs/GANCA_MMGAN/version_0\n",
      "Index(['avg_acc', 'd_loss', 'epoch', 'fake_acc', 'fake_loss', 'g_loss',\n",
      "       'real_acc', 'real_loss'],\n",
      "      dtype='object', name='metric') \n",
      "\n",
      "loading lightning_logs/GANCA_WGAN/version_0\n",
      "Index(['d_loss', 'epoch', 'fake_loss', 'g_loss', 'real_loss'], dtype='object', name='metric') \n",
      "\n",
      "loading lightning_logs/GANCA_WGANGP/version_0\n",
      "Index(['d_loss', 'epoch', 'fake_validity', 'g_loss', 'real_validity'], dtype='object', name='metric') \n",
      "\n",
      "loading lightning_logs/GANCA_WGANGP_DUAL_D/version_0\n",
      "Index(['d_a_loss', 'd_loss', 'epoch', 'fake_alpha_validity', 'fake_validity',\n",
      "       'g_loss', 'real_alpha_validity', 'real_validity'],\n",
      "      dtype='object', name='metric') \n",
      "\n",
      "loading lightning_logs/Deconv_WGANGP/version_0\n",
      "Index(['d_loss', 'epoch', 'fake_validity', 'g_loss', 'real_validity'], dtype='object', name='metric') \n",
      "\n"
     ]
    }
   ],
   "source": [
    "log_dfs = []\n",
    "for version in versions:\n",
    "    print(f\"loading {version}\")\n",
    "    log_df = tflog2pandas(version)\n",
    "    log_df = log_df.pivot(columns='metric', values='value')\n",
    "    print(log_df.keys(), '\\n')\n",
    "    log_dfs.append(log_df)\n",
    "\n",
    "rolling_log_dfs = []\n",
    "rolling_window = 20\n",
    "\n",
    "for log_df in log_dfs:\n",
    "    smoothed_log_df = log_df.rolling(rolling_window, min_periods=1).mean()\n",
    "    rolling_log_dfs.append(smoothed_log_df)"
   ]
  },
  {
   "cell_type": "markdown",
   "id": "d9958091",
   "metadata": {},
   "source": [
    "### Epoch"
   ]
  },
  {
   "cell_type": "markdown",
   "id": "b077013b",
   "metadata": {},
   "source": [
    "### G Loss"
   ]
  },
  {
   "cell_type": "markdown",
   "id": "2e437a06",
   "metadata": {},
   "source": [
    "### D Loss"
   ]
  },
  {
   "cell_type": "markdown",
   "id": "23451229",
   "metadata": {},
   "source": [
    "### D A Loss"
   ]
  },
  {
   "cell_type": "markdown",
   "id": "0ac29eeb",
   "metadata": {},
   "source": [
    "### Real Validity"
   ]
  },
  {
   "cell_type": "markdown",
   "id": "00adb8a9",
   "metadata": {},
   "source": [
    "### Fake Validity"
   ]
  },
  {
   "cell_type": "markdown",
   "id": "ed6d2dd1",
   "metadata": {},
   "source": [
    "### ACC"
   ]
  },
  {
   "cell_type": "markdown",
   "id": "ca9c2951",
   "metadata": {},
   "source": [
    "### Combined"
   ]
  },
  {
   "cell_type": "code",
   "execution_count": 5,
   "id": "d41d3070",
   "metadata": {},
   "outputs": [
    {
     "data": {
      "image/png": "[encoded data removed]",
      "text/plain": [
       "<Figure size 1440x864 with 4 Axes>"
      ]
     },
     "metadata": {
      "needs_background": "light"
     },
     "output_type": "display_data"
    }
   ],
   "source": [
    "fig, ((ax1, ax2), (ax3, ax4)) = plt.subplots(2,2, figsize=(20,12))\n",
    "\n",
    "sns.lineplot(data=log_df[[\"epoch\"]], ax=ax1)\n",
    "sns.lineplot(data=log_df[['g_loss', 'd_loss']], ax=ax2)\n",
    "sns.lineplot(data=log_df[['real_validity', 'fake_validity']], ax=ax3)\n",
    "# sns.lineplot(data=log_df[['d_loss', 'real_loss', 'fake_loss']], ax=ax4)\n",
    "            \n",
    "plt.show()"
   ]
  }
 ],
 "metadata": {
  "kernelspec": {
   "display_name": "Python 3 (ipykernel)",
   "language": "python",
   "name": "python3"
  },
  "language_info": {
   "codemirror_mode": {
    "name": "ipython",
    "version": 3
   },
   "file_extension": ".py",
   "mimetype": "text/x-python",
   "name": "python",
   "nbconvert_exporter": "python",
   "pygments_lexer": "ipython3",
   "version": "3.9.7"
  }
 },
 "nbformat": 4,
 "nbformat_minor": 5
}
