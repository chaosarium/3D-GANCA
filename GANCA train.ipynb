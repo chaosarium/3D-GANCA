{
  "cells": [
    {
      "cell_type": "markdown",
      "metadata": {
        "id": "view-in-github",
        "colab_type": "text"
      },
      "source": [
        "<a href=\"https://colab.research.google.com/github/chaosarium/3D-GANCA/blob/master/GANCA%20train.ipynb\" target=\"_parent\"><img src=\"https://colab.research.google.com/assets/colab-badge.svg\" alt=\"Open In Colab\"/></a>"
      ]
    },
    {
      "cell_type": "markdown",
      "metadata": {
        "id": "l6Ma8GkMY4xd"
      },
      "source": [
        "# Training GANCA-3D"
      ]
    },
    {
      "cell_type": "code",
      "source": [
        "!wget -q https://github.com/chaosarium/3D-GANCA/raw/master/data_helper.py\n",
        "!wget -q https://github.com/chaosarium/3D-GANCA/raw/master/utils.py\n",
        "!wget -q https://github.com/chaosarium/3D-GANCA/raw/master/models.py\n",
        "!wget -q https://github.com/chaosarium/3D-GANCA/raw/master/block_ids_alt.tsv\n",
        "!wget -q https://github.com/chaosarium/3D-GANCA/raw/master/output.zip\n",
        "!unzip -q output.zip\n",
        "!wget -q https://github.com/chaosarium/3D-GANCA/blob/master/dataset/filtered_houses_stats.pkl4 -O dataset/filtered_houses_stats.pkl4\n",
        "!wget -q https://github.com/chaosarium/3D-GANCA/blob/master/dataset/filtered_houses_stats.pkl -O dataset/filtered_houses_stats.pkl"
      ],
      "metadata": {
        "id": "KsBYltuhZqzQ",
        "colab": {
          "base_uri": "https://localhost:8080/"
        },
        "outputId": "ce685181-45ae-41b2-ef4c-6a446818c3ab"
      },
      "execution_count": null,
      "outputs": [
        {
          "output_type": "stream",
          "name": "stdout",
          "text": [
            "dataset/filtered_houses_stats.pkl4: No such file or directory\n",
            "dataset/filtered_houses_stats.pkl: No such file or directory\n"
          ]
        }
      ]
    },
    {
      "cell_type": "code",
      "source": [
        "|!pip --quiet install torchsummaryX loguru einops pytorch_lightning"
      ],
      "metadata": {
        "colab": {
          "base_uri": "https://localhost:8080/"
        },
        "id": "OXAbk29ubUCP",
        "outputId": "f295e52e-d03b-4404-fe6a-be7dd410ae0b"
      },
      "execution_count": null,
      "outputs": [
        {
          "output_type": "stream",
          "name": "stdout",
          "text": [
            "\u001b[?25l\r\u001b[K     |█████▋                          | 10 kB 34.7 MB/s eta 0:00:01\r\u001b[K     |███████████▎                    | 20 kB 15.2 MB/s eta 0:00:01\r\u001b[K     |████████████████▉               | 30 kB 13.8 MB/s eta 0:00:01\r\u001b[K     |██████████████████████▌         | 40 kB 13.7 MB/s eta 0:00:01\r\u001b[K     |████████████████████████████    | 51 kB 8.6 MB/s eta 0:00:01\r\u001b[K     |████████████████████████████████| 58 kB 4.3 MB/s \n",
            "\u001b[K     |████████████████████████████████| 527 kB 17.2 MB/s \n",
            "\u001b[K     |████████████████████████████████| 134 kB 88.6 MB/s \n",
            "\u001b[K     |████████████████████████████████| 596 kB 69.7 MB/s \n",
            "\u001b[K     |████████████████████████████████| 397 kB 87.2 MB/s \n",
            "\u001b[K     |████████████████████████████████| 829 kB 86.4 MB/s \n",
            "\u001b[K     |████████████████████████████████| 952 kB 77.2 MB/s \n",
            "\u001b[K     |████████████████████████████████| 1.1 MB 51.0 MB/s \n",
            "\u001b[K     |████████████████████████████████| 271 kB 73.5 MB/s \n",
            "\u001b[K     |████████████████████████████████| 94 kB 3.9 MB/s \n",
            "\u001b[K     |████████████████████████████████| 144 kB 79.5 MB/s \n",
            "\u001b[?25h  Building wheel for future (setup.py) ... \u001b[?25l\u001b[?25hdone\n",
            "\u001b[31mERROR: pip's dependency resolver does not currently take into account all the packages that are installed. This behaviour is the source of the following dependency conflicts.\n",
            "tensorflow 2.8.0 requires tf-estimator-nightly==2.8.0.dev2021122109, which is not installed.\n",
            "datascience 0.10.6 requires folium==0.2.1, but you have folium 0.8.3 which is incompatible.\u001b[0m\n"
          ]
        }
      ]
    },
    {
      "cell_type": "code",
      "execution_count": null,
      "metadata": {
        "id": "G0AuuMetY4xh",
        "outputId": "7d4500f4-10c3-48bb-931d-6ab0d43dd1d7",
        "colab": {
          "base_uri": "https://localhost:8080/"
        }
      },
      "outputs": [
        {
          "output_type": "stream",
          "name": "stdout",
          "text": [
            "CUDNN VERSION: 8005\n",
            "Number CUDA Devices: 1\n",
            "CUDA Device Name: Tesla P100-PCIE-16GB\n",
            "CUDA Device Total Memory [GB]: 17.071734784\n"
          ]
        }
      ],
      "source": [
        "# import stuff\n",
        "\n",
        "import data_helper\n",
        "import utils\n",
        "\n",
        "%load_ext autoreload\n",
        "%autoreload 2\n",
        "\n",
        "import numpy as np\n",
        "import sys\n",
        "import pickle\n",
        "import torch\n",
        "import random\n",
        "from torchsummary import summary\n",
        "import matplotlib.pyplot as plt\n",
        "\n",
        "from loguru import logger as gurulogger\n",
        "gurulogger.remove()\n",
        "gurulogger.add(sys.stdout, colorize=True, format=\"<blue>{time}</blue> <level>{message}</level>\")\n",
        "gurulogger.level(\"INFO\", color=\"<red><bold>\")\n",
        "\n",
        "\n",
        "import os\n",
        "from einops import rearrange\n",
        "import torch.nn as nn\n",
        "import torch.nn.functional as F\n",
        "import pandas as pd\n",
        "\n",
        "BLOCK2VEC_OUT_PATH = 'output/block2vec saves/block2vec 64 dim/'\n",
        "NUM_WORKERS = int(os.cpu_count() / 2)\n",
        "\n",
        "import pytorch_lightning as pl\n",
        "\n",
        "if torch.cuda.is_available():\n",
        "    print('CUDNN VERSION:', torch.backends.cudnn.version())\n",
        "    print('Number CUDA Devices:', torch.cuda.device_count())\n",
        "    print('CUDA Device Name:',torch.cuda.get_device_name(0))\n",
        "    print('CUDA Device Total Memory [GB]:',torch.cuda.get_device_properties(0).total_memory/1e9)"
      ]
    },
    {
      "cell_type": "code",
      "execution_count": null,
      "metadata": {
        "id": "ulC-44_aY4xk"
      },
      "outputs": [],
      "source": [
        "embedding, mcid2block, block2embeddingidx, embeddingidx2block = utils.get_embedding_info(BLOCK2VEC_OUT_PATH)"
      ]
    },
    {
      "cell_type": "code",
      "execution_count": null,
      "metadata": {
        "id": "gErQRt4LY4xl"
      },
      "outputs": [],
      "source": [
        "from data_helper import GANCA3DDataModule"
      ]
    },
    {
      "cell_type": "code",
      "execution_count": null,
      "metadata": {
        "id": "UbTQFWIfY4xm"
      },
      "outputs": [],
      "source": [
        "from models import VoxelPerceptionNet, VoxelUpdateNet, VoxelNCAModel, VoxelDiscriminator\n",
        "from pytorch_lightning import Trainer"
      ]
    },
    {
      "cell_type": "code",
      "execution_count": null,
      "metadata": {
        "id": "wrdmz_nMY4xm"
      },
      "outputs": [],
      "source": [
        "%load_ext tensorboard\n",
        "# %tensorboard --logdir lightning_logs/"
      ]
    },
    {
      "cell_type": "code",
      "execution_count": null,
      "metadata": {
        "id": "eELhjPZ1Y4xn"
      },
      "outputs": [],
      "source": [
        "class GANCA(pl.LightningModule):\n",
        "\n",
        "    def __init__(self,\n",
        "            lr = 2e-4,\n",
        "            beta1 = 0.9,\n",
        "            beta2 = 0.999,\n",
        "            batch_size = 16,\n",
        "            num_embedding_channels = 64,\n",
        "            num_hidden_channels = 63,\n",
        "            update_net_channel_dims = [32, 32],\n",
        "            embedding: torch.nn.Embedding = None,\n",
        "            step_range = [16, 20],\n",
        "        ):\n",
        "        \n",
        "        super().__init__()\n",
        "        # call this to save args to the checkpoint\n",
        "        self.save_hyperparameters()\n",
        "        \n",
        "        self.lr = lr\n",
        "        self.beta1 = beta1\n",
        "        self.beta2 = beta2\n",
        "        self.batch_size = batch_size\n",
        "        self.num_embedding_channels = num_embedding_channels\n",
        "        self.num_hidden_channels = num_hidden_channels\n",
        "        self.update_net_channel_dims = update_net_channel_dims\n",
        "        # the channels will be like [alpha, embeddings ... , hiddens ...]\n",
        "        self.num_channels = 1 + self.num_embedding_channels + self.num_hidden_channels\n",
        "        self.world_size = (32,32,32)\n",
        "        self.embedding = embedding\n",
        "        self.embedding.weight.requires_grad=False # freeze embeddings\n",
        "        self.step_range = step_range\n",
        "        \n",
        "        self.generator = VoxelNCAModel(\n",
        "            alpha_living_threshold = 0.1,\n",
        "            cell_fire_rate = 0.5,\n",
        "            num_perceptions = 3,\n",
        "            perception_requires_grad = True,\n",
        "            num_embedding_channels = self.num_embedding_channels,\n",
        "            num_hidden_channels = self.num_hidden_channels,\n",
        "            normal_std = 0.0002,\n",
        "            use_normal_init = True,\n",
        "            zero_bias = True,\n",
        "            update_net_channel_dims = self.update_net_channel_dims,\n",
        "        )\n",
        "        self.discriminator = VoxelDiscriminator(\n",
        "            num_in_channels = self.num_embedding_channels, \n",
        "            use_sigmoid=True,\n",
        "        )\n",
        "        \n",
        "        # generate some random seeds (N, channels, x, y, z)\n",
        "        self.validation_noise = self.make_seed_states(16)\n",
        "        \n",
        "    def make_seed_states(self, batch_size):\n",
        "        return utils.make_seed_state(\n",
        "            batch_size = batch_size,\n",
        "            num_channels = self.num_channels, \n",
        "            alpha_channel_index = 0,\n",
        "            seed_dim = (4, 4, 4), \n",
        "            world_size = self.world_size,\n",
        "        )\n",
        "    \n",
        "    def training_step(self, batch, batch_idx, optimizer_idx):\n",
        "        \n",
        "        num_steps = random.randint(*self.step_range)\n",
        "            \n",
        "        real_houses = batch\n",
        "        type_holder = batch[0,0,0,0].to(torch.float) # this is a dummy type for creating labels\n",
        "        # gurulogger.info(f'created typeholder tensor {type_holder} for new tensors with type {type_holder.type()} on device {type_holder.get_device()}')\n",
        "        size_this_batch = real_houses.shape[0]\n",
        "        # gurulogger.info(f'got shape {real_houses.shape} as real example')\n",
        "                \n",
        "        # make noise\n",
        "        \n",
        "        seed_states = self.make_seed_states(size_this_batch).type_as(type_holder) # same batch size as those coming in\n",
        "        # gurulogger.info(f'made seed states with shape {seed_states.shape} and type {seed_states.type()}')\n",
        "            \n",
        "        # train generator\n",
        "        if optimizer_idx == 0:\n",
        "            \n",
        "            # gurulogger.info(\"ENTERING GENERATOR TRAIN LOOP\")\n",
        "\n",
        "            # generate images\n",
        "            fake_houses_states = self.generator.forward(seed_states, steps=num_steps)\n",
        "            # gurulogger.info(f'generated houses of shape {fake_houses_states.shape}')\n",
        "                        \n",
        "            # create ground truth result (all fake results) we want D to say the generated ones are real so they are all 1s\n",
        "            real_labels = utils.make_real_labels(size_this_batch).type_as(type_holder)\n",
        "            # gurulogger.info(f'real labels looks like: {real_labels}')\n",
        "            \n",
        "            # now get the embedding parts out of the fake states\n",
        "            fake_houses = fake_houses_states[:, 1:self.num_embedding_channels+1, :, :, :]\n",
        "            # gurulogger.info(f'extracted fake_houses with shape: {fake_houses.shape}')\n",
        "            \n",
        "            # see what discriminator thinks\n",
        "            fake_predictions = self.discriminator.forward(fake_houses)\n",
        "            # gurulogger.info(f\"the discriminator predicted {fake_predictions} for the houses. let's compare that to the real label {real_labels}\")\n",
        "            \n",
        "            # calculate loss\n",
        "            g_loss = F.binary_cross_entropy(fake_predictions, real_labels) # y_hat, y  \n",
        "            # gurulogger.info(f'gooooooooooooooooooooooooooooooooooooooood so far for generator. step done with g_loss **{g_loss}**')\n",
        "                                    \n",
        "            self.log(\"g_loss\", g_loss.detach(), prog_bar=True, logger=True)\n",
        "\n",
        "            return g_loss\n",
        "        \n",
        "        if optimizer_idx == 1:\n",
        "            \n",
        "            # gurulogger.info(\"ENTERING DISCRIMINATOR TRAIN LOOP\")\n",
        "            \n",
        "            # get embeddings for the real house\n",
        "            real_houses = utils.examples2embedding(real_houses, self.embedding)\n",
        "            \n",
        "            # gurulogger.info(f\"got embedded real houses with shape {real_houses.shape}\")\n",
        "\n",
        "            # pass in real image to D and try to make it predict all 1s\n",
        "            real_targets = utils.make_real_labels(size_this_batch).type_as(type_holder)\n",
        "            real_predictions = self.discriminator.forward(real_houses)\n",
        "            # gurulogger.info(f\"on a real house, D gave predictions: {real_predictions}; and we want to match the label {real_targets}\")\n",
        "            real_loss = F.binary_cross_entropy(real_predictions, real_targets)\n",
        "            # TODO fix accuracy formula\n",
        "            real_acc = torch.mean(real_predictions).item() # the average prediction. The closer to 1 the more accurate\n",
        "            # gurulogger.info(f\"real loss is therefore: {real_loss}; and real accuracy is {real_acc}\")\n",
        "            \n",
        "            # meanwhile, we also want D to be able to tell that outputs from G are all fake\n",
        "            fake_targets = utils.make_fake_labels(size_this_batch).type_as(type_holder)\n",
        "            fake_houses_states = self.generator.forward(seed_states, steps=num_steps).detach() # detach so that gradients don't pass back into generator\n",
        "            fake_houses = fake_houses_states[:, 1:self.num_embedding_channels+1, :, :, :] # extract the embedding parts\n",
        "            # gurulogger.info(f\"created fake target: {fake_targets}; generated from seeds fake houses output {fake_houses_states.shape} and extracted the embeddings to {fake_houses.shape}\")\n",
        "            fake_predictions = self.discriminator.forward(fake_houses)\n",
        "            # gurulogger.info(f\"D predicted: {fake_predictions} on fake houses\")\n",
        "            fake_loss = F.binary_cross_entropy(fake_predictions, fake_targets)\n",
        "            # TODO fix accuracy formula\n",
        "            fake_acc = 1 - torch.mean(fake_predictions).item() # the 1 - average prediction. The closer to 1 the more accurate\n",
        "            # gurulogger.info(f\"fake loss is therefore: {fake_loss}; and fake accuracy is {fake_acc}\")\n",
        "                        \n",
        "            # discriminator loss is the average of the two losses\n",
        "            d_loss = (real_loss + fake_loss) / 2\n",
        "            avg_acc = (real_acc + fake_acc) / 2\n",
        "            # gurulogger.info(f\"avg D loss is: {d_loss}; and avg accuracy is {avg_acc}\")\n",
        "                    \n",
        "            self.log(\"fake_loss\", fake_loss.detach(), prog_bar=False, logger=True)\n",
        "            self.log(\"real_loss\", real_loss.detach(), prog_bar=False, logger=True)\n",
        "            self.log(\"d_loss\", d_loss.detach(), prog_bar=True, logger=True)\n",
        "            self.log(\"real_acc\", real_acc, prog_bar=False, logger=True)\n",
        "            self.log(\"fake_acc\", fake_acc, prog_bar=False, logger=True)\n",
        "            self.log(\"avg_acc\", avg_acc, prog_bar=True, logger=True)\n",
        "\n",
        "            return d_loss\n",
        "\n",
        "    def configure_optimizers(self,):\n",
        "        # define pytorch optimizers here. return [list of optimizers], [list of LR schedulers]\n",
        "        g_optimizer = torch.optim.Adam(self.generator.parameters(), lr=self.lr, betas=(self.beta1, self.beta2))\n",
        "        d_optimizer = torch.optim.Adam(self.discriminator.parameters(), lr=self.lr, betas=(self.beta1, self.beta2))\n",
        "        return [g_optimizer, d_optimizer], []"
      ]
    },
    {
      "cell_type": "code",
      "execution_count": null,
      "metadata": {
        "id": "lonFxlJKY4xq"
      },
      "outputs": [],
      "source": [
        "model = GANCA(\n",
        "    lr = 2e-4,\n",
        "    beta1 = 0.9,\n",
        "    beta2 = 0.999,\n",
        "    batch_size = 8,\n",
        "    num_embedding_channels = 64,\n",
        "    num_hidden_channels = 63,\n",
        "    update_net_channel_dims = [16, 16],\n",
        "    embedding = embedding,\n",
        "    step_range = [16, 20],\n",
        ")"
      ]
    },
    {
      "cell_type": "code",
      "execution_count": null,
      "metadata": {
        "id": "9HO0hndNY4xr",
        "colab": {
          "base_uri": "https://localhost:8080/",
          "height": 156,
          "referenced_widgets": [
            "2bdc0941b3dc499496679c7183fbff37",
            "5ae9d82c8a094e79920bb1724cfe53e8",
            "96facbd6da40424c93f074bafcb76bbe",
            "9ecea295f69c405c93af3df43b354f75",
            "9a928ccf02ae4c668bfc2be196f31376",
            "42edc229ae79434388cea378717a9aaf",
            "a65f1f8a486f47419cab33d55d86d7f9",
            "67c0303d8a574ebe9e5b35036297b8d5",
            "9060020c253a4429bfadca4b37cb5f2c",
            "e369d4e56d89406f83db778df71ffe05",
            "c6fd5703ce2743948c5decccee2d602b"
          ]
        },
        "outputId": "6324c09c-c795-4879-e4fa-0fa57a25e588"
      },
      "outputs": [
        {
          "output_type": "stream",
          "name": "stdout",
          "text": [
            "Dataset already exists\n"
          ]
        },
        {
          "output_type": "stream",
          "name": "stderr",
          "text": [
            "/usr/local/lib/python3.7/dist-packages/pytorch_lightning/core/datamodule.py:175: LightningDeprecationWarning: DataModule property `dims` was deprecated in v1.5 and will be removed in v1.7.\n",
            "  rank_zero_deprecation(\"DataModule property `dims` was deprecated in v1.5 and will be removed in v1.7.\")\n"
          ]
        },
        {
          "output_type": "display_data",
          "data": {
            "application/vnd.jupyter.widget-view+json": {
              "model_id": "2bdc0941b3dc499496679c7183fbff37",
              "version_minor": 0,
              "version_major": 2
            },
            "text/plain": [
              "  0%|          | 0/1977 [00:00<?, ?it/s]"
            ]
          },
          "metadata": {}
        },
        {
          "output_type": "stream",
          "name": "stdout",
          "text": [
            "loaded 1977 houses\n",
            "Turning MC id into embedding idx. This could take up to a minute.\n"
          ]
        }
      ],
      "source": [
        "dm = GANCA3DDataModule(batch_size=8, num_workers=1, mcid2block = mcid2block, block2embeddingid = block2embeddingidx, debug=False)\n",
        "dm.prepare_data()\n",
        "dm.setup()"
      ]
    },
    {
      "cell_type": "code",
      "execution_count": null,
      "metadata": {
        "id": "1CR1dFG7Y4xr",
        "outputId": "8b398d80-b248-4be9-a5ca-3c034df5637b",
        "colab": {
          "base_uri": "https://localhost:8080/"
        }
      },
      "outputs": [
        {
          "output_type": "stream",
          "name": "stderr",
          "text": [
            "GPU available: True, used: True\n",
            "TPU available: False, using: 0 TPU cores\n",
            "IPU available: False, using: 0 IPUs\n"
          ]
        }
      ],
      "source": [
        "logger = pl.loggers.TensorBoardLogger(save_dir='lightning_logs', name='GANCA', default_hp_metric=False)\n",
        "trainer = Trainer(gpus=1, max_epochs=1, fast_dev_run=False, log_every_n_steps=1, logger=logger, profiler=\"simple\")"
      ]
    },
    {
      "cell_type": "code",
      "execution_count": null,
      "metadata": {
        "id": "QdN43RM2Y4xs",
        "outputId": "d8dcb443-6a68-4de7-b08b-018b8f06dd24",
        "colab": {
          "base_uri": "https://localhost:8080/",
          "height": 434,
          "referenced_widgets": [
            "ee702aff0c59434fa13204508cb5d22d",
            "c3805b1dda574f99a51de0c5d55b9680",
            "a5a13ea11c644321af52864783858480",
            "d609d2a11ddc48d2b5bfb05303d090d1",
            "726aa9cc89954c079c5f95faffbd4ac9",
            "dbf6830427734779b2205e75544b5d02",
            "d7c23ef46d9e4b8ab6c4086a11d23d1c",
            "c6254117a2a34d21b9880429680304b8",
            "906bb93fea954f17aec435cdbb592bee",
            "9eb0c4b9d0884e53badf26ab9bcab9c0",
            "dba04c61834b49b79f7bfd2b669a99ba"
          ]
        }
      },
      "outputs": [
        {
          "output_type": "stream",
          "name": "stderr",
          "text": [
            "/usr/local/lib/python3.7/dist-packages/pytorch_lightning/trainer/configuration_validator.py:120: UserWarning: You passed in a `val_dataloader` but have no `validation_step`. Skipping val loop.\n",
            "  rank_zero_warn(\"You passed in a `val_dataloader` but have no `validation_step`. Skipping val loop.\")\n",
            "/usr/local/lib/python3.7/dist-packages/pytorch_lightning/core/datamodule.py:470: LightningDeprecationWarning: DataModule.setup has already been called, so it will not be called again. In v1.6 this behavior will change to always call DataModule.setup.\n",
            "  f\"DataModule.{name} has already been called, so it will not be called again. \"\n",
            "LOCAL_RANK: 0 - CUDA_VISIBLE_DEVICES: [0]\n",
            "Missing logger folder: lightning_logs/GANCA\n",
            "\n",
            "  | Name          | Type               | Params\n",
            "-----------------------------------------------------\n",
            "0 | embedding     | Embedding          | 14.0 K\n",
            "1 | generator     | VoxelNCAModel      | 18.8 K\n",
            "2 | discriminator | VoxelDiscriminator | 11.3 M\n",
            "-----------------------------------------------------\n",
            "11.3 M    Trainable params\n",
            "14.0 K    Non-trainable params\n",
            "11.3 M    Total params\n",
            "45.244    Total estimated model params size (MB)\n",
            "/usr/local/lib/python3.7/dist-packages/pytorch_lightning/trainer/data_loading.py:133: UserWarning: The dataloader, train_dataloader, does not have many workers which may be a bottleneck. Consider increasing the value of the `num_workers` argument` (try 4 which is the number of cpus on this machine) in the `DataLoader` init to improve performance.\n",
            "  f\"The dataloader, {name}, does not have many workers which may be a bottleneck.\"\n"
          ]
        },
        {
          "output_type": "display_data",
          "data": {
            "application/vnd.jupyter.widget-view+json": {
              "model_id": "ee702aff0c59434fa13204508cb5d22d",
              "version_minor": 0,
              "version_major": 2
            },
            "text/plain": [
              "Training: 0it [00:00, ?it/s]"
            ]
          },
          "metadata": {}
        },
        {
          "output_type": "stream",
          "name": "stderr",
          "text": [
            "/usr/local/lib/python3.7/dist-packages/pytorch_lightning/trainer/trainer.py:688: UserWarning: Detected KeyboardInterrupt, attempting graceful shutdown...\n",
            "  rank_zero_warn(\"Detected KeyboardInterrupt, attempting graceful shutdown...\")\n"
          ]
        }
      ],
      "source": [
        "trainer.fit(model, dm)"
      ]
    },
    {
      "cell_type": "markdown",
      "metadata": {
        "id": "ja1BsY__Y4xs"
      },
      "source": [
        "---\n",
        "debug\n",
        "\n",
        "---"
      ]
    },
    {
      "cell_type": "code",
      "source": [
        "data_helper.download_dataset()"
      ],
      "metadata": {
        "colab": {
          "base_uri": "https://localhost:8080/"
        },
        "id": "rC-0waBoe_3E",
        "outputId": "5e7bc42d-9730-46e5-b93d-a1365c01bd27"
      },
      "execution_count": null,
      "outputs": [
        {
          "output_type": "stream",
          "name": "stdout",
          "text": [
            "Dataset already exists\n",
            "Extracting dataset to dataset/house_data\n"
          ]
        }
      ]
    },
    {
      "cell_type": "code",
      "execution_count": null,
      "metadata": {
        "id": "20w5XcifY4xt"
      },
      "outputs": [],
      "source": [
        "sample_state = torch.rand(1, 128, 32, 32, 32)\n",
        "sample_seed_state = utils.make_seed_state(\n",
        "    batch_size = 1,\n",
        "    num_channels = 128, \n",
        "    alpha_channel_index = 0,\n",
        "    seed_dim = (4, 4, 4), \n",
        "    world_size = (32,32,32),\n",
        ")"
      ]
    },
    {
      "cell_type": "code",
      "execution_count": null,
      "metadata": {
        "id": "rycvOOifY4xt",
        "outputId": "23325f53-7040-4b26-cadb-97b1404b6bba"
      },
      "outputs": [
        {
          "name": "stdout",
          "output_type": "stream",
          "text": [
            "\u001b[34m2022-02-28T20:32:09.898136+0800\u001b[0m \u001b[31m\u001b[1mit's shape torch.Size([1, 128, 32, 32, 32]) coming in to the perception net\u001b[0m\n",
            "\u001b[34m2022-02-28T20:32:10.059550+0800\u001b[0m \u001b[33m\u001b[1mit's shape torch.Size([1, 384, 32, 32, 32]) coming in to the update net\u001b[0m\n"
          ]
        },
        {
          "data": {
            "text/plain": [
              "tensor(2097196.2500, grad_fn=<SumBackward0>)"
            ]
          },
          "execution_count": 112,
          "metadata": {},
          "output_type": "execute_result"
        }
      ],
      "source": [
        "# before train\n",
        "out1 = model.generator.forward(sample_state, steps=1)\n",
        "torch.sum(out1)"
      ]
    },
    {
      "cell_type": "code",
      "execution_count": null,
      "metadata": {
        "id": "RCDTnkitY4xu",
        "outputId": "22842b52-394d-4232-ca94-d5ae3779cb33"
      },
      "outputs": [
        {
          "name": "stdout",
          "output_type": "stream",
          "text": [
            "\u001b[34m2022-02-28T20:32:54.688500+0800\u001b[0m \u001b[31m\u001b[1mit's shape torch.Size([1, 128, 32, 32, 32]) coming in to the perception net\u001b[0m\n",
            "\u001b[34m2022-02-28T20:32:54.819261+0800\u001b[0m \u001b[33m\u001b[1mit's shape torch.Size([1, 384, 32, 32, 32]) coming in to the update net\u001b[0m\n"
          ]
        },
        {
          "data": {
            "text/plain": [
              "tensor(2097196.2500, grad_fn=<SumBackward0>)"
            ]
          },
          "execution_count": 116,
          "metadata": {},
          "output_type": "execute_result"
        }
      ],
      "source": [
        "# after train\n",
        "out3 = model.generator.forward(sample_state, steps=1)\n",
        "torch.sum(out3)"
      ]
    },
    {
      "cell_type": "code",
      "execution_count": null,
      "metadata": {
        "id": "4CcZAcnsY4xu",
        "outputId": "26bcf16d-c32d-4dde-96d6-57dd690ccd3e"
      },
      "outputs": [
        {
          "data": {
            "text/plain": [
              "False"
            ]
          },
          "execution_count": 117,
          "metadata": {},
          "output_type": "execute_result"
        }
      ],
      "source": [
        "torch.equal(out1, out3)"
      ]
    },
    {
      "cell_type": "code",
      "execution_count": null,
      "metadata": {
        "id": "oWz2Bx62Y4xu",
        "outputId": "d3d6b648-3553-4694-8b7f-bea9d5069c56"
      },
      "outputs": [
        {
          "data": {
            "text/plain": [
              "tensor(2097251.2500, grad_fn=<SumBackward0>)"
            ]
          },
          "execution_count": 87,
          "metadata": {},
          "output_type": "execute_result"
        }
      ],
      "source": [
        "out2 = model.generator.forward(sample_state, steps=8)\n",
        "torch.sum(out2)"
      ]
    }
  ],
  "metadata": {
    "interpreter": {
      "hash": "0228fee4d25496bb422a7e0c363e636da60e8258e4b70dda8036e2defd0af2d7"
    },
    "kernelspec": {
      "display_name": "Python 3.9.7 ('base')",
      "language": "python",
      "name": "python3"
    },
    "language_info": {
      "codemirror_mode": {
        "name": "ipython",
        "version": 3
      },
      "file_extension": ".py",
      "mimetype": "text/x-python",
      "name": "python",
      "nbconvert_exporter": "python",
      "pygments_lexer": "ipython3",
      "version": "3.9.7"
    },
    "orig_nbformat": 4,
    "colab": {
      "name": "Copy of GANCA train.ipynb",
      "provenance": [],
      "collapsed_sections": [],
      "machine_shape": "hm",
      "include_colab_link": true
    },
    "accelerator": "GPU",
    "widgets": {
      "application/vnd.jupyter.widget-state+json": {
        "2bdc0941b3dc499496679c7183fbff37": {
          "model_module": "@jupyter-widgets/controls",
          "model_name": "HBoxModel",
          "model_module_version": "1.5.0",
          "state": {
            "_view_name": "HBoxView",
            "_dom_classes": [],
            "_model_name": "HBoxModel",
            "_view_module": "@jupyter-widgets/controls",
            "_model_module_version": "1.5.0",
            "_view_count": null,
            "_view_module_version": "1.5.0",
            "box_style": "",
            "layout": "IPY_MODEL_5ae9d82c8a094e79920bb1724cfe53e8",
            "_model_module": "@jupyter-widgets/controls",
            "children": [
              "IPY_MODEL_96facbd6da40424c93f074bafcb76bbe",
              "IPY_MODEL_9ecea295f69c405c93af3df43b354f75",
              "IPY_MODEL_9a928ccf02ae4c668bfc2be196f31376"
            ]
          }
        },
        "5ae9d82c8a094e79920bb1724cfe53e8": {
          "model_module": "@jupyter-widgets/base",
          "model_name": "LayoutModel",
          "model_module_version": "1.2.0",
          "state": {
            "_view_name": "LayoutView",
            "grid_template_rows": null,
            "right": null,
            "justify_content": null,
            "_view_module": "@jupyter-widgets/base",
            "overflow": null,
            "_model_module_version": "1.2.0",
            "_view_count": null,
            "flex_flow": null,
            "width": null,
            "min_width": null,
            "border": null,
            "align_items": null,
            "bottom": null,
            "_model_module": "@jupyter-widgets/base",
            "top": null,
            "grid_column": null,
            "overflow_y": null,
            "overflow_x": null,
            "grid_auto_flow": null,
            "grid_area": null,
            "grid_template_columns": null,
            "flex": null,
            "_model_name": "LayoutModel",
            "justify_items": null,
            "grid_row": null,
            "max_height": null,
            "align_content": null,
            "visibility": null,
            "align_self": null,
            "height": null,
            "min_height": null,
            "padding": null,
            "grid_auto_rows": null,
            "grid_gap": null,
            "max_width": null,
            "order": null,
            "_view_module_version": "1.2.0",
            "grid_template_areas": null,
            "object_position": null,
            "object_fit": null,
            "grid_auto_columns": null,
            "margin": null,
            "display": null,
            "left": null
          }
        },
        "96facbd6da40424c93f074bafcb76bbe": {
          "model_module": "@jupyter-widgets/controls",
          "model_name": "HTMLModel",
          "model_module_version": "1.5.0",
          "state": {
            "_view_name": "HTMLView",
            "style": "IPY_MODEL_42edc229ae79434388cea378717a9aaf",
            "_dom_classes": [],
            "description": "",
            "_model_name": "HTMLModel",
            "placeholder": "​",
            "_view_module": "@jupyter-widgets/controls",
            "_model_module_version": "1.5.0",
            "value": "100%",
            "_view_count": null,
            "_view_module_version": "1.5.0",
            "description_tooltip": null,
            "_model_module": "@jupyter-widgets/controls",
            "layout": "IPY_MODEL_a65f1f8a486f47419cab33d55d86d7f9"
          }
        },
        "9ecea295f69c405c93af3df43b354f75": {
          "model_module": "@jupyter-widgets/controls",
          "model_name": "FloatProgressModel",
          "model_module_version": "1.5.0",
          "state": {
            "_view_name": "ProgressView",
            "style": "IPY_MODEL_67c0303d8a574ebe9e5b35036297b8d5",
            "_dom_classes": [],
            "description": "",
            "_model_name": "FloatProgressModel",
            "bar_style": "success",
            "max": 1977,
            "_view_module": "@jupyter-widgets/controls",
            "_model_module_version": "1.5.0",
            "value": 1977,
            "_view_count": null,
            "_view_module_version": "1.5.0",
            "orientation": "horizontal",
            "min": 0,
            "description_tooltip": null,
            "_model_module": "@jupyter-widgets/controls",
            "layout": "IPY_MODEL_9060020c253a4429bfadca4b37cb5f2c"
          }
        },
        "9a928ccf02ae4c668bfc2be196f31376": {
          "model_module": "@jupyter-widgets/controls",
          "model_name": "HTMLModel",
          "model_module_version": "1.5.0",
          "state": {
            "_view_name": "HTMLView",
            "style": "IPY_MODEL_e369d4e56d89406f83db778df71ffe05",
            "_dom_classes": [],
            "description": "",
            "_model_name": "HTMLModel",
            "placeholder": "​",
            "_view_module": "@jupyter-widgets/controls",
            "_model_module_version": "1.5.0",
            "value": " 1977/1977 [00:01&lt;00:00, 1319.86it/s]",
            "_view_count": null,
            "_view_module_version": "1.5.0",
            "description_tooltip": null,
            "_model_module": "@jupyter-widgets/controls",
            "layout": "IPY_MODEL_c6fd5703ce2743948c5decccee2d602b"
          }
        },
        "42edc229ae79434388cea378717a9aaf": {
          "model_module": "@jupyter-widgets/controls",
          "model_name": "DescriptionStyleModel",
          "model_module_version": "1.5.0",
          "state": {
            "_view_name": "StyleView",
            "_model_name": "DescriptionStyleModel",
            "description_width": "",
            "_view_module": "@jupyter-widgets/base",
            "_model_module_version": "1.5.0",
            "_view_count": null,
            "_view_module_version": "1.2.0",
            "_model_module": "@jupyter-widgets/controls"
          }
        },
        "a65f1f8a486f47419cab33d55d86d7f9": {
          "model_module": "@jupyter-widgets/base",
          "model_name": "LayoutModel",
          "model_module_version": "1.2.0",
          "state": {
            "_view_name": "LayoutView",
            "grid_template_rows": null,
            "right": null,
            "justify_content": null,
            "_view_module": "@jupyter-widgets/base",
            "overflow": null,
            "_model_module_version": "1.2.0",
            "_view_count": null,
            "flex_flow": null,
            "width": null,
            "min_width": null,
            "border": null,
            "align_items": null,
            "bottom": null,
            "_model_module": "@jupyter-widgets/base",
            "top": null,
            "grid_column": null,
            "overflow_y": null,
            "overflow_x": null,
            "grid_auto_flow": null,
            "grid_area": null,
            "grid_template_columns": null,
            "flex": null,
            "_model_name": "LayoutModel",
            "justify_items": null,
            "grid_row": null,
            "max_height": null,
            "align_content": null,
            "visibility": null,
            "align_self": null,
            "height": null,
            "min_height": null,
            "padding": null,
            "grid_auto_rows": null,
            "grid_gap": null,
            "max_width": null,
            "order": null,
            "_view_module_version": "1.2.0",
            "grid_template_areas": null,
            "object_position": null,
            "object_fit": null,
            "grid_auto_columns": null,
            "margin": null,
            "display": null,
            "left": null
          }
        },
        "67c0303d8a574ebe9e5b35036297b8d5": {
          "model_module": "@jupyter-widgets/controls",
          "model_name": "ProgressStyleModel",
          "model_module_version": "1.5.0",
          "state": {
            "_view_name": "StyleView",
            "_model_name": "ProgressStyleModel",
            "description_width": "",
            "_view_module": "@jupyter-widgets/base",
            "_model_module_version": "1.5.0",
            "_view_count": null,
            "_view_module_version": "1.2.0",
            "bar_color": null,
            "_model_module": "@jupyter-widgets/controls"
          }
        },
        "9060020c253a4429bfadca4b37cb5f2c": {
          "model_module": "@jupyter-widgets/base",
          "model_name": "LayoutModel",
          "model_module_version": "1.2.0",
          "state": {
            "_view_name": "LayoutView",
            "grid_template_rows": null,
            "right": null,
            "justify_content": null,
            "_view_module": "@jupyter-widgets/base",
            "overflow": null,
            "_model_module_version": "1.2.0",
            "_view_count": null,
            "flex_flow": null,
            "width": null,
            "min_width": null,
            "border": null,
            "align_items": null,
            "bottom": null,
            "_model_module": "@jupyter-widgets/base",
            "top": null,
            "grid_column": null,
            "overflow_y": null,
            "overflow_x": null,
            "grid_auto_flow": null,
            "grid_area": null,
            "grid_template_columns": null,
            "flex": null,
            "_model_name": "LayoutModel",
            "justify_items": null,
            "grid_row": null,
            "max_height": null,
            "align_content": null,
            "visibility": null,
            "align_self": null,
            "height": null,
            "min_height": null,
            "padding": null,
            "grid_auto_rows": null,
            "grid_gap": null,
            "max_width": null,
            "order": null,
            "_view_module_version": "1.2.0",
            "grid_template_areas": null,
            "object_position": null,
            "object_fit": null,
            "grid_auto_columns": null,
            "margin": null,
            "display": null,
            "left": null
          }
        },
        "e369d4e56d89406f83db778df71ffe05": {
          "model_module": "@jupyter-widgets/controls",
          "model_name": "DescriptionStyleModel",
          "model_module_version": "1.5.0",
          "state": {
            "_view_name": "StyleView",
            "_model_name": "DescriptionStyleModel",
            "description_width": "",
            "_view_module": "@jupyter-widgets/base",
            "_model_module_version": "1.5.0",
            "_view_count": null,
            "_view_module_version": "1.2.0",
            "_model_module": "@jupyter-widgets/controls"
          }
        },
        "c6fd5703ce2743948c5decccee2d602b": {
          "model_module": "@jupyter-widgets/base",
          "model_name": "LayoutModel",
          "model_module_version": "1.2.0",
          "state": {
            "_view_name": "LayoutView",
            "grid_template_rows": null,
            "right": null,
            "justify_content": null,
            "_view_module": "@jupyter-widgets/base",
            "overflow": null,
            "_model_module_version": "1.2.0",
            "_view_count": null,
            "flex_flow": null,
            "width": null,
            "min_width": null,
            "border": null,
            "align_items": null,
            "bottom": null,
            "_model_module": "@jupyter-widgets/base",
            "top": null,
            "grid_column": null,
            "overflow_y": null,
            "overflow_x": null,
            "grid_auto_flow": null,
            "grid_area": null,
            "grid_template_columns": null,
            "flex": null,
            "_model_name": "LayoutModel",
            "justify_items": null,
            "grid_row": null,
            "max_height": null,
            "align_content": null,
            "visibility": null,
            "align_self": null,
            "height": null,
            "min_height": null,
            "padding": null,
            "grid_auto_rows": null,
            "grid_gap": null,
            "max_width": null,
            "order": null,
            "_view_module_version": "1.2.0",
            "grid_template_areas": null,
            "object_position": null,
            "object_fit": null,
            "grid_auto_columns": null,
            "margin": null,
            "display": null,
            "left": null
          }
        },
        "ee702aff0c59434fa13204508cb5d22d": {
          "model_module": "@jupyter-widgets/controls",
          "model_name": "HBoxModel",
          "model_module_version": "1.5.0",
          "state": {
            "_view_name": "HBoxView",
            "_dom_classes": [],
            "_model_name": "HBoxModel",
            "_view_module": "@jupyter-widgets/controls",
            "_model_module_version": "1.5.0",
            "_view_count": null,
            "_view_module_version": "1.5.0",
            "box_style": "",
            "layout": "IPY_MODEL_c3805b1dda574f99a51de0c5d55b9680",
            "_model_module": "@jupyter-widgets/controls",
            "children": [
              "IPY_MODEL_a5a13ea11c644321af52864783858480",
              "IPY_MODEL_d609d2a11ddc48d2b5bfb05303d090d1",
              "IPY_MODEL_726aa9cc89954c079c5f95faffbd4ac9"
            ]
          }
        },
        "c3805b1dda574f99a51de0c5d55b9680": {
          "model_module": "@jupyter-widgets/base",
          "model_name": "LayoutModel",
          "model_module_version": "1.2.0",
          "state": {
            "_view_name": "LayoutView",
            "grid_template_rows": null,
            "right": null,
            "justify_content": null,
            "_view_module": "@jupyter-widgets/base",
            "overflow": null,
            "_model_module_version": "1.2.0",
            "_view_count": null,
            "flex_flow": "row wrap",
            "width": "100%",
            "min_width": null,
            "border": null,
            "align_items": null,
            "bottom": null,
            "_model_module": "@jupyter-widgets/base",
            "top": null,
            "grid_column": null,
            "overflow_y": null,
            "overflow_x": null,
            "grid_auto_flow": null,
            "grid_area": null,
            "grid_template_columns": null,
            "flex": null,
            "_model_name": "LayoutModel",
            "justify_items": null,
            "grid_row": null,
            "max_height": null,
            "align_content": null,
            "visibility": null,
            "align_self": null,
            "height": null,
            "min_height": null,
            "padding": null,
            "grid_auto_rows": null,
            "grid_gap": null,
            "max_width": null,
            "order": null,
            "_view_module_version": "1.2.0",
            "grid_template_areas": null,
            "object_position": null,
            "object_fit": null,
            "grid_auto_columns": null,
            "margin": null,
            "display": "inline-flex",
            "left": null
          }
        },
        "a5a13ea11c644321af52864783858480": {
          "model_module": "@jupyter-widgets/controls",
          "model_name": "HTMLModel",
          "model_module_version": "1.5.0",
          "state": {
            "_view_name": "HTMLView",
            "style": "IPY_MODEL_dbf6830427734779b2205e75544b5d02",
            "_dom_classes": [],
            "description": "",
            "_model_name": "HTMLModel",
            "placeholder": "​",
            "_view_module": "@jupyter-widgets/controls",
            "_model_module_version": "1.5.0",
            "value": "Epoch 0:  50%",
            "_view_count": null,
            "_view_module_version": "1.5.0",
            "description_tooltip": null,
            "_model_module": "@jupyter-widgets/controls",
            "layout": "IPY_MODEL_d7c23ef46d9e4b8ab6c4086a11d23d1c"
          }
        },
        "d609d2a11ddc48d2b5bfb05303d090d1": {
          "model_module": "@jupyter-widgets/controls",
          "model_name": "FloatProgressModel",
          "model_module_version": "1.5.0",
          "state": {
            "_view_name": "ProgressView",
            "style": "IPY_MODEL_c6254117a2a34d21b9880429680304b8",
            "_dom_classes": [],
            "description": "",
            "_model_name": "FloatProgressModel",
            "bar_style": "",
            "max": 200,
            "_view_module": "@jupyter-widgets/controls",
            "_model_module_version": "1.5.0",
            "value": 100,
            "_view_count": null,
            "_view_module_version": "1.5.0",
            "orientation": "horizontal",
            "min": 0,
            "description_tooltip": null,
            "_model_module": "@jupyter-widgets/controls",
            "layout": "IPY_MODEL_906bb93fea954f17aec435cdbb592bee"
          }
        },
        "726aa9cc89954c079c5f95faffbd4ac9": {
          "model_module": "@jupyter-widgets/controls",
          "model_name": "HTMLModel",
          "model_module_version": "1.5.0",
          "state": {
            "_view_name": "HTMLView",
            "style": "IPY_MODEL_9eb0c4b9d0884e53badf26ab9bcab9c0",
            "_dom_classes": [],
            "description": "",
            "_model_name": "HTMLModel",
            "placeholder": "​",
            "_view_module": "@jupyter-widgets/controls",
            "_model_module_version": "1.5.0",
            "value": " 100/200 [03:06&lt;03:06,  1.86s/it, loss=5.49, v_num=0, g_loss=10.90, d_loss=3.16e-5, avg_acc=1.000]",
            "_view_count": null,
            "_view_module_version": "1.5.0",
            "description_tooltip": null,
            "_model_module": "@jupyter-widgets/controls",
            "layout": "IPY_MODEL_dba04c61834b49b79f7bfd2b669a99ba"
          }
        },
        "dbf6830427734779b2205e75544b5d02": {
          "model_module": "@jupyter-widgets/controls",
          "model_name": "DescriptionStyleModel",
          "model_module_version": "1.5.0",
          "state": {
            "_view_name": "StyleView",
            "_model_name": "DescriptionStyleModel",
            "description_width": "",
            "_view_module": "@jupyter-widgets/base",
            "_model_module_version": "1.5.0",
            "_view_count": null,
            "_view_module_version": "1.2.0",
            "_model_module": "@jupyter-widgets/controls"
          }
        },
        "d7c23ef46d9e4b8ab6c4086a11d23d1c": {
          "model_module": "@jupyter-widgets/base",
          "model_name": "LayoutModel",
          "model_module_version": "1.2.0",
          "state": {
            "_view_name": "LayoutView",
            "grid_template_rows": null,
            "right": null,
            "justify_content": null,
            "_view_module": "@jupyter-widgets/base",
            "overflow": null,
            "_model_module_version": "1.2.0",
            "_view_count": null,
            "flex_flow": null,
            "width": null,
            "min_width": null,
            "border": null,
            "align_items": null,
            "bottom": null,
            "_model_module": "@jupyter-widgets/base",
            "top": null,
            "grid_column": null,
            "overflow_y": null,
            "overflow_x": null,
            "grid_auto_flow": null,
            "grid_area": null,
            "grid_template_columns": null,
            "flex": null,
            "_model_name": "LayoutModel",
            "justify_items": null,
            "grid_row": null,
            "max_height": null,
            "align_content": null,
            "visibility": null,
            "align_self": null,
            "height": null,
            "min_height": null,
            "padding": null,
            "grid_auto_rows": null,
            "grid_gap": null,
            "max_width": null,
            "order": null,
            "_view_module_version": "1.2.0",
            "grid_template_areas": null,
            "object_position": null,
            "object_fit": null,
            "grid_auto_columns": null,
            "margin": null,
            "display": null,
            "left": null
          }
        },
        "c6254117a2a34d21b9880429680304b8": {
          "model_module": "@jupyter-widgets/controls",
          "model_name": "ProgressStyleModel",
          "model_module_version": "1.5.0",
          "state": {
            "_view_name": "StyleView",
            "_model_name": "ProgressStyleModel",
            "description_width": "",
            "_view_module": "@jupyter-widgets/base",
            "_model_module_version": "1.5.0",
            "_view_count": null,
            "_view_module_version": "1.2.0",
            "bar_color": null,
            "_model_module": "@jupyter-widgets/controls"
          }
        },
        "906bb93fea954f17aec435cdbb592bee": {
          "model_module": "@jupyter-widgets/base",
          "model_name": "LayoutModel",
          "model_module_version": "1.2.0",
          "state": {
            "_view_name": "LayoutView",
            "grid_template_rows": null,
            "right": null,
            "justify_content": null,
            "_view_module": "@jupyter-widgets/base",
            "overflow": null,
            "_model_module_version": "1.2.0",
            "_view_count": null,
            "flex_flow": null,
            "width": null,
            "min_width": null,
            "border": null,
            "align_items": null,
            "bottom": null,
            "_model_module": "@jupyter-widgets/base",
            "top": null,
            "grid_column": null,
            "overflow_y": null,
            "overflow_x": null,
            "grid_auto_flow": null,
            "grid_area": null,
            "grid_template_columns": null,
            "flex": "2",
            "_model_name": "LayoutModel",
            "justify_items": null,
            "grid_row": null,
            "max_height": null,
            "align_content": null,
            "visibility": null,
            "align_self": null,
            "height": null,
            "min_height": null,
            "padding": null,
            "grid_auto_rows": null,
            "grid_gap": null,
            "max_width": null,
            "order": null,
            "_view_module_version": "1.2.0",
            "grid_template_areas": null,
            "object_position": null,
            "object_fit": null,
            "grid_auto_columns": null,
            "margin": null,
            "display": null,
            "left": null
          }
        },
        "9eb0c4b9d0884e53badf26ab9bcab9c0": {
          "model_module": "@jupyter-widgets/controls",
          "model_name": "DescriptionStyleModel",
          "model_module_version": "1.5.0",
          "state": {
            "_view_name": "StyleView",
            "_model_name": "DescriptionStyleModel",
            "description_width": "",
            "_view_module": "@jupyter-widgets/base",
            "_model_module_version": "1.5.0",
            "_view_count": null,
            "_view_module_version": "1.2.0",
            "_model_module": "@jupyter-widgets/controls"
          }
        },
        "dba04c61834b49b79f7bfd2b669a99ba": {
          "model_module": "@jupyter-widgets/base",
          "model_name": "LayoutModel",
          "model_module_version": "1.2.0",
          "state": {
            "_view_name": "LayoutView",
            "grid_template_rows": null,
            "right": null,
            "justify_content": null,
            "_view_module": "@jupyter-widgets/base",
            "overflow": null,
            "_model_module_version": "1.2.0",
            "_view_count": null,
            "flex_flow": null,
            "width": null,
            "min_width": null,
            "border": null,
            "align_items": null,
            "bottom": null,
            "_model_module": "@jupyter-widgets/base",
            "top": null,
            "grid_column": null,
            "overflow_y": null,
            "overflow_x": null,
            "grid_auto_flow": null,
            "grid_area": null,
            "grid_template_columns": null,
            "flex": null,
            "_model_name": "LayoutModel",
            "justify_items": null,
            "grid_row": null,
            "max_height": null,
            "align_content": null,
            "visibility": null,
            "align_self": null,
            "height": null,
            "min_height": null,
            "padding": null,
            "grid_auto_rows": null,
            "grid_gap": null,
            "max_width": null,
            "order": null,
            "_view_module_version": "1.2.0",
            "grid_template_areas": null,
            "object_position": null,
            "object_fit": null,
            "grid_auto_columns": null,
            "margin": null,
            "display": null,
            "left": null
          }
        }
      }
    }
  },
  "nbformat": 4,
  "nbformat_minor": 0
}