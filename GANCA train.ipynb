{
  "cells": [
    {
      "cell_type": "markdown",
      "metadata": {
        "id": "l6Ma8GkMY4xd"
      },
      "source": [
        "# Training GANCA-3D"
      ]
    },
    {
      "cell_type": "markdown",
      "metadata": {},
      "source": [
        "## Downloads"
      ]
    },
    {
      "cell_type": "code",
      "execution_count": null,
      "metadata": {
        "colab": {
          "base_uri": "https://localhost:8080/"
        },
        "id": "KsBYltuhZqzQ",
        "outputId": "ce685181-45ae-41b2-ef4c-6a446818c3ab"
      },
      "outputs": [
        {
          "name": "stdout",
          "output_type": "stream",
          "text": [
            "dataset/filtered_houses_stats.pkl4: No such file or directory\n",
            "dataset/filtered_houses_stats.pkl: No such file or directory\n"
          ]
        }
      ],
      "source": [
        "# !wget -q https://github.com/chaosarium/3D-GANCA/raw/master/data_helper.py\n",
        "# !wget -q https://github.com/chaosarium/3D-GANCA/raw/master/utils.py\n",
        "# !wget -q https://github.com/chaosarium/3D-GANCA/raw/master/models.py\n",
        "# !wget -q https://github.com/chaosarium/3D-GANCA/raw/master/block_ids_alt.tsv\n",
        "# !wget -q https://github.com/chaosarium/3D-GANCA/raw/master/output.zip\n",
        "# !unzip -q output.zip\n",
        "# !mkdir dataset\n",
        "# !wget -q https://github.com/chaosarium/3D-GANCA/blob/master/dataset/filtered_houses_stats.pkl4 -O dataset/filtered_houses_stats.pkl4\n",
        "# !wget -q https://github.com/chaosarium/3D-GANCA/blob/master/dataset/filtered_houses_stats.pkl -O dataset/filtered_houses_stats.pkl"
      ]
    },
    {
      "cell_type": "code",
      "execution_count": null,
      "metadata": {
        "colab": {
          "base_uri": "https://localhost:8080/"
        },
        "id": "OXAbk29ubUCP",
        "outputId": "f295e52e-d03b-4404-fe6a-be7dd410ae0b"
      },
      "outputs": [
        {
          "name": "stdout",
          "output_type": "stream",
          "text": [
            "\u001b[?25l\r\u001b[K     |█████▋                          | 10 kB 34.7 MB/s eta 0:00:01\r\u001b[K     |███████████▎                    | 20 kB 15.2 MB/s eta 0:00:01\r\u001b[K     |████████████████▉               | 30 kB 13.8 MB/s eta 0:00:01\r\u001b[K     |██████████████████████▌         | 40 kB 13.7 MB/s eta 0:00:01\r\u001b[K     |████████████████████████████    | 51 kB 8.6 MB/s eta 0:00:01\r\u001b[K     |████████████████████████████████| 58 kB 4.3 MB/s \n",
            "\u001b[K     |████████████████████████████████| 527 kB 17.2 MB/s \n",
            "\u001b[K     |████████████████████████████████| 134 kB 88.6 MB/s \n",
            "\u001b[K     |████████████████████████████████| 596 kB 69.7 MB/s \n",
            "\u001b[K     |████████████████████████████████| 397 kB 87.2 MB/s \n",
            "\u001b[K     |████████████████████████████████| 829 kB 86.4 MB/s \n",
            "\u001b[K     |████████████████████████████████| 952 kB 77.2 MB/s \n",
            "\u001b[K     |████████████████████████████████| 1.1 MB 51.0 MB/s \n",
            "\u001b[K     |████████████████████████████████| 271 kB 73.5 MB/s \n",
            "\u001b[K     |████████████████████████████████| 94 kB 3.9 MB/s \n",
            "\u001b[K     |████████████████████████████████| 144 kB 79.5 MB/s \n",
            "\u001b[?25h  Building wheel for future (setup.py) ... \u001b[?25l\u001b[?25hdone\n",
            "\u001b[31mERROR: pip's dependency resolver does not currently take into account all the packages that are installed. This behaviour is the source of the following dependency conflicts.\n",
            "tensorflow 2.8.0 requires tf-estimator-nightly==2.8.0.dev2021122109, which is not installed.\n",
            "datascience 0.10.6 requires folium==0.2.1, but you have folium 0.8.3 which is incompatible.\u001b[0m\n"
          ]
        }
      ],
      "source": [
        "# !pip --quiet install torchsummaryX loguru einops pytorch_lightning"
      ]
    },
    {
      "cell_type": "markdown",
      "metadata": {},
      "source": [
        "## Imports"
      ]
    },
    {
      "cell_type": "code",
      "execution_count": 1,
      "metadata": {
        "colab": {
          "base_uri": "https://localhost:8080/"
        },
        "id": "G0AuuMetY4xh",
        "outputId": "7d4500f4-10c3-48bb-931d-6ab0d43dd1d7"
      },
      "outputs": [],
      "source": [
        "# import stuff\n",
        "\n",
        "import data_helper\n",
        "import utils\n",
        "\n",
        "%load_ext autoreload\n",
        "%autoreload 2\n",
        "\n",
        "import numpy as np\n",
        "import sys\n",
        "import pickle\n",
        "import torch\n",
        "import random\n",
        "from torchsummary import summary\n",
        "import matplotlib.pyplot as plt\n",
        "\n",
        "from loguru import logger as gurulogger\n",
        "gurulogger.remove()\n",
        "gurulogger.add(sys.stdout, colorize=True, format=\"<blue>{time}</blue> <level>{message}</level>\")\n",
        "gurulogger.level(\"INFO\", color=\"<red><bold>\")\n",
        "\n",
        "\n",
        "import os\n",
        "from einops import rearrange\n",
        "import torch.nn as nn\n",
        "import torch.nn.functional as F\n",
        "import pandas as pd\n",
        "\n",
        "BLOCK2VEC_OUT_PATH = 'output/block2vec saves/block2vec 64 dim/'\n",
        "NUM_WORKERS = int(os.cpu_count() / 2)\n",
        "\n",
        "import pytorch_lightning as pl\n",
        "\n",
        "if torch.cuda.is_available():\n",
        "    print('CUDNN VERSION:', torch.backends.cudnn.version())\n",
        "    print('Number CUDA Devices:', torch.cuda.device_count())\n",
        "    print('CUDA Device Name:',torch.cuda.get_device_name(0))\n",
        "    print('CUDA Device Total Memory [GB]:',torch.cuda.get_device_properties(0).total_memory/1e9)"
      ]
    },
    {
      "cell_type": "code",
      "execution_count": 2,
      "metadata": {
        "id": "ulC-44_aY4xk"
      },
      "outputs": [],
      "source": [
        "embedding, mcid2block, block2embeddingidx, embeddingidx2block = utils.get_embedding_info(BLOCK2VEC_OUT_PATH)"
      ]
    },
    {
      "cell_type": "code",
      "execution_count": 3,
      "metadata": {
        "id": "gErQRt4LY4xl"
      },
      "outputs": [],
      "source": [
        "from data_helper import GANCA3DDataModule"
      ]
    },
    {
      "cell_type": "code",
      "execution_count": 4,
      "metadata": {
        "id": "UbTQFWIfY4xm"
      },
      "outputs": [],
      "source": [
        "from models import VoxelPerceptionNet, VoxelUpdateNet, VoxelNCAModel, VoxelDiscriminator\n",
        "from pytorch_lightning import Trainer"
      ]
    },
    {
      "cell_type": "code",
      "execution_count": 7,
      "metadata": {
        "id": "wrdmz_nMY4xm"
      },
      "outputs": [],
      "source": [
        "%load_ext tensorboard\n",
        "# %tensorboard --logdir lightning_logs/"
      ]
    },
    {
      "cell_type": "markdown",
      "metadata": {},
      "source": [
        "## MM GAN"
      ]
    },
    {
      "cell_type": "code",
      "execution_count": null,
      "metadata": {
        "id": "eELhjPZ1Y4xn"
      },
      "outputs": [],
      "source": [
        "class GANCA_MMGAN(pl.LightningModule):\n",
        "\n",
        "    def __init__(self,\n",
        "            lr = 2e-4,\n",
        "            beta1 = 0.9,\n",
        "            beta2 = 0.999,\n",
        "            batch_size = 16,\n",
        "            num_embedding_channels = 64,\n",
        "            num_hidden_channels = 63,\n",
        "            update_net_channel_dims = [32, 32],\n",
        "            embedding: torch.nn.Embedding = None,\n",
        "            step_range = [16, 20],\n",
        "        ):\n",
        "        \n",
        "        super().__init__()\n",
        "        # call this to save args to the checkpoint\n",
        "        self.save_hyperparameters()\n",
        "        \n",
        "        self.lr = lr\n",
        "        self.beta1 = beta1\n",
        "        self.beta2 = beta2\n",
        "        self.batch_size = batch_size\n",
        "        self.num_embedding_channels = num_embedding_channels\n",
        "        self.num_hidden_channels = num_hidden_channels\n",
        "        self.update_net_channel_dims = update_net_channel_dims\n",
        "        # the channels will be like [alpha, embeddings ... , hiddens ...]\n",
        "        self.num_channels = 1 + self.num_embedding_channels + self.num_hidden_channels\n",
        "        self.world_size = (32,32,32)\n",
        "        self.embedding = embedding\n",
        "        self.embedding.weight.requires_grad=False # freeze embeddings\n",
        "        self.step_range = step_range\n",
        "        \n",
        "        self.generator = VoxelNCAModel(\n",
        "            alpha_living_threshold = 0.1,\n",
        "            cell_fire_rate = 0.5,\n",
        "            num_perceptions = 3,\n",
        "            perception_requires_grad = True,\n",
        "            num_embedding_channels = self.num_embedding_channels,\n",
        "            num_hidden_channels = self.num_hidden_channels,\n",
        "            normal_std = 0.0002,\n",
        "            use_normal_init = True,\n",
        "            zero_bias = True,\n",
        "            update_net_channel_dims = self.update_net_channel_dims,\n",
        "        )\n",
        "        self.discriminator = VoxelDiscriminator(\n",
        "            num_in_channels = self.num_embedding_channels, \n",
        "            use_sigmoid=True,\n",
        "        )\n",
        "        \n",
        "        # generate some random seeds (N, channels, x, y, z)\n",
        "        self.validation_noise = self.make_seed_states(16)\n",
        "        \n",
        "    def make_seed_states(self, batch_size):\n",
        "        return utils.make_seed_state(\n",
        "            batch_size = batch_size,\n",
        "            num_channels = self.num_channels, \n",
        "            alpha_channel_index = 0,\n",
        "            seed_dim = (4, 4, 4), \n",
        "            world_size = self.world_size,\n",
        "        )\n",
        "    \n",
        "    def training_step(self, batch, batch_idx, optimizer_idx):\n",
        "        \n",
        "        num_steps = random.randint(*self.step_range)\n",
        "            \n",
        "        real_houses = batch\n",
        "        type_holder = batch[0,0,0,0].to(torch.float) # this is a dummy type for creating labels\n",
        "        size_this_batch = real_houses.shape[0]\n",
        "                \n",
        "        # make noise\n",
        "        \n",
        "        seed_states = self.make_seed_states(size_this_batch).type_as(type_holder) # same batch size as those coming in\n",
        "            \n",
        "        # train generator\n",
        "        if optimizer_idx == 0:\n",
        "            \n",
        "            # generate images\n",
        "            fake_houses_states = self.generator.forward(seed_states, steps=num_steps)\n",
        "                        \n",
        "            # create ground truth result (all fake results) we want D to say the generated ones are real so they are all 1s\n",
        "            real_labels = utils.make_real_labels(size_this_batch).type_as(type_holder)\n",
        "            \n",
        "            # now get the embedding parts out of the fake states\n",
        "            fake_houses = fake_houses_states[:, 1:self.num_embedding_channels+1, :, :, :]\n",
        "            \n",
        "            # see what discriminator thinks\n",
        "            fake_predictions = self.discriminator.forward(fake_houses)\n",
        "            \n",
        "            # calculate loss\n",
        "            g_loss = F.binary_cross_entropy(fake_predictions, real_labels) # y_hat, y  \n",
        "                                    \n",
        "            self.log(\"g_loss\", g_loss.detach(), prog_bar=True, logger=True)\n",
        "\n",
        "            return g_loss\n",
        "        \n",
        "        if optimizer_idx == 1:\n",
        "            \n",
        "            # get embeddings for the real house\n",
        "            real_houses = utils.examples2embedding(real_houses, self.embedding)\n",
        "            \n",
        "            # pass in real image to D and try to make it predict all 1s\n",
        "            real_targets = utils.make_real_labels(size_this_batch).type_as(type_holder)\n",
        "            real_predictions = self.discriminator.forward(real_houses)\n",
        "            real_loss = F.binary_cross_entropy(real_predictions, real_targets)\n",
        "            # TODO fix accuracy formula\n",
        "            real_acc = torch.mean(real_predictions).item() # the average prediction. The closer to 1 the more accurate\n",
        "            \n",
        "            # meanwhile, we also want D to be able to tell that outputs from G are all fake\n",
        "            fake_targets = utils.make_fake_labels(size_this_batch).type_as(type_holder)\n",
        "            fake_houses_states = self.generator.forward(seed_states, steps=num_steps).detach() # detach so that gradients don't pass back into generator\n",
        "            fake_houses = fake_houses_states[:, 1:self.num_embedding_channels+1, :, :, :] # extract the embedding parts\n",
        "            fake_predictions = self.discriminator.forward(fake_houses)\n",
        "            fake_loss = F.binary_cross_entropy(fake_predictions, fake_targets)\n",
        "            # TODO fix accuracy formula\n",
        "            fake_acc = 1 - torch.mean(fake_predictions).item() # the 1 - average prediction. The closer to 1 the more accurate\n",
        "                        \n",
        "            # discriminator loss is the average of the two losses\n",
        "            d_loss = (real_loss + fake_loss) / 2\n",
        "            avg_acc = (real_acc + fake_acc) / 2\n",
        "                    \n",
        "            self.log(\"fake_loss\", fake_loss.detach(), prog_bar=False, logger=True)\n",
        "            self.log(\"real_loss\", real_loss.detach(), prog_bar=False, logger=True)\n",
        "            self.log(\"d_loss\", d_loss.detach(), prog_bar=True, logger=True)\n",
        "            self.log(\"real_acc\", real_acc, prog_bar=False, logger=True)\n",
        "            self.log(\"fake_acc\", fake_acc, prog_bar=False, logger=True)\n",
        "            self.log(\"avg_acc\", avg_acc, prog_bar=True, logger=True)\n",
        "\n",
        "            return d_loss\n",
        "\n",
        "    def configure_optimizers(self,):\n",
        "        # define pytorch optimizers here. return [list of optimizers], [list of LR schedulers]\n",
        "        g_optimizer = torch.optim.Adam(self.generator.parameters(), lr=self.lr, betas=(self.beta1, self.beta2))\n",
        "        d_optimizer = torch.optim.Adam(self.discriminator.parameters(), lr=self.lr, betas=(self.beta1, self.beta2))\n",
        "        return [g_optimizer, d_optimizer], []"
      ]
    },
    {
      "cell_type": "code",
      "execution_count": null,
      "metadata": {
        "id": "lonFxlJKY4xq"
      },
      "outputs": [],
      "source": [
        "model = GANCA_MMGAN(\n",
        "    lr = 2e-4,\n",
        "    beta1 = 0.9,\n",
        "    beta2 = 0.999,\n",
        "    batch_size = 8,\n",
        "    num_embedding_channels = 64,\n",
        "    num_hidden_channels = 63,\n",
        "    update_net_channel_dims = [16, 16],\n",
        "    embedding = embedding,\n",
        "    step_range = [16, 20],\n",
        ")"
      ]
    },
    {
      "cell_type": "code",
      "execution_count": null,
      "metadata": {
        "colab": {
          "base_uri": "https://localhost:8080/",
          "height": 156,
          "referenced_widgets": [
            "2bdc0941b3dc499496679c7183fbff37",
            "5ae9d82c8a094e79920bb1724cfe53e8",
            "96facbd6da40424c93f074bafcb76bbe",
            "9ecea295f69c405c93af3df43b354f75",
            "9a928ccf02ae4c668bfc2be196f31376",
            "42edc229ae79434388cea378717a9aaf",
            "a65f1f8a486f47419cab33d55d86d7f9",
            "67c0303d8a574ebe9e5b35036297b8d5",
            "9060020c253a4429bfadca4b37cb5f2c",
            "e369d4e56d89406f83db778df71ffe05",
            "c6fd5703ce2743948c5decccee2d602b"
          ]
        },
        "id": "9HO0hndNY4xr",
        "outputId": "6324c09c-c795-4879-e4fa-0fa57a25e588"
      },
      "outputs": [
        {
          "name": "stdout",
          "output_type": "stream",
          "text": [
            "Dataset already exists\n"
          ]
        },
        {
          "name": "stderr",
          "output_type": "stream",
          "text": [
            "/usr/local/lib/python3.7/dist-packages/pytorch_lightning/core/datamodule.py:175: LightningDeprecationWarning: DataModule property `dims` was deprecated in v1.5 and will be removed in v1.7.\n",
            "  rank_zero_deprecation(\"DataModule property `dims` was deprecated in v1.5 and will be removed in v1.7.\")\n"
          ]
        },
        {
          "data": {
            "application/vnd.jupyter.widget-view+json": {
              "model_id": "2bdc0941b3dc499496679c7183fbff37",
              "version_major": 2,
              "version_minor": 0
            },
            "text/plain": [
              "  0%|          | 0/1977 [00:00<?, ?it/s]"
            ]
          },
          "metadata": {},
          "output_type": "display_data"
        },
        {
          "name": "stdout",
          "output_type": "stream",
          "text": [
            "loaded 1977 houses\n",
            "Turning MC id into embedding idx. This could take up to a minute.\n"
          ]
        }
      ],
      "source": [
        "dm = GANCA3DDataModule(batch_size=8, num_workers=1, mcid2block = mcid2block, block2embeddingid = block2embeddingidx, debug=False)\n",
        "dm.prepare_data()\n",
        "dm.setup()"
      ]
    },
    {
      "cell_type": "code",
      "execution_count": null,
      "metadata": {
        "colab": {
          "base_uri": "https://localhost:8080/"
        },
        "id": "1CR1dFG7Y4xr",
        "outputId": "8b398d80-b248-4be9-a5ca-3c034df5637b"
      },
      "outputs": [
        {
          "name": "stderr",
          "output_type": "stream",
          "text": [
            "GPU available: True, used: True\n",
            "TPU available: False, using: 0 TPU cores\n",
            "IPU available: False, using: 0 IPUs\n"
          ]
        }
      ],
      "source": [
        "logger = pl.loggers.TensorBoardLogger(save_dir='lightning_logs', name='GANCA', default_hp_metric=False)\n",
        "trainer = Trainer(gpus=1, max_epochs=1, fast_dev_run=False, log_every_n_steps=1, logger=logger, profiler=\"simple\")"
      ]
    },
    {
      "cell_type": "code",
      "execution_count": null,
      "metadata": {
        "colab": {
          "base_uri": "https://localhost:8080/",
          "height": 434,
          "referenced_widgets": [
            "ee702aff0c59434fa13204508cb5d22d",
            "c3805b1dda574f99a51de0c5d55b9680",
            "a5a13ea11c644321af52864783858480",
            "d609d2a11ddc48d2b5bfb05303d090d1",
            "726aa9cc89954c079c5f95faffbd4ac9",
            "dbf6830427734779b2205e75544b5d02",
            "d7c23ef46d9e4b8ab6c4086a11d23d1c",
            "c6254117a2a34d21b9880429680304b8",
            "906bb93fea954f17aec435cdbb592bee",
            "9eb0c4b9d0884e53badf26ab9bcab9c0",
            "dba04c61834b49b79f7bfd2b669a99ba"
          ]
        },
        "id": "QdN43RM2Y4xs",
        "outputId": "d8dcb443-6a68-4de7-b08b-018b8f06dd24"
      },
      "outputs": [
        {
          "name": "stderr",
          "output_type": "stream",
          "text": [
            "/usr/local/lib/python3.7/dist-packages/pytorch_lightning/trainer/configuration_validator.py:120: UserWarning: You passed in a `val_dataloader` but have no `validation_step`. Skipping val loop.\n",
            "  rank_zero_warn(\"You passed in a `val_dataloader` but have no `validation_step`. Skipping val loop.\")\n",
            "/usr/local/lib/python3.7/dist-packages/pytorch_lightning/core/datamodule.py:470: LightningDeprecationWarning: DataModule.setup has already been called, so it will not be called again. In v1.6 this behavior will change to always call DataModule.setup.\n",
            "  f\"DataModule.{name} has already been called, so it will not be called again. \"\n",
            "LOCAL_RANK: 0 - CUDA_VISIBLE_DEVICES: [0]\n",
            "Missing logger folder: lightning_logs/GANCA\n",
            "\n",
            "  | Name          | Type               | Params\n",
            "-----------------------------------------------------\n",
            "0 | embedding     | Embedding          | 14.0 K\n",
            "1 | generator     | VoxelNCAModel      | 18.8 K\n",
            "2 | discriminator | VoxelDiscriminator | 11.3 M\n",
            "-----------------------------------------------------\n",
            "11.3 M    Trainable params\n",
            "14.0 K    Non-trainable params\n",
            "11.3 M    Total params\n",
            "45.244    Total estimated model params size (MB)\n",
            "/usr/local/lib/python3.7/dist-packages/pytorch_lightning/trainer/data_loading.py:133: UserWarning: The dataloader, train_dataloader, does not have many workers which may be a bottleneck. Consider increasing the value of the `num_workers` argument` (try 4 which is the number of cpus on this machine) in the `DataLoader` init to improve performance.\n",
            "  f\"The dataloader, {name}, does not have many workers which may be a bottleneck.\"\n"
          ]
        },
        {
          "data": {
            "application/vnd.jupyter.widget-view+json": {
              "model_id": "ee702aff0c59434fa13204508cb5d22d",
              "version_major": 2,
              "version_minor": 0
            },
            "text/plain": [
              "Training: 0it [00:00, ?it/s]"
            ]
          },
          "metadata": {},
          "output_type": "display_data"
        },
        {
          "name": "stderr",
          "output_type": "stream",
          "text": [
            "/usr/local/lib/python3.7/dist-packages/pytorch_lightning/trainer/trainer.py:688: UserWarning: Detected KeyboardInterrupt, attempting graceful shutdown...\n",
            "  rank_zero_warn(\"Detected KeyboardInterrupt, attempting graceful shutdown...\")\n"
          ]
        }
      ],
      "source": [
        "trainer.fit(model, dm)"
      ]
    },
    {
      "cell_type": "markdown",
      "metadata": {},
      "source": [
        "## WGAN"
      ]
    },
    {
      "cell_type": "code",
      "execution_count": 10,
      "metadata": {},
      "outputs": [],
      "source": [
        "class GANCA_WGAN(pl.LightningModule):\n",
        "\n",
        "    def __init__(self,\n",
        "            lr = 2e-4,\n",
        "            # beta1 = 0.9,\n",
        "            # beta2 = 0.999,\n",
        "            weight_clip = 0.01, # glipping gradient in WGAN\n",
        "            batch_size = 16,\n",
        "            num_embedding_channels = 64,\n",
        "            num_hidden_channels = 63,\n",
        "            update_net_channel_dims = [32, 32],\n",
        "            embedding: torch.nn.Embedding = None,\n",
        "            step_range = [16, 20],\n",
        "        ):\n",
        "        \n",
        "        super().__init__()\n",
        "        # call this to save args to the checkpoint\n",
        "        self.save_hyperparameters()\n",
        "        \n",
        "        self.lr = lr\n",
        "        self.weight_clip = weight_clip\n",
        "        # self.beta1 = beta1\n",
        "        # self.beta2 = beta2\n",
        "        self.batch_size = batch_size\n",
        "        self.num_embedding_channels = num_embedding_channels\n",
        "        self.num_hidden_channels = num_hidden_channels\n",
        "        self.update_net_channel_dims = update_net_channel_dims\n",
        "        # the channels will be like [alpha, embeddings ... , hiddens ...]\n",
        "        self.num_channels = 1 + self.num_embedding_channels + self.num_hidden_channels\n",
        "        self.world_size = (32,32,32)\n",
        "        self.seed_size = (2,2,2)\n",
        "        self.embedding = embedding\n",
        "        self.embedding.weight.requires_grad=False # freeze embeddings\n",
        "        self.step_range = step_range\n",
        "        \n",
        "        self.generator = VoxelNCAModel(\n",
        "            alpha_living_threshold = 0.1,\n",
        "            cell_fire_rate = 0.5,\n",
        "            num_perceptions = 3,\n",
        "            perception_requires_grad = True,\n",
        "            num_embedding_channels = self.num_embedding_channels,\n",
        "            num_hidden_channels = self.num_hidden_channels,\n",
        "            normal_std = 0.0002,\n",
        "            use_normal_init = True,\n",
        "            zero_bias = True,\n",
        "            update_net_channel_dims = self.update_net_channel_dims,\n",
        "        )\n",
        "        self.discriminator = VoxelDiscriminator(\n",
        "            num_in_channels = self.num_embedding_channels, \n",
        "            use_sigmoid=True,\n",
        "        )\n",
        "        \n",
        "        # generate some random seeds (N, channels, x, y, z)\n",
        "        self.validation_noise = self.make_seed_states(16)\n",
        "        \n",
        "    def make_seed_states(self, batch_size):\n",
        "        return utils.make_seed_state(\n",
        "            batch_size = batch_size,\n",
        "            num_channels = self.num_channels, \n",
        "            alpha_channel_index = 0,\n",
        "            seed_dim = self.seed_size, \n",
        "            world_size = self.world_size,\n",
        "        )\n",
        "    \n",
        "    def training_step(self, batch, batch_idx, optimizer_idx):\n",
        "        \n",
        "        num_steps = random.randint(*self.step_range)\n",
        "\n",
        "        real_houses_indices = batch\n",
        "        type_holder = batch[0,0,0,0].to(torch.float) # this is a dummy type for creating labels\n",
        "        size_this_batch = real_houses_indices.shape[0]\n",
        "                \n",
        "        # make noise\n",
        "        seed_states = self.make_seed_states(size_this_batch).type_as(type_holder) # same batch size as those coming in\n",
        "            \n",
        "        # train generator\n",
        "        if optimizer_idx == 0:\n",
        "\n",
        "            # generate fake houses and get the embedding parts out of it\n",
        "            fake_houses_states = self.generator.forward(seed_states, steps=num_steps)\n",
        "            fake_houses = fake_houses_states[:, 1:self.num_embedding_channels+1, :, :, :]\n",
        "            \n",
        "            # train gen\n",
        "            g_loss = self.train_generator(fake_houses)              \n",
        "            self.log(\"g_loss\", g_loss.detach(), prog_bar=True, logger=True)\n",
        "            return g_loss\n",
        "        \n",
        "        if optimizer_idx == 1:\n",
        "            \n",
        "            # get embeddings for the real house\n",
        "            real_houses = utils.examples2embedding(real_houses_indices, self.embedding)\n",
        "\n",
        "            # generate fake houses\n",
        "            fake_houses_states = self.generator.forward(seed_states, steps=num_steps).detach() # detach so that gradients don't pass back into generator\n",
        "            fake_houses = fake_houses_states[:, 1:self.num_embedding_channels+1, :, :, :] # extract the embedding parts\n",
        "            \n",
        "            # train D\n",
        "            d_loss, real_loss, fake_loss = self.train_discriminator(real_houses, fake_houses)\n",
        "\n",
        "            # logging\n",
        "            self.log(\"fake_loss\", fake_loss.detach(), prog_bar=False, logger=True)\n",
        "            self.log(\"real_loss\", real_loss.detach(), prog_bar=False, logger=True)\n",
        "            self.log(\"d_loss\", d_loss.detach(), prog_bar=True, logger=True)\n",
        "            # TODO implement on acc calculations\n",
        "            # self.log(\"real_acc\", real_acc, prog_bar=False, logger=True)\n",
        "            # self.log(\"fake_acc\", fake_acc, prog_bar=False, logger=True)\n",
        "            # self.log(\"avg_acc\", avg_acc, prog_bar=True, logger=True)\n",
        "\n",
        "            return d_loss\n",
        "\n",
        "    def train_discriminator(self, real_houses, fake_houses):\n",
        "        gurulogger.info('training D')\n",
        "        \n",
        "        # making sure that real and fake have same shape\n",
        "        assert real_houses.shape == fake_houses.shape\n",
        "\n",
        "        # make predictions on real houses and see what D thinks\n",
        "        real_predictions = self.discriminator.forward(real_houses)\n",
        "        # For WGAN, we no longer use binary cross entropy. There is no target here.\n",
        "        real_loss = - torch.mean(real_predictions) # maximising is the same as minimising the negative\n",
        "        \n",
        "        # see what D thinks on fake houses\n",
        "        fake_predictions = self.discriminator.forward(real_houses)\n",
        "        # once again, not BCE here\n",
        "        fake_loss = torch.mean(fake_predictions)\n",
        "        \n",
        "        # make loss the sum\n",
        "        d_loss = real_loss + fake_loss\n",
        "        \n",
        "        # clamp parameters\n",
        "        for param in self.discriminator.parameters():\n",
        "            param.data.clamp_(-self.weight_clip, self.weight_clip)\n",
        "        \n",
        "        return d_loss, real_loss, fake_loss\n",
        "    \n",
        "    def train_generator(self, fake_houses):\n",
        "        gurulogger.info('training G')\n",
        "        # see what D thinks \n",
        "        fake_predictions = self.discriminator.forward(fake_houses)\n",
        "        \n",
        "        # calc loss. We want to maximise the prediction for this one (only doing so with G's parameters)\n",
        "        g_loss = -torch.mean(fake_predictions)\n",
        "        \n",
        "        return g_loss\n",
        "\n",
        "    def configure_optimizers(self):\n",
        "        n_critic = 5\n",
        "        \n",
        "        # for WGAN, use RMSprop\n",
        "        g_optimizer = torch.optim.RMSprop(self.generator.parameters(), lr=self.lr)\n",
        "        d_optimizer = torch.optim.RMSprop(self.discriminator.parameters(), lr=self.lr)\n",
        "        \n",
        "        return [\n",
        "            {\"optimizer\": g_optimizer, \"frequency\": 1},\n",
        "            {\"optimizer\": d_optimizer, \"frequency\": n_critic},\n",
        "        ]"
      ]
    },
    {
      "cell_type": "code",
      "execution_count": 11,
      "metadata": {},
      "outputs": [],
      "source": [
        "model = GANCA_WGAN(\n",
        "    lr = 2e-4,\n",
        "    weight_clip = 0.01,\n",
        "    batch_size = 8,\n",
        "    num_embedding_channels = 64,\n",
        "    num_hidden_channels = 63,\n",
        "    update_net_channel_dims = [16, 16],\n",
        "    embedding = embedding,\n",
        "    step_range = [16, 20],\n",
        ")"
      ]
    },
    {
      "cell_type": "code",
      "execution_count": 7,
      "metadata": {
        "colab": {
          "base_uri": "https://localhost:8080/",
          "height": 156,
          "referenced_widgets": [
            "2bdc0941b3dc499496679c7183fbff37",
            "5ae9d82c8a094e79920bb1724cfe53e8",
            "96facbd6da40424c93f074bafcb76bbe",
            "9ecea295f69c405c93af3df43b354f75",
            "9a928ccf02ae4c668bfc2be196f31376",
            "42edc229ae79434388cea378717a9aaf",
            "a65f1f8a486f47419cab33d55d86d7f9",
            "67c0303d8a574ebe9e5b35036297b8d5",
            "9060020c253a4429bfadca4b37cb5f2c",
            "e369d4e56d89406f83db778df71ffe05",
            "c6fd5703ce2743948c5decccee2d602b"
          ]
        },
        "id": "9HO0hndNY4xr",
        "outputId": "6324c09c-c795-4879-e4fa-0fa57a25e588"
      },
      "outputs": [
        {
          "name": "stdout",
          "output_type": "stream",
          "text": [
            "Dataset already exists\n"
          ]
        },
        {
          "name": "stderr",
          "output_type": "stream",
          "text": [
            "/Users/chaosarium/opt/anaconda3/lib/python3.9/site-packages/pytorch_lightning/core/datamodule.py:175: LightningDeprecationWarning: DataModule property `dims` was deprecated in v1.5 and will be removed in v1.7.\n",
            "  rank_zero_deprecation(\"DataModule property `dims` was deprecated in v1.5 and will be removed in v1.7.\")\n"
          ]
        },
        {
          "data": {
            "application/vnd.jupyter.widget-view+json": {
              "model_id": "955f9bd5d46043c1a8b207dd2a2f74e4",
              "version_major": 2,
              "version_minor": 0
            },
            "text/plain": [
              "  0%|          | 0/1977 [00:00<?, ?it/s]"
            ]
          },
          "metadata": {},
          "output_type": "display_data"
        },
        {
          "name": "stdout",
          "output_type": "stream",
          "text": [
            "loaded 1977 houses\n",
            "Turning MC id into embedding idx. This could take up to a minute.\n"
          ]
        }
      ],
      "source": [
        "dm = GANCA3DDataModule(batch_size=8, num_workers=1, mcid2block = mcid2block, block2embeddingid = block2embeddingidx, debug=True)\n",
        "dm.prepare_data()\n",
        "dm.setup()"
      ]
    },
    {
      "cell_type": "code",
      "execution_count": 12,
      "metadata": {
        "colab": {
          "base_uri": "https://localhost:8080/"
        },
        "id": "1CR1dFG7Y4xr",
        "outputId": "8b398d80-b248-4be9-a5ca-3c034df5637b"
      },
      "outputs": [
        {
          "name": "stderr",
          "output_type": "stream",
          "text": [
            "GPU available: False, used: False\n",
            "TPU available: False, using: 0 TPU cores\n",
            "IPU available: False, using: 0 IPUs\n",
            "Running in fast_dev_run mode: will run a full train, val, test and prediction loop using 1 batch(es).\n"
          ]
        }
      ],
      "source": [
        "logger = pl.loggers.TensorBoardLogger(save_dir='lightning_logs', name='GANCA', default_hp_metric=False)\n",
        "trainer = Trainer(gpus=0, max_epochs=1, fast_dev_run=True, log_every_n_steps=1, logger=logger, profiler=\"simple\")"
      ]
    },
    {
      "cell_type": "code",
      "execution_count": 14,
      "metadata": {
        "colab": {
          "base_uri": "https://localhost:8080/",
          "height": 434,
          "referenced_widgets": [
            "ee702aff0c59434fa13204508cb5d22d",
            "c3805b1dda574f99a51de0c5d55b9680",
            "a5a13ea11c644321af52864783858480",
            "d609d2a11ddc48d2b5bfb05303d090d1",
            "726aa9cc89954c079c5f95faffbd4ac9",
            "dbf6830427734779b2205e75544b5d02",
            "d7c23ef46d9e4b8ab6c4086a11d23d1c",
            "c6254117a2a34d21b9880429680304b8",
            "906bb93fea954f17aec435cdbb592bee",
            "9eb0c4b9d0884e53badf26ab9bcab9c0",
            "dba04c61834b49b79f7bfd2b669a99ba"
          ]
        },
        "id": "QdN43RM2Y4xs",
        "outputId": "d8dcb443-6a68-4de7-b08b-018b8f06dd24"
      },
      "outputs": [
        {
          "name": "stderr",
          "output_type": "stream",
          "text": [
            "\n",
            "  | Name          | Type               | Params\n",
            "-----------------------------------------------------\n",
            "0 | embedding     | Embedding          | 14.0 K\n",
            "1 | generator     | VoxelNCAModel      | 18.8 K\n",
            "2 | discriminator | VoxelDiscriminator | 11.3 M\n",
            "-----------------------------------------------------\n",
            "11.3 M    Trainable params\n",
            "14.0 K    Non-trainable params\n",
            "11.3 M    Total params\n",
            "45.244    Total estimated model params size (MB)\n",
            "/Users/chaosarium/opt/anaconda3/lib/python3.9/site-packages/pytorch_lightning/trainer/data_loading.py:132: UserWarning: The dataloader, train_dataloader, does not have many workers which may be a bottleneck. Consider increasing the value of the `num_workers` argument` (try 8 which is the number of cpus on this machine) in the `DataLoader` init to improve performance.\n",
            "  rank_zero_warn(\n"
          ]
        },
        {
          "name": "stdout",
          "output_type": "stream",
          "text": [
            "Epoch 0:   0%|          | 0/1 [00:00<?, ?it/s] \u001b[34m2022-03-03T09:37:37.756419+0800\u001b[0m \u001b[31m\u001b[1mtraining G\u001b[0m\n",
            "Epoch 0: 100%|██████████| 1/1 [01:36<00:00, 96.80s/it, loss=-0.517, v_num=, g_loss=-.517]"
          ]
        },
        {
          "name": "stderr",
          "output_type": "stream",
          "text": [
            "FIT Profiler Report\n",
            "\n",
            "Action                             \t|  Mean duration (s)\t|Num calls      \t|  Total time (s) \t|  Percentage %   \t|\n",
            "--------------------------------------------------------------------------------------------------------------------------------------\n",
            "Total                              \t|  -              \t|_              \t|  113.38         \t|  100 %          \t|\n",
            "--------------------------------------------------------------------------------------------------------------------------------------\n",
            "run_training_epoch                 \t|  96.808         \t|1              \t|  96.808         \t|  85.38          \t|\n",
            "run_training_batch                 \t|  89.86          \t|1              \t|  89.86          \t|  79.252         \t|\n",
            "optimizer_step_with_closure_0      \t|  89.854         \t|1              \t|  89.854         \t|  79.247         \t|\n",
            "training_step_and_backward         \t|  89.846         \t|1              \t|  89.846         \t|  79.24          \t|\n",
            "backward                           \t|  60.767         \t|1              \t|  60.767         \t|  53.594         \t|\n",
            "model_forward                      \t|  29.079         \t|1              \t|  29.079         \t|  25.646         \t|\n",
            "training_step                      \t|  29.078         \t|1              \t|  29.078         \t|  25.645         \t|\n",
            "get_train_batch                    \t|  2.8647         \t|2              \t|  5.7294         \t|  5.053          \t|\n",
            "fetch_next_train_batch             \t|  2.8646         \t|2              \t|  5.7293         \t|  5.053          \t|\n",
            "on_train_batch_end                 \t|  0.0035344      \t|1              \t|  0.0035344      \t|  0.0031172      \t|\n",
            "on_pretrain_routine_start          \t|  0.0019417      \t|1              \t|  0.0019417      \t|  0.0017125      \t|\n",
            "on_train_start                     \t|  0.001582       \t|1              \t|  0.001582       \t|  0.0013952      \t|\n",
            "training_batch_to_device           \t|  0.00086846     \t|1              \t|  0.00086846     \t|  0.00076594     \t|\n",
            "on_train_epoch_start               \t|  0.00072117     \t|1              \t|  0.00072117     \t|  0.00063604     \t|\n",
            "on_train_epoch_end                 \t|  0.00063313     \t|1              \t|  0.00063313     \t|  0.00055839     \t|\n",
            "on_train_end                       \t|  0.00054917     \t|1              \t|  0.00054917     \t|  0.00048434     \t|\n",
            "zero_grad                          \t|  0.00035458     \t|1              \t|  0.00035458     \t|  0.00031273     \t|\n",
            "on_train_batch_start               \t|  0.00029533     \t|1              \t|  0.00029533     \t|  0.00026047     \t|\n",
            "on_after_backward                  \t|  0.00016592     \t|1              \t|  0.00016592     \t|  0.00014633     \t|\n",
            "configure_optimizers               \t|  0.00011621     \t|1              \t|  0.00011621     \t|  0.00010249     \t|\n",
            "on_batch_start                     \t|  9.6625e-05     \t|1              \t|  9.6625e-05     \t|  8.5219e-05     \t|\n",
            "on_before_zero_grad                \t|  7.5083e-05     \t|1              \t|  7.5083e-05     \t|  6.622e-05      \t|\n",
            "on_fit_end                         \t|  2.7209e-05     \t|1              \t|  2.7209e-05     \t|  2.3997e-05     \t|\n",
            "on_before_optimizer_step           \t|  2.2625e-05     \t|1              \t|  2.2625e-05     \t|  1.9954e-05     \t|\n",
            "on_batch_end                       \t|  1.9375e-05     \t|1              \t|  1.9375e-05     \t|  1.7088e-05     \t|\n",
            "training_step_end                  \t|  1.475e-05      \t|1              \t|  1.475e-05      \t|  1.3009e-05     \t|\n",
            "on_before_backward                 \t|  1.4375e-05     \t|1              \t|  1.4375e-05     \t|  1.2678e-05     \t|\n",
            "on_before_accelerator_backend_setup\t|  1.2709e-05     \t|1              \t|  1.2709e-05     \t|  1.1209e-05     \t|\n",
            "on_epoch_start                     \t|  1.1792e-05     \t|1              \t|  1.1792e-05     \t|  1.04e-05       \t|\n",
            "on_configure_sharded_model         \t|  1.0958e-05     \t|1              \t|  1.0958e-05     \t|  9.6645e-06     \t|\n",
            "configure_callbacks                \t|  1.0542e-05     \t|1              \t|  1.0542e-05     \t|  9.2976e-06     \t|\n",
            "teardown                           \t|  1.0458e-05     \t|1              \t|  1.0458e-05     \t|  9.2235e-06     \t|\n",
            "on_epoch_end                       \t|  9.417e-06      \t|1              \t|  9.417e-06      \t|  8.3054e-06     \t|\n",
            "on_fit_start                       \t|  9.084e-06      \t|1              \t|  9.084e-06      \t|  8.0117e-06     \t|\n",
            "setup                              \t|  8.625e-06      \t|1              \t|  8.625e-06      \t|  7.6069e-06     \t|\n",
            "on_pretrain_routine_end            \t|  7.917e-06      \t|1              \t|  7.917e-06      \t|  6.9824e-06     \t|\n",
            "configure_sharded_model            \t|  3.75e-06       \t|1              \t|  3.75e-06       \t|  3.3073e-06     \t|\n",
            "prepare_data                       \t|  3.042e-06      \t|1              \t|  3.042e-06      \t|  2.6829e-06     \t|\n",
            "on_train_dataloader                \t|  2.75e-06       \t|1              \t|  2.75e-06       \t|  2.4254e-06     \t|\n",
            "\n"
          ]
        },
        {
          "name": "stdout",
          "output_type": "stream",
          "text": [
            "\n"
          ]
        }
      ],
      "source": [
        "trainer.fit(model, dm)"
      ]
    },
    {
      "cell_type": "markdown",
      "metadata": {
        "id": "ja1BsY__Y4xs"
      },
      "source": [
        "## Debug"
      ]
    },
    {
      "cell_type": "code",
      "execution_count": null,
      "metadata": {
        "colab": {
          "base_uri": "https://localhost:8080/"
        },
        "id": "rC-0waBoe_3E",
        "outputId": "5e7bc42d-9730-46e5-b93d-a1365c01bd27"
      },
      "outputs": [
        {
          "name": "stdout",
          "output_type": "stream",
          "text": [
            "Dataset already exists\n",
            "Extracting dataset to dataset/house_data\n"
          ]
        }
      ],
      "source": [
        "data_helper.download_dataset()"
      ]
    },
    {
      "cell_type": "code",
      "execution_count": null,
      "metadata": {
        "id": "20w5XcifY4xt"
      },
      "outputs": [],
      "source": [
        "sample_state = torch.rand(1, 128, 32, 32, 32)\n",
        "sample_seed_state = utils.make_seed_state(\n",
        "    batch_size = 1,\n",
        "    num_channels = 128, \n",
        "    alpha_channel_index = 0,\n",
        "    seed_dim = (4, 4, 4), \n",
        "    world_size = (32,32,32),\n",
        ")"
      ]
    },
    {
      "cell_type": "code",
      "execution_count": null,
      "metadata": {
        "id": "rycvOOifY4xt",
        "outputId": "23325f53-7040-4b26-cadb-97b1404b6bba"
      },
      "outputs": [
        {
          "name": "stdout",
          "output_type": "stream",
          "text": [
            "\u001b[34m2022-02-28T20:32:09.898136+0800\u001b[0m \u001b[31m\u001b[1mit's shape torch.Size([1, 128, 32, 32, 32]) coming in to the perception net\u001b[0m\n",
            "\u001b[34m2022-02-28T20:32:10.059550+0800\u001b[0m \u001b[33m\u001b[1mit's shape torch.Size([1, 384, 32, 32, 32]) coming in to the update net\u001b[0m\n"
          ]
        },
        {
          "data": {
            "text/plain": [
              "tensor(2097196.2500, grad_fn=<SumBackward0>)"
            ]
          },
          "execution_count": 112,
          "metadata": {},
          "output_type": "execute_result"
        }
      ],
      "source": [
        "# before train\n",
        "out1 = model.generator.forward(sample_state, steps=1)\n",
        "torch.sum(out1)"
      ]
    },
    {
      "cell_type": "code",
      "execution_count": null,
      "metadata": {
        "id": "RCDTnkitY4xu",
        "outputId": "22842b52-394d-4232-ca94-d5ae3779cb33"
      },
      "outputs": [
        {
          "name": "stdout",
          "output_type": "stream",
          "text": [
            "\u001b[34m2022-02-28T20:32:54.688500+0800\u001b[0m \u001b[31m\u001b[1mit's shape torch.Size([1, 128, 32, 32, 32]) coming in to the perception net\u001b[0m\n",
            "\u001b[34m2022-02-28T20:32:54.819261+0800\u001b[0m \u001b[33m\u001b[1mit's shape torch.Size([1, 384, 32, 32, 32]) coming in to the update net\u001b[0m\n"
          ]
        },
        {
          "data": {
            "text/plain": [
              "tensor(2097196.2500, grad_fn=<SumBackward0>)"
            ]
          },
          "execution_count": 116,
          "metadata": {},
          "output_type": "execute_result"
        }
      ],
      "source": [
        "# after train\n",
        "out3 = model.generator.forward(sample_state, steps=1)\n",
        "torch.sum(out3)"
      ]
    },
    {
      "cell_type": "code",
      "execution_count": null,
      "metadata": {
        "id": "4CcZAcnsY4xu",
        "outputId": "26bcf16d-c32d-4dde-96d6-57dd690ccd3e"
      },
      "outputs": [
        {
          "data": {
            "text/plain": [
              "False"
            ]
          },
          "execution_count": 117,
          "metadata": {},
          "output_type": "execute_result"
        }
      ],
      "source": [
        "torch.equal(out1, out3)"
      ]
    },
    {
      "cell_type": "code",
      "execution_count": 13,
      "metadata": {
        "id": "oWz2Bx62Y4xu",
        "outputId": "d3d6b648-3553-4694-8b7f-bea9d5069c56"
      },
      "outputs": [
        {
          "ename": "NameError",
          "evalue": "name 'sample_state' is not defined",
          "output_type": "error",
          "traceback": [
            "\u001b[0;31m---------------------------------------------------------------------------\u001b[0m",
            "\u001b[0;31mNameError\u001b[0m                                 Traceback (most recent call last)",
            "\u001b[0;32m/var/folders/tt/63g2nkx15fl855gr711x66540000gn/T/ipykernel_55718/4122752455.py\u001b[0m in \u001b[0;36m<module>\u001b[0;34m\u001b[0m\n\u001b[0;32m----> 1\u001b[0;31m \u001b[0mout2\u001b[0m \u001b[0;34m=\u001b[0m \u001b[0mmodel\u001b[0m\u001b[0;34m.\u001b[0m\u001b[0mgenerator\u001b[0m\u001b[0;34m.\u001b[0m\u001b[0mforward\u001b[0m\u001b[0;34m(\u001b[0m\u001b[0msample_state\u001b[0m\u001b[0;34m,\u001b[0m \u001b[0msteps\u001b[0m\u001b[0;34m=\u001b[0m\u001b[0;36m8\u001b[0m\u001b[0;34m)\u001b[0m\u001b[0;34m\u001b[0m\u001b[0;34m\u001b[0m\u001b[0m\n\u001b[0m\u001b[1;32m      2\u001b[0m \u001b[0mtorch\u001b[0m\u001b[0;34m.\u001b[0m\u001b[0msum\u001b[0m\u001b[0;34m(\u001b[0m\u001b[0mout2\u001b[0m\u001b[0;34m)\u001b[0m\u001b[0;34m\u001b[0m\u001b[0;34m\u001b[0m\u001b[0m\n",
            "\u001b[0;31mNameError\u001b[0m: name 'sample_state' is not defined"
          ]
        }
      ],
      "source": [
        "out2 = model.generator.forward(sample_state, steps=8)\n",
        "torch.sum(out2)"
      ]
    },
    {
      "cell_type": "code",
      "execution_count": null,
      "metadata": {},
      "outputs": [],
      "source": []
    }
  ],
  "metadata": {
    "accelerator": "GPU",
    "colab": {
      "collapsed_sections": [],
      "include_colab_link": true,
      "machine_shape": "hm",
      "name": "Copy of GANCA train.ipynb",
      "provenance": []
    },
    "interpreter": {
      "hash": "0228fee4d25496bb422a7e0c363e636da60e8258e4b70dda8036e2defd0af2d7"
    },
    "kernelspec": {
      "display_name": "Python 3.9.7 ('base')",
      "language": "python",
      "name": "python3"
    },
    "language_info": {
      "codemirror_mode": {
        "name": "ipython",
        "version": 3
      },
      "file_extension": ".py",
      "mimetype": "text/x-python",
      "name": "python",
      "nbconvert_exporter": "python",
      "pygments_lexer": "ipython3",
      "version": "3.9.7"
    },
    "orig_nbformat": 4,
    "widgets": {
      "application/vnd.jupyter.widget-state+json": {
        "2bdc0941b3dc499496679c7183fbff37": {
          "model_module": "@jupyter-widgets/controls",
          "model_module_version": "1.5.0",
          "model_name": "HBoxModel",
          "state": {
            "_dom_classes": [],
            "_model_module": "@jupyter-widgets/controls",
            "_model_module_version": "1.5.0",
            "_model_name": "HBoxModel",
            "_view_count": null,
            "_view_module": "@jupyter-widgets/controls",
            "_view_module_version": "1.5.0",
            "_view_name": "HBoxView",
            "box_style": "",
            "children": [
              "IPY_MODEL_96facbd6da40424c93f074bafcb76bbe",
              "IPY_MODEL_9ecea295f69c405c93af3df43b354f75",
              "IPY_MODEL_9a928ccf02ae4c668bfc2be196f31376"
            ],
            "layout": "IPY_MODEL_5ae9d82c8a094e79920bb1724cfe53e8"
          }
        },
        "42edc229ae79434388cea378717a9aaf": {
          "model_module": "@jupyter-widgets/controls",
          "model_module_version": "1.5.0",
          "model_name": "DescriptionStyleModel",
          "state": {
            "_model_module": "@jupyter-widgets/controls",
            "_model_module_version": "1.5.0",
            "_model_name": "DescriptionStyleModel",
            "_view_count": null,
            "_view_module": "@jupyter-widgets/base",
            "_view_module_version": "1.2.0",
            "_view_name": "StyleView",
            "description_width": ""
          }
        },
        "5ae9d82c8a094e79920bb1724cfe53e8": {
          "model_module": "@jupyter-widgets/base",
          "model_module_version": "1.2.0",
          "model_name": "LayoutModel",
          "state": {
            "_model_module": "@jupyter-widgets/base",
            "_model_module_version": "1.2.0",
            "_model_name": "LayoutModel",
            "_view_count": null,
            "_view_module": "@jupyter-widgets/base",
            "_view_module_version": "1.2.0",
            "_view_name": "LayoutView",
            "align_content": null,
            "align_items": null,
            "align_self": null,
            "border": null,
            "bottom": null,
            "display": null,
            "flex": null,
            "flex_flow": null,
            "grid_area": null,
            "grid_auto_columns": null,
            "grid_auto_flow": null,
            "grid_auto_rows": null,
            "grid_column": null,
            "grid_gap": null,
            "grid_row": null,
            "grid_template_areas": null,
            "grid_template_columns": null,
            "grid_template_rows": null,
            "height": null,
            "justify_content": null,
            "justify_items": null,
            "left": null,
            "margin": null,
            "max_height": null,
            "max_width": null,
            "min_height": null,
            "min_width": null,
            "object_fit": null,
            "object_position": null,
            "order": null,
            "overflow": null,
            "overflow_x": null,
            "overflow_y": null,
            "padding": null,
            "right": null,
            "top": null,
            "visibility": null,
            "width": null
          }
        },
        "67c0303d8a574ebe9e5b35036297b8d5": {
          "model_module": "@jupyter-widgets/controls",
          "model_module_version": "1.5.0",
          "model_name": "ProgressStyleModel",
          "state": {
            "_model_module": "@jupyter-widgets/controls",
            "_model_module_version": "1.5.0",
            "_model_name": "ProgressStyleModel",
            "_view_count": null,
            "_view_module": "@jupyter-widgets/base",
            "_view_module_version": "1.2.0",
            "_view_name": "StyleView",
            "bar_color": null,
            "description_width": ""
          }
        },
        "726aa9cc89954c079c5f95faffbd4ac9": {
          "model_module": "@jupyter-widgets/controls",
          "model_module_version": "1.5.0",
          "model_name": "HTMLModel",
          "state": {
            "_dom_classes": [],
            "_model_module": "@jupyter-widgets/controls",
            "_model_module_version": "1.5.0",
            "_model_name": "HTMLModel",
            "_view_count": null,
            "_view_module": "@jupyter-widgets/controls",
            "_view_module_version": "1.5.0",
            "_view_name": "HTMLView",
            "description": "",
            "description_tooltip": null,
            "layout": "IPY_MODEL_dba04c61834b49b79f7bfd2b669a99ba",
            "placeholder": "​",
            "style": "IPY_MODEL_9eb0c4b9d0884e53badf26ab9bcab9c0",
            "value": " 100/200 [03:06&lt;03:06,  1.86s/it, loss=5.49, v_num=0, g_loss=10.90, d_loss=3.16e-5, avg_acc=1.000]"
          }
        },
        "9060020c253a4429bfadca4b37cb5f2c": {
          "model_module": "@jupyter-widgets/base",
          "model_module_version": "1.2.0",
          "model_name": "LayoutModel",
          "state": {
            "_model_module": "@jupyter-widgets/base",
            "_model_module_version": "1.2.0",
            "_model_name": "LayoutModel",
            "_view_count": null,
            "_view_module": "@jupyter-widgets/base",
            "_view_module_version": "1.2.0",
            "_view_name": "LayoutView",
            "align_content": null,
            "align_items": null,
            "align_self": null,
            "border": null,
            "bottom": null,
            "display": null,
            "flex": null,
            "flex_flow": null,
            "grid_area": null,
            "grid_auto_columns": null,
            "grid_auto_flow": null,
            "grid_auto_rows": null,
            "grid_column": null,
            "grid_gap": null,
            "grid_row": null,
            "grid_template_areas": null,
            "grid_template_columns": null,
            "grid_template_rows": null,
            "height": null,
            "justify_content": null,
            "justify_items": null,
            "left": null,
            "margin": null,
            "max_height": null,
            "max_width": null,
            "min_height": null,
            "min_width": null,
            "object_fit": null,
            "object_position": null,
            "order": null,
            "overflow": null,
            "overflow_x": null,
            "overflow_y": null,
            "padding": null,
            "right": null,
            "top": null,
            "visibility": null,
            "width": null
          }
        },
        "906bb93fea954f17aec435cdbb592bee": {
          "model_module": "@jupyter-widgets/base",
          "model_module_version": "1.2.0",
          "model_name": "LayoutModel",
          "state": {
            "_model_module": "@jupyter-widgets/base",
            "_model_module_version": "1.2.0",
            "_model_name": "LayoutModel",
            "_view_count": null,
            "_view_module": "@jupyter-widgets/base",
            "_view_module_version": "1.2.0",
            "_view_name": "LayoutView",
            "align_content": null,
            "align_items": null,
            "align_self": null,
            "border": null,
            "bottom": null,
            "display": null,
            "flex": "2",
            "flex_flow": null,
            "grid_area": null,
            "grid_auto_columns": null,
            "grid_auto_flow": null,
            "grid_auto_rows": null,
            "grid_column": null,
            "grid_gap": null,
            "grid_row": null,
            "grid_template_areas": null,
            "grid_template_columns": null,
            "grid_template_rows": null,
            "height": null,
            "justify_content": null,
            "justify_items": null,
            "left": null,
            "margin": null,
            "max_height": null,
            "max_width": null,
            "min_height": null,
            "min_width": null,
            "object_fit": null,
            "object_position": null,
            "order": null,
            "overflow": null,
            "overflow_x": null,
            "overflow_y": null,
            "padding": null,
            "right": null,
            "top": null,
            "visibility": null,
            "width": null
          }
        },
        "96facbd6da40424c93f074bafcb76bbe": {
          "model_module": "@jupyter-widgets/controls",
          "model_module_version": "1.5.0",
          "model_name": "HTMLModel",
          "state": {
            "_dom_classes": [],
            "_model_module": "@jupyter-widgets/controls",
            "_model_module_version": "1.5.0",
            "_model_name": "HTMLModel",
            "_view_count": null,
            "_view_module": "@jupyter-widgets/controls",
            "_view_module_version": "1.5.0",
            "_view_name": "HTMLView",
            "description": "",
            "description_tooltip": null,
            "layout": "IPY_MODEL_a65f1f8a486f47419cab33d55d86d7f9",
            "placeholder": "​",
            "style": "IPY_MODEL_42edc229ae79434388cea378717a9aaf",
            "value": "100%"
          }
        },
        "9a928ccf02ae4c668bfc2be196f31376": {
          "model_module": "@jupyter-widgets/controls",
          "model_module_version": "1.5.0",
          "model_name": "HTMLModel",
          "state": {
            "_dom_classes": [],
            "_model_module": "@jupyter-widgets/controls",
            "_model_module_version": "1.5.0",
            "_model_name": "HTMLModel",
            "_view_count": null,
            "_view_module": "@jupyter-widgets/controls",
            "_view_module_version": "1.5.0",
            "_view_name": "HTMLView",
            "description": "",
            "description_tooltip": null,
            "layout": "IPY_MODEL_c6fd5703ce2743948c5decccee2d602b",
            "placeholder": "​",
            "style": "IPY_MODEL_e369d4e56d89406f83db778df71ffe05",
            "value": " 1977/1977 [00:01&lt;00:00, 1319.86it/s]"
          }
        },
        "9eb0c4b9d0884e53badf26ab9bcab9c0": {
          "model_module": "@jupyter-widgets/controls",
          "model_module_version": "1.5.0",
          "model_name": "DescriptionStyleModel",
          "state": {
            "_model_module": "@jupyter-widgets/controls",
            "_model_module_version": "1.5.0",
            "_model_name": "DescriptionStyleModel",
            "_view_count": null,
            "_view_module": "@jupyter-widgets/base",
            "_view_module_version": "1.2.0",
            "_view_name": "StyleView",
            "description_width": ""
          }
        },
        "9ecea295f69c405c93af3df43b354f75": {
          "model_module": "@jupyter-widgets/controls",
          "model_module_version": "1.5.0",
          "model_name": "FloatProgressModel",
          "state": {
            "_dom_classes": [],
            "_model_module": "@jupyter-widgets/controls",
            "_model_module_version": "1.5.0",
            "_model_name": "FloatProgressModel",
            "_view_count": null,
            "_view_module": "@jupyter-widgets/controls",
            "_view_module_version": "1.5.0",
            "_view_name": "ProgressView",
            "bar_style": "success",
            "description": "",
            "description_tooltip": null,
            "layout": "IPY_MODEL_9060020c253a4429bfadca4b37cb5f2c",
            "max": 1977,
            "min": 0,
            "orientation": "horizontal",
            "style": "IPY_MODEL_67c0303d8a574ebe9e5b35036297b8d5",
            "value": 1977
          }
        },
        "a5a13ea11c644321af52864783858480": {
          "model_module": "@jupyter-widgets/controls",
          "model_module_version": "1.5.0",
          "model_name": "HTMLModel",
          "state": {
            "_dom_classes": [],
            "_model_module": "@jupyter-widgets/controls",
            "_model_module_version": "1.5.0",
            "_model_name": "HTMLModel",
            "_view_count": null,
            "_view_module": "@jupyter-widgets/controls",
            "_view_module_version": "1.5.0",
            "_view_name": "HTMLView",
            "description": "",
            "description_tooltip": null,
            "layout": "IPY_MODEL_d7c23ef46d9e4b8ab6c4086a11d23d1c",
            "placeholder": "​",
            "style": "IPY_MODEL_dbf6830427734779b2205e75544b5d02",
            "value": "Epoch 0:  50%"
          }
        },
        "a65f1f8a486f47419cab33d55d86d7f9": {
          "model_module": "@jupyter-widgets/base",
          "model_module_version": "1.2.0",
          "model_name": "LayoutModel",
          "state": {
            "_model_module": "@jupyter-widgets/base",
            "_model_module_version": "1.2.0",
            "_model_name": "LayoutModel",
            "_view_count": null,
            "_view_module": "@jupyter-widgets/base",
            "_view_module_version": "1.2.0",
            "_view_name": "LayoutView",
            "align_content": null,
            "align_items": null,
            "align_self": null,
            "border": null,
            "bottom": null,
            "display": null,
            "flex": null,
            "flex_flow": null,
            "grid_area": null,
            "grid_auto_columns": null,
            "grid_auto_flow": null,
            "grid_auto_rows": null,
            "grid_column": null,
            "grid_gap": null,
            "grid_row": null,
            "grid_template_areas": null,
            "grid_template_columns": null,
            "grid_template_rows": null,
            "height": null,
            "justify_content": null,
            "justify_items": null,
            "left": null,
            "margin": null,
            "max_height": null,
            "max_width": null,
            "min_height": null,
            "min_width": null,
            "object_fit": null,
            "object_position": null,
            "order": null,
            "overflow": null,
            "overflow_x": null,
            "overflow_y": null,
            "padding": null,
            "right": null,
            "top": null,
            "visibility": null,
            "width": null
          }
        },
        "c3805b1dda574f99a51de0c5d55b9680": {
          "model_module": "@jupyter-widgets/base",
          "model_module_version": "1.2.0",
          "model_name": "LayoutModel",
          "state": {
            "_model_module": "@jupyter-widgets/base",
            "_model_module_version": "1.2.0",
            "_model_name": "LayoutModel",
            "_view_count": null,
            "_view_module": "@jupyter-widgets/base",
            "_view_module_version": "1.2.0",
            "_view_name": "LayoutView",
            "align_content": null,
            "align_items": null,
            "align_self": null,
            "border": null,
            "bottom": null,
            "display": "inline-flex",
            "flex": null,
            "flex_flow": "row wrap",
            "grid_area": null,
            "grid_auto_columns": null,
            "grid_auto_flow": null,
            "grid_auto_rows": null,
            "grid_column": null,
            "grid_gap": null,
            "grid_row": null,
            "grid_template_areas": null,
            "grid_template_columns": null,
            "grid_template_rows": null,
            "height": null,
            "justify_content": null,
            "justify_items": null,
            "left": null,
            "margin": null,
            "max_height": null,
            "max_width": null,
            "min_height": null,
            "min_width": null,
            "object_fit": null,
            "object_position": null,
            "order": null,
            "overflow": null,
            "overflow_x": null,
            "overflow_y": null,
            "padding": null,
            "right": null,
            "top": null,
            "visibility": null,
            "width": "100%"
          }
        },
        "c6254117a2a34d21b9880429680304b8": {
          "model_module": "@jupyter-widgets/controls",
          "model_module_version": "1.5.0",
          "model_name": "ProgressStyleModel",
          "state": {
            "_model_module": "@jupyter-widgets/controls",
            "_model_module_version": "1.5.0",
            "_model_name": "ProgressStyleModel",
            "_view_count": null,
            "_view_module": "@jupyter-widgets/base",
            "_view_module_version": "1.2.0",
            "_view_name": "StyleView",
            "bar_color": null,
            "description_width": ""
          }
        },
        "c6fd5703ce2743948c5decccee2d602b": {
          "model_module": "@jupyter-widgets/base",
          "model_module_version": "1.2.0",
          "model_name": "LayoutModel",
          "state": {
            "_model_module": "@jupyter-widgets/base",
            "_model_module_version": "1.2.0",
            "_model_name": "LayoutModel",
            "_view_count": null,
            "_view_module": "@jupyter-widgets/base",
            "_view_module_version": "1.2.0",
            "_view_name": "LayoutView",
            "align_content": null,
            "align_items": null,
            "align_self": null,
            "border": null,
            "bottom": null,
            "display": null,
            "flex": null,
            "flex_flow": null,
            "grid_area": null,
            "grid_auto_columns": null,
            "grid_auto_flow": null,
            "grid_auto_rows": null,
            "grid_column": null,
            "grid_gap": null,
            "grid_row": null,
            "grid_template_areas": null,
            "grid_template_columns": null,
            "grid_template_rows": null,
            "height": null,
            "justify_content": null,
            "justify_items": null,
            "left": null,
            "margin": null,
            "max_height": null,
            "max_width": null,
            "min_height": null,
            "min_width": null,
            "object_fit": null,
            "object_position": null,
            "order": null,
            "overflow": null,
            "overflow_x": null,
            "overflow_y": null,
            "padding": null,
            "right": null,
            "top": null,
            "visibility": null,
            "width": null
          }
        },
        "d609d2a11ddc48d2b5bfb05303d090d1": {
          "model_module": "@jupyter-widgets/controls",
          "model_module_version": "1.5.0",
          "model_name": "FloatProgressModel",
          "state": {
            "_dom_classes": [],
            "_model_module": "@jupyter-widgets/controls",
            "_model_module_version": "1.5.0",
            "_model_name": "FloatProgressModel",
            "_view_count": null,
            "_view_module": "@jupyter-widgets/controls",
            "_view_module_version": "1.5.0",
            "_view_name": "ProgressView",
            "bar_style": "",
            "description": "",
            "description_tooltip": null,
            "layout": "IPY_MODEL_906bb93fea954f17aec435cdbb592bee",
            "max": 200,
            "min": 0,
            "orientation": "horizontal",
            "style": "IPY_MODEL_c6254117a2a34d21b9880429680304b8",
            "value": 100
          }
        },
        "d7c23ef46d9e4b8ab6c4086a11d23d1c": {
          "model_module": "@jupyter-widgets/base",
          "model_module_version": "1.2.0",
          "model_name": "LayoutModel",
          "state": {
            "_model_module": "@jupyter-widgets/base",
            "_model_module_version": "1.2.0",
            "_model_name": "LayoutModel",
            "_view_count": null,
            "_view_module": "@jupyter-widgets/base",
            "_view_module_version": "1.2.0",
            "_view_name": "LayoutView",
            "align_content": null,
            "align_items": null,
            "align_self": null,
            "border": null,
            "bottom": null,
            "display": null,
            "flex": null,
            "flex_flow": null,
            "grid_area": null,
            "grid_auto_columns": null,
            "grid_auto_flow": null,
            "grid_auto_rows": null,
            "grid_column": null,
            "grid_gap": null,
            "grid_row": null,
            "grid_template_areas": null,
            "grid_template_columns": null,
            "grid_template_rows": null,
            "height": null,
            "justify_content": null,
            "justify_items": null,
            "left": null,
            "margin": null,
            "max_height": null,
            "max_width": null,
            "min_height": null,
            "min_width": null,
            "object_fit": null,
            "object_position": null,
            "order": null,
            "overflow": null,
            "overflow_x": null,
            "overflow_y": null,
            "padding": null,
            "right": null,
            "top": null,
            "visibility": null,
            "width": null
          }
        },
        "dba04c61834b49b79f7bfd2b669a99ba": {
          "model_module": "@jupyter-widgets/base",
          "model_module_version": "1.2.0",
          "model_name": "LayoutModel",
          "state": {
            "_model_module": "@jupyter-widgets/base",
            "_model_module_version": "1.2.0",
            "_model_name": "LayoutModel",
            "_view_count": null,
            "_view_module": "@jupyter-widgets/base",
            "_view_module_version": "1.2.0",
            "_view_name": "LayoutView",
            "align_content": null,
            "align_items": null,
            "align_self": null,
            "border": null,
            "bottom": null,
            "display": null,
            "flex": null,
            "flex_flow": null,
            "grid_area": null,
            "grid_auto_columns": null,
            "grid_auto_flow": null,
            "grid_auto_rows": null,
            "grid_column": null,
            "grid_gap": null,
            "grid_row": null,
            "grid_template_areas": null,
            "grid_template_columns": null,
            "grid_template_rows": null,
            "height": null,
            "justify_content": null,
            "justify_items": null,
            "left": null,
            "margin": null,
            "max_height": null,
            "max_width": null,
            "min_height": null,
            "min_width": null,
            "object_fit": null,
            "object_position": null,
            "order": null,
            "overflow": null,
            "overflow_x": null,
            "overflow_y": null,
            "padding": null,
            "right": null,
            "top": null,
            "visibility": null,
            "width": null
          }
        },
        "dbf6830427734779b2205e75544b5d02": {
          "model_module": "@jupyter-widgets/controls",
          "model_module_version": "1.5.0",
          "model_name": "DescriptionStyleModel",
          "state": {
            "_model_module": "@jupyter-widgets/controls",
            "_model_module_version": "1.5.0",
            "_model_name": "DescriptionStyleModel",
            "_view_count": null,
            "_view_module": "@jupyter-widgets/base",
            "_view_module_version": "1.2.0",
            "_view_name": "StyleView",
            "description_width": ""
          }
        },
        "e369d4e56d89406f83db778df71ffe05": {
          "model_module": "@jupyter-widgets/controls",
          "model_module_version": "1.5.0",
          "model_name": "DescriptionStyleModel",
          "state": {
            "_model_module": "@jupyter-widgets/controls",
            "_model_module_version": "1.5.0",
            "_model_name": "DescriptionStyleModel",
            "_view_count": null,
            "_view_module": "@jupyter-widgets/base",
            "_view_module_version": "1.2.0",
            "_view_name": "StyleView",
            "description_width": ""
          }
        },
        "ee702aff0c59434fa13204508cb5d22d": {
          "model_module": "@jupyter-widgets/controls",
          "model_module_version": "1.5.0",
          "model_name": "HBoxModel",
          "state": {
            "_dom_classes": [],
            "_model_module": "@jupyter-widgets/controls",
            "_model_module_version": "1.5.0",
            "_model_name": "HBoxModel",
            "_view_count": null,
            "_view_module": "@jupyter-widgets/controls",
            "_view_module_version": "1.5.0",
            "_view_name": "HBoxView",
            "box_style": "",
            "children": [
              "IPY_MODEL_a5a13ea11c644321af52864783858480",
              "IPY_MODEL_d609d2a11ddc48d2b5bfb05303d090d1",
              "IPY_MODEL_726aa9cc89954c079c5f95faffbd4ac9"
            ],
            "layout": "IPY_MODEL_c3805b1dda574f99a51de0c5d55b9680"
          }
        }
      }
    }
  },
  "nbformat": 4,
  "nbformat_minor": 0
}
