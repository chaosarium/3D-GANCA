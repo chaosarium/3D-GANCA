{
 "cells": [
  {
   "cell_type": "code",
   "execution_count": 35,
   "metadata": {},
   "outputs": [],
   "source": [
    "import os\n",
    "import glob\n",
    "DATA_DIR = \"house_data/houses\"\n",
    "\n",
    "fileList = glob.glob(DATA_DIR + '/*/*.png', recursive=True)"
   ]
  },
  {
   "cell_type": "code",
   "execution_count": 36,
   "metadata": {},
   "outputs": [
    {
     "data": {
      "text/plain": [
       "['house_data/houses/workdir.2018-06-23-17:52:57.ip-172-31-8-72/chunky.135.png',\n",
       " 'house_data/houses/workdir.2018-06-23-17:52:57.ip-172-31-8-72/chunky.45.png',\n",
       " 'house_data/houses/workdir.2018-06-23-17:52:57.ip-172-31-8-72/chunky.90.png',\n",
       " 'house_data/houses/workdir.2018-06-23-17:52:57.ip-172-31-8-72/chunky.225.png',\n",
       " 'house_data/houses/workdir.2018-06-23-17:52:57.ip-172-31-8-72/chunky.180.png',\n",
       " 'house_data/houses/workdir.2018-06-23-17:52:57.ip-172-31-8-72/chunky.0.png',\n",
       " 'house_data/houses/workdir.2018-06-23-17:52:57.ip-172-31-8-72/chunky.270.png',\n",
       " 'house_data/houses/workdir.2018-06-23-17:52:57.ip-172-31-8-72/chunky.315.png',\n",
       " 'house_data/houses/workdir.2018-06-24-21:46:52.ip-172-31-9-70/chunky.135.png',\n",
       " 'house_data/houses/workdir.2018-06-24-21:46:52.ip-172-31-9-70/chunky.45.png']"
      ]
     },
     "execution_count": 36,
     "metadata": {},
     "output_type": "execute_result"
    }
   ],
   "source": [
    "fileList[:10]"
   ]
  },
  {
   "cell_type": "code",
   "execution_count": 37,
   "metadata": {},
   "outputs": [],
   "source": [
    "for filePath in fileList:\n",
    "    try:\n",
    "        os.remove(filePath)\n",
    "    except:\n",
    "        print(\"Error while deleting file : \", filePath)"
   ]
  },
  {
   "cell_type": "code",
   "execution_count": 40,
   "metadata": {},
   "outputs": [
    {
     "data": {
      "text/plain": [
       "2512"
      ]
     },
     "execution_count": 40,
     "metadata": {},
     "output_type": "execute_result"
    }
   ],
   "source": [
    "import os\n",
    "import glob\n",
    "DATA_DIR = \"house_data/houses\"\n",
    "\n",
    "fileList = glob.glob(DATA_DIR + '/*/placed.json', recursive=True)\n",
    "len(fileList)"
   ]
  },
  {
   "cell_type": "code",
   "execution_count": 41,
   "metadata": {},
   "outputs": [
    {
     "data": {
      "text/plain": [
       "['house_data/houses/workdir.2018-08-27-02:34:57.ip-172-31-11-175/placed.json',\n",
       " 'house_data/houses/workdir.2018-08-25-03:26:13.ip-172-31-13-169/placed.json',\n",
       " 'house_data/houses/workdir.2018-08-24-21:43:51.ip-172-31-9-19/placed.json',\n",
       " 'house_data/houses/workdir.2018-08-10-05:48:27.ip-172-31-3-43/placed.json',\n",
       " 'house_data/houses/workdir.2018-08-26-18:49:04.ip-172-31-10-229/placed.json',\n",
       " 'house_data/houses/workdir.2018-08-23-12:13:50.ip-172-31-4-211/placed.json',\n",
       " 'house_data/houses/workdir.2018-08-28-02:26:04.ip-172-31-14-122/placed.json',\n",
       " 'house_data/houses/workdir.2018-08-25-20:25:54.ip-172-31-10-226/placed.json',\n",
       " 'house_data/houses/workdir.2018-08-26-21:04:17.ip-172-31-14-80/placed.json',\n",
       " 'house_data/houses/workdir.2018-08-04-01:04:03.ip-172-31-13-182/placed.json']"
      ]
     },
     "execution_count": 41,
     "metadata": {},
     "output_type": "execute_result"
    }
   ],
   "source": [
    "fileList[:10]"
   ]
  },
  {
   "cell_type": "code",
   "execution_count": 42,
   "metadata": {},
   "outputs": [],
   "source": [
    "for filePath in fileList:\n",
    "    try:\n",
    "        os.remove(filePath)\n",
    "    except:\n",
    "        print(\"Error while deleting file : \", filePath)"
   ]
  },
  {
   "cell_type": "code",
   "execution_count": 45,
   "metadata": {},
   "outputs": [
    {
     "data": {
      "text/plain": [
       "2515"
      ]
     },
     "execution_count": 45,
     "metadata": {},
     "output_type": "execute_result"
    }
   ],
   "source": [
    "import os\n",
    "import glob\n",
    "DATA_DIR = \"house_data/houses\"\n",
    "\n",
    "fileList = glob.glob(DATA_DIR + '/*/stats.json', recursive=True)\n",
    "len(fileList)"
   ]
  },
  {
   "cell_type": "code",
   "execution_count": 46,
   "metadata": {},
   "outputs": [
    {
     "data": {
      "text/plain": [
       "['house_data/houses/workdir.2018-08-27-02:34:57.ip-172-31-11-175/stats.json',\n",
       " 'house_data/houses/workdir.2018-08-25-03:26:13.ip-172-31-13-169/stats.json',\n",
       " 'house_data/houses/workdir.2018-08-24-21:43:51.ip-172-31-9-19/stats.json',\n",
       " 'house_data/houses/workdir.2018-08-10-05:48:27.ip-172-31-3-43/stats.json',\n",
       " 'house_data/houses/workdir.2018-08-26-18:49:04.ip-172-31-10-229/stats.json',\n",
       " 'house_data/houses/workdir.2018-08-23-12:13:50.ip-172-31-4-211/stats.json',\n",
       " 'house_data/houses/workdir.2018-08-28-02:26:04.ip-172-31-14-122/stats.json',\n",
       " 'house_data/houses/workdir.2018-08-25-20:25:54.ip-172-31-10-226/stats.json',\n",
       " 'house_data/houses/workdir.2018-08-26-21:04:17.ip-172-31-14-80/stats.json',\n",
       " 'house_data/houses/workdir.2018-08-04-01:04:03.ip-172-31-13-182/stats.json']"
      ]
     },
     "execution_count": 46,
     "metadata": {},
     "output_type": "execute_result"
    }
   ],
   "source": [
    "fileList[:10]"
   ]
  },
  {
   "cell_type": "code",
   "execution_count": 47,
   "metadata": {},
   "outputs": [],
   "source": [
    "for filePath in fileList:\n",
    "    try:\n",
    "        os.remove(filePath)\n",
    "    except:\n",
    "        print(\"Error while deleting file : \", filePath)"
   ]
  },
  {
   "cell_type": "code",
   "execution_count": 48,
   "metadata": {},
   "outputs": [
    {
     "data": {
      "text/plain": [
       "112"
      ]
     },
     "execution_count": 48,
     "metadata": {},
     "output_type": "execute_result"
    }
   ],
   "source": [
    "import os\n",
    "import glob\n",
    "DATA_DIR = \"house_data/houses\"\n",
    "\n",
    "fileList = glob.glob(DATA_DIR + '/*/*.bin', recursive=True)\n",
    "len(fileList)"
   ]
  },
  {
   "cell_type": "code",
   "execution_count": 49,
   "metadata": {},
   "outputs": [
    {
     "data": {
      "text/plain": [
       "['house_data/houses/workdir.2018-06-25-02:02:57.ip-172-31-3-94/depth.225.bin',\n",
       " 'house_data/houses/workdir.2018-06-25-02:02:57.ip-172-31-3-94/block.135.bin',\n",
       " 'house_data/houses/workdir.2018-06-25-02:02:57.ip-172-31-3-94/depth.90.bin',\n",
       " 'house_data/houses/workdir.2018-06-25-02:02:57.ip-172-31-3-94/depth.180.bin',\n",
       " 'house_data/houses/workdir.2018-06-25-02:02:57.ip-172-31-3-94/depth.45.bin',\n",
       " 'house_data/houses/workdir.2018-06-25-02:02:57.ip-172-31-3-94/block.0.bin',\n",
       " 'house_data/houses/workdir.2018-06-25-02:02:57.ip-172-31-3-94/block.180.bin',\n",
       " 'house_data/houses/workdir.2018-06-25-02:02:57.ip-172-31-3-94/block.225.bin',\n",
       " 'house_data/houses/workdir.2018-06-25-02:02:57.ip-172-31-3-94/depth.135.bin',\n",
       " 'house_data/houses/workdir.2018-06-25-02:02:57.ip-172-31-3-94/depth.0.bin']"
      ]
     },
     "execution_count": 49,
     "metadata": {},
     "output_type": "execute_result"
    }
   ],
   "source": [
    "fileList[:10]"
   ]
  },
  {
   "cell_type": "code",
   "execution_count": 50,
   "metadata": {},
   "outputs": [],
   "source": [
    "for filePath in fileList:\n",
    "    try:\n",
    "        os.remove(filePath)\n",
    "    except:\n",
    "        print(\"Error while deleting file : \", filePath)"
   ]
  },
  {
   "cell_type": "code",
   "execution_count": null,
   "metadata": {},
   "outputs": [],
   "source": []
  }
 ],
 "metadata": {
  "interpreter": {
   "hash": "5a8d7ae5c7f0d87e5344f9e6608bfcb3eb27eaba4a1efb346157a5f4c9c93fcf"
  },
  "kernelspec": {
   "display_name": "Python 3.9.7 64-bit ('base': conda)",
   "language": "python",
   "name": "python3"
  },
  "language_info": {
   "codemirror_mode": {
    "name": "ipython",
    "version": 3
   },
   "file_extension": ".py",
   "mimetype": "text/x-python",
   "name": "python",
   "nbconvert_exporter": "python",
   "pygments_lexer": "ipython3",
   "version": "3.9.7"
  },
  "orig_nbformat": 4
 },
 "nbformat": 4,
 "nbformat_minor": 2
}
